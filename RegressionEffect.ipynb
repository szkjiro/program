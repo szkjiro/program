{
  "nbformat": 4,
  "nbformat_minor": 0,
  "metadata": {
    "colab": {
      "provenance": [],
      "include_colab_link": true
    },
    "kernelspec": {
      "name": "python3",
      "display_name": "Python 3"
    },
    "language_info": {
      "name": "python"
    }
  },
  "cells": [
    {
      "cell_type": "markdown",
      "metadata": {
        "id": "view-in-github",
        "colab_type": "text"
      },
      "source": [
        "<a href=\"https://colab.research.google.com/github/szkjiro/program/blob/main/RegressionEffect.ipynb\" target=\"_parent\"><img src=\"https://colab.research.google.com/assets/colab-badge.svg\" alt=\"Open In Colab\"/></a>"
      ]
    },
    {
      "cell_type": "markdown",
      "source": [
        "以下のプログラムを実行すると，あなたが指導する生徒にとらせたい目標得点の入力画面になる．適当な数値（0より大きく100未満）を入力したらEnterキーを押し，実行を続けてほしい．あなたが指導する生徒がテストの得点を返すので褒める／叱るを繰り返してほしい．何回か指導すると終了する．"
      ],
      "metadata": {
        "id": "B4N7S_IuFrFH"
      }
    },
    {
      "cell_type": "code",
      "execution_count": null,
      "metadata": {
        "id": "0NkJfHhLNmLQ"
      },
      "outputs": [],
      "source": [
        "import tkinter.ttk as ttk\n",
        "import numpy\n",
        "print('目標得点（＜100，半角数字）を入力してください')\n",
        "Target = int(input())\n",
        "print('目標得点は{:2g}点です'.format(Target))\n",
        "\n",
        "for i in range(10):\n",
        "  Tokuten = numpy.ceil(numpy.random.normal(loc=Target,scale=10,size=None))\n",
        "  print('得点は{:2g}点です'.format(Tokuten))\n",
        "  print('ほめるときは数字1を，しかるときは数字0（半角数字）を入力してください')\n",
        "  YesNo = int(input())\n",
        "  if YesNo == 1:\n",
        "    print('あなたは誉めました')\n",
        "  else:\n",
        "    print('あなたは叱りました')\n",
        "print('あなたの指導は終わりました')\n",
        "\n"
      ]
    }
  ]
}