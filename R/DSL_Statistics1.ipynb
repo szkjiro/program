{
  "nbformat": 4,
  "nbformat_minor": 0,
  "metadata": {
    "colab": {
      "provenance": []
    },
    "kernelspec": {
      "name": "ir",
      "display_name": "R"
    },
    "language_info": {
      "name": "python"
    }
  },
  "cells": [
    {
      "cell_type": "code",
      "execution_count": null,
      "metadata": {
        "id": "tkk07QVa5wfP"
      },
      "outputs": [],
      "source": []
    },
    {
      "cell_type": "markdown",
      "source": [
        "# 例題で学ぶ代表値と散布度\n",
        "\n",
        "以下の説明例は演習ファイルフォルダにあるファイルを通じて，Google Colabolatory（以下Colabと短縮表記する）で実行可能なプログラムが提供されている．リテラシーの内容ではプログラムを実行することで学べる知識を要求しないが，実際のデータ分析に興味をもつ人は試してみるとよい．\n",
        "\n",
        "▶︎マークで始まる部分はRの実行プログラムである（これはColab上で実行するときのみの表示）\n",
        "\n",
        "## サンプルデータの準備\n",
        "\n",
        "ここでは[スポーツナビサッカー代表トップ](https://soccer.yahoo.co.jp/japan/)\n",
        "にあった，2021年10月18日現在のサッカー日本代表選手（A代表MEN，男子五輪代表OLYM，女子代表WOMEN）の身長Height，体重Weight，年齢Ageの各データを取得したものを利用して\n",
        "これらデータ全体（データ分析ではデータフレームと呼ぶ）の名前をJapanとして利用している．男女五輪の別は変数Propertyにもっている．\n",
        "\n",
        "### サンプルデータの読み込みプログラム\n",
        "\n",
        "以下はサンプルデータの読み込みプログラムおよび最初の6行の表示および変数の準備である．ただし，このプログラムはリテラシー解説から除外してある．また実行しないとわからない演習問題もリテラシー解説から除外してある．\n",
        "\n",
        "\n"
      ],
      "metadata": {
        "id": "4C5vmMei5_ST"
      }
    },
    {
      "cell_type": "code",
      "source": [
        "# CSVファイルの読み込み\n",
        "# 変数名Japanに保存\n",
        "Japan <- read.csv(\"SCMEM20211018.csv\", stringsAsFactors=TRUE)\n",
        "# はじめの6行を表示，\n",
        "head(Japan)\n",
        "# データの構成を表示\n",
        "# PropertyはMEN, OLYM, WOMの3種で構成されている\n",
        "# それぞれ男子，五輪，女子メンバーに対応する\n",
        "# summary(Japan)\n",
        "# 変数名MenにPropertyの値がMENであるデータを代入\n",
        "Men <- Japan[Japan$Property==\"MEN\",]\n",
        "# 変数名WomenにPropertyの値がWOMであるデータを代入\n",
        "Women <- Japan[Japan$Property==\"WOM\",]\n",
        "# 変数名OlymにPropertyの値がOLYMであるデータを代入\n",
        "Olym <- Japan[Japan$Property==\"OLYM\",]"
      ],
      "metadata": {
        "colab": {
          "base_uri": "https://localhost:8080/",
          "height": 286
        },
        "id": "WaxH51zI95uK",
        "outputId": "0c69f0a3-570f-415b-a3e7-2c3848033992"
      },
      "execution_count": 2,
      "outputs": [
        {
          "output_type": "display_data",
          "data": {
            "text/html": [
              "<table class=\"dataframe\">\n",
              "<caption>A data.frame: 6 × 4</caption>\n",
              "<thead>\n",
              "\t<tr><th></th><th scope=col>Property</th><th scope=col>Height</th><th scope=col>Weight</th><th scope=col>Age</th></tr>\n",
              "\t<tr><th></th><th scope=col>&lt;fct&gt;</th><th scope=col>&lt;int&gt;</th><th scope=col>&lt;int&gt;</th><th scope=col>&lt;int&gt;</th></tr>\n",
              "</thead>\n",
              "<tbody>\n",
              "\t<tr><th scope=row>1</th><td>MEN</td><td>185</td><td>82</td><td>38</td></tr>\n",
              "\t<tr><th scope=row>2</th><td>MEN</td><td>187</td><td>84</td><td>32</td></tr>\n",
              "\t<tr><th scope=row>3</th><td>MEN</td><td>190</td><td>84</td><td>20</td></tr>\n",
              "\t<tr><th scope=row>4</th><td>MEN</td><td>182</td><td>73</td><td>22</td></tr>\n",
              "\t<tr><th scope=row>5</th><td>MEN</td><td>186</td><td>77</td><td>26</td></tr>\n",
              "\t<tr><th scope=row>6</th><td>MEN</td><td>176</td><td>69</td><td>27</td></tr>\n",
              "</tbody>\n",
              "</table>\n"
            ],
            "text/markdown": "\nA data.frame: 6 × 4\n\n| <!--/--> | Property &lt;fct&gt; | Height &lt;int&gt; | Weight &lt;int&gt; | Age &lt;int&gt; |\n|---|---|---|---|---|\n| 1 | MEN | 185 | 82 | 38 |\n| 2 | MEN | 187 | 84 | 32 |\n| 3 | MEN | 190 | 84 | 20 |\n| 4 | MEN | 182 | 73 | 22 |\n| 5 | MEN | 186 | 77 | 26 |\n| 6 | MEN | 176 | 69 | 27 |\n\n",
            "text/latex": "A data.frame: 6 × 4\n\\begin{tabular}{r|llll}\n  & Property & Height & Weight & Age\\\\\n  & <fct> & <int> & <int> & <int>\\\\\n\\hline\n\t1 & MEN & 185 & 82 & 38\\\\\n\t2 & MEN & 187 & 84 & 32\\\\\n\t3 & MEN & 190 & 84 & 20\\\\\n\t4 & MEN & 182 & 73 & 22\\\\\n\t5 & MEN & 186 & 77 & 26\\\\\n\t6 & MEN & 176 & 69 & 27\\\\\n\\end{tabular}\n",
            "text/plain": [
              "  Property Height Weight Age\n",
              "1 MEN      185    82     38 \n",
              "2 MEN      187    84     32 \n",
              "3 MEN      190    84     20 \n",
              "4 MEN      182    73     22 \n",
              "5 MEN      186    77     26 \n",
              "6 MEN      176    69     27 "
            ]
          },
          "metadata": {}
        }
      ]
    },
    {
      "cell_type": "markdown",
      "source": [
        "## 代表値を読む\n",
        "\n",
        "ここではデータフレームJapanの各種処理結果から3種の代表値（平均値，中央値，最頻値）を読み取っていく．\n",
        "\n",
        "> データ分析ツールRに関する話．\n",
        "\n",
        "> 以下ではR特有のデータフレームの参照方法による記述の煩雑さあを減らすため，上のPropertyがMEN，WOMEN，PLYMである各データをそれぞれ変数Men,Women，Olymに分けてある．各変数に対して，たとえば身長Heightは変数と$記号をつないでMen$Heightとして参照している．\n",
        "\n",
        "\n",
        "### 5数要約，度数分布，箱ヒゲ図の表示\n",
        "\n",
        "5数要約とはデータの第0四分位数（最小値Minimum，省略形Min），第1四分位数（小さい方から25％の値，省略形1st Qu.），第2四分位数（中央値Median），第3四分位数（小さい方から75％の値，省略形3rd Qu.），第4四分位数（最大値Maximum，省略形Max）にまとめることをいいます．\n",
        "通常は第0および第4四分位数の呼び方をしないが，\n",
        "これらの値を計算する関数summaryを利用するときに，こう考えておくと便利である．\n",
        "以下ではMen，Women，Plymの各代表カテゴリーに対して年齢Ageの5数要約を表示させた．\n",
        "Rの関数summaryでは5数要約の各値の他に平均値Meanも表示している．\n"
      ],
      "metadata": {
        "id": "rYDbkWWZA-3b"
      }
    },
    {
      "cell_type": "code",
      "source": [
        "# 5数要約\n",
        "# 関数summaryは5数要約および平均値を表示する\n",
        "summary(Men$Age)\n",
        "summary(Olym$Age)\n",
        "summary(Women$Age)\n",
        "# Propertyの一つ，年齢Ageの箱ヒゲ図\n",
        "# 各変数の特定のPropertyに関する値を使うには\n",
        "# 変数名に続けて$記号，指定するProperty（ここではAge）を並べた"
      ],
      "metadata": {
        "colab": {
          "base_uri": "https://localhost:8080/",
          "height": 121
        },
        "id": "tc_WV8u3BQ8F",
        "outputId": "1804a318-7aeb-44b9-a64d-0413a91ddc77"
      },
      "execution_count": 3,
      "outputs": [
        {
          "output_type": "display_data",
          "data": {
            "text/plain": [
              "   Min. 1st Qu.  Median    Mean 3rd Qu.    Max. \n",
              "  20.00   24.00   26.00   27.24   30.00   38.00 "
            ]
          },
          "metadata": {}
        },
        {
          "output_type": "display_data",
          "data": {
            "text/plain": [
              "   Min. 1st Qu.  Median    Mean 3rd Qu.    Max. \n",
              "  19.00   22.00   23.00   23.68   24.00   33.00 "
            ]
          },
          "metadata": {}
        },
        {
          "output_type": "display_data",
          "data": {
            "text/plain": [
              "   Min. 1st Qu.  Median    Mean 3rd Qu.    Max. \n",
              "  21.00   22.50   25.00   24.83   26.00   31.00 "
            ]
          },
          "metadata": {}
        }
      ]
    },
    {
      "cell_type": "markdown",
      "source": [
        "箱ヒゲ図は5数要約の情報と外れ値によりデータの分布（ばらつきの様子）を図示する．"
      ],
      "metadata": {
        "id": "79D0D_oN_s8W"
      }
    },
    {
      "cell_type": "code",
      "source": [
        "# 関数boxplotは箱ヒゲ図を表示する\n",
        "# boxplotには複数の変数を与えることができる\n",
        "boxplot(Men$Age, Olym$Age, Women$Age)"
      ],
      "metadata": {
        "colab": {
          "base_uri": "https://localhost:8080/",
          "height": 437
        },
        "id": "uY7n1CjG_laP",
        "outputId": "48da053f-c54b-4aab-f054-4f459898d2bf"
      },
      "execution_count": 4,
      "outputs": [
        {
          "output_type": "display_data",
          "data": {
            "text/plain": [
              "plot without title"
            ],
            "image/png": "[encoded data removed]"
          },
          "metadata": {
            "image/png": {
              "width": 420,
              "height": 420
            }
          }
        }
      ]
    },
    {
      "cell_type": "markdown",
      "source": [
        "この箱ヒゲ図にもとづき分布の様子を比較すると，2番目の変数Olym（五輪代表）に対応するものだけ箱ヒゲ図の上バーがなく，また，丸で表された3点（外れ値）がある．\n",
        "これは五輪代表メンバーは23歳以下から構成される規則があることと，オーバーエイジ（23歳を超える選手）の3人がいるという制約を反映しているという事実を，箱ヒゲ図から想像できるのである．\n",
        "\n",
        "> 箱ヒゲ図の基礎知識：箱の中の太い線が中央値を表し，箱の上下端は下端が第1四分位数，上端が第3四分位数を表す．\n",
        "第3四分位数と第1四分位数の差を四分位範囲といい，四分位範囲の1.5倍の値までの範囲で最大（箱の上），同じくその範囲で最小（箱の下）にヒゲとして表す．\n",
        "それを超える値を外れ値といい，○などで表す．\n",
        "\n",
        "### 外れ値に関する注意\n",
        "\n",
        "高校数学Iで扱う箱ヒゲ図では，2021年までは外れ値を表示しないものであった．\n",
        "2022年の数学Iからは，外れ値も表示す．\n",
        "2021年までの数学Iで勉強した人は資料「高校数学指導要領からの抜粋」で確認してほしい．\n",
        "\n",
        "問：3つの箱ヒゲ図のそれぞれに，平均値および中央値はどこらへんにあるだろうか，\n",
        "箱ヒゲ図の中にイメージしてみよう．\n",
        "\n",
        "### プログラムを修正して実行するためのヒント\n",
        "\n",
        "ここでたとえば「Men$Age」とあるのは，変数Menの中の年齢Ageを参照するための書き方である．\n",
        "このAgeをHeightにすれば身長，Weightにすれば体重を参照できる．\n",
        "プログラム上で直接に書き換えて実行（▶︎ボタンをクリック）することもできる．\n",
        "\n",
        "問：身長Height，体重Weightについてもsummaryを表示させてみよ．\n",
        "身長Height，体重Weightについても箱ヒゲ図を表示させてみよ．\n",
        "\n",
        "### いくつかの図示\n",
        "\n",
        "箱ヒゲ図でもそれぞれの値の分布の様子はわかるが，次に示す幹葉図なら値の分布の様子までわかる．\n",
        "データの値の上位桁を「幹」，下位桁を「葉」に見立てている．\n",
        "この図にある数値にもとづき，もとのデータ全体を復元することができるので試してほしい．\n",
        "\n",
        "最頻値はデータを適当な階級に分けたときに，最もデータの個数（度数）の多い階級値のことである．\n",
        "階級の与え方次第で，最頻値は異なる値になる．\n",
        "この幹葉図では，5ずつに分けた階級における最頻値を，葉にあたる数の個数から読み取ることができる．\n"
      ],
      "metadata": {
        "id": "pAjF4RN8Bg1w"
      }
    },
    {
      "cell_type": "code",
      "source": [
        "# stemは幹葉図を与える関数\n",
        "stem(Men$Age)\n",
        "stem(Olym$Age)\n",
        "stem(Women$Age)"
      ],
      "metadata": {
        "colab": {
          "base_uri": "https://localhost:8080/"
        },
        "id": "WbmBvMM7Cwtf",
        "outputId": "63adba97-4d65-4c5e-80ae-ea855fe2a06e"
      },
      "execution_count": null,
      "outputs": [
        {
          "output_type": "stream",
          "name": "stdout",
          "text": [
            "\n",
            "  The decimal point is 1 digit(s) to the right of the |\n",
            "\n",
            "  2 | 0223444\n",
            "  2 | 55666667889\n",
            "  3 | 01123\n",
            "  3 | 58\n",
            "\n",
            "\n",
            "  The decimal point is 1 digit(s) to the right of the |\n",
            "\n",
            "  1 | 9\n",
            "  2 | 001222333334444444\n",
            "  2 | 8\n",
            "  3 | 13\n",
            "\n",
            "\n",
            "  The decimal point is 1 digit(s) to the right of the |\n",
            "\n",
            "  2 | 11122234444\n",
            "  2 | 5555666779\n",
            "  3 | 11\n",
            "\n"
          ]
        }
      ]
    },
    {
      "cell_type": "markdown",
      "source": [
        "問　上の幹葉図は階級幅を5として，その端数を並べていることになる．\n",
        "これらの幹葉図をもとに階級を5ごとに区切った度数分布表を作成してみよう．\n",
        "女子代表の度数分布表のみ以下に示しておく．\n",
        "\n",
        "| 階級 | 度数 |\n",
        "|:--------:|---:|\n",
        "| 20--24 | 11 |\n",
        "| 25--29 | 10 |\n",
        "| 30--34 | 2 |\n",
        "\n",
        "この幹葉図は，標準的なデータ集計法である度数分布表やヒストグラムに準じたものとして考えることもできる．\n",
        "\n",
        "次に単純集計をしてみよう．\n",
        "Rで単純に集計するにはtable関数を使う．"
      ],
      "metadata": {
        "id": "3Wj8vKGNC4tn"
      }
    },
    {
      "cell_type": "code",
      "source": [
        "# 各カテゴリーの年齢ごとの度数を集計する\n",
        "table(Men$Age)\n",
        "table(Olym$Age)\n",
        "table(Women$Age)"
      ],
      "metadata": {
        "colab": {
          "base_uri": "https://localhost:8080/",
          "height": 173
        },
        "id": "1ai8_vMNDAM3",
        "outputId": "a6edda4c-80a4-4caa-ff09-d8487d53137e"
      },
      "execution_count": null,
      "outputs": [
        {
          "output_type": "display_data",
          "data": {
            "text/plain": [
              "\n",
              "20 22 23 24 25 26 27 28 29 30 31 32 33 35 38 \n",
              " 1  2  1  3  2  5  1  2  1  1  2  1  1  1  1 "
            ]
          },
          "metadata": {}
        },
        {
          "output_type": "display_data",
          "data": {
            "text/plain": [
              "\n",
              "19 20 21 22 23 24 28 31 33 \n",
              " 1  2  1  3  5  7  1  1  1 "
            ]
          },
          "metadata": {}
        },
        {
          "output_type": "display_data",
          "data": {
            "text/plain": [
              "\n",
              "21 22 23 24 25 26 27 29 31 \n",
              " 3  3  1  4  4  3  2  1  2 "
            ]
          },
          "metadata": {}
        }
      ]
    },
    {
      "cell_type": "markdown",
      "source": [
        "問　先ほどは幹葉図から度数分布表を作成してみた．\n",
        "今度はこの出力結果から度数分布表を作成してみよう．\n",
        "\n",
        "問：身長Height，体重Weightについても幹葉図を作成してみよ．\n",
        "\n",
        "ヒストグラムは連続変量に対して，各階級ごとに棒で表す棒グラフの一種である．\n",
        "連続変量なので各棒は隣同士を接して描く．\n",
        "以下の例はRのhist関数に自動で階級を作らせた．"
      ],
      "metadata": {
        "id": "Zt1ZeIT2DGuE"
      }
    },
    {
      "cell_type": "code",
      "source": [
        "# 各カテゴリーの年齢ごとのヒストグラムを表示する\n",
        "hist(Men$Age)\n",
        "hist(Olym$Age)\n",
        "hist(Women$Age)"
      ],
      "metadata": {
        "colab": {
          "base_uri": "https://localhost:8080/",
          "height": 1000
        },
        "id": "tJQSx1emDLbs",
        "outputId": "f12a836c-0eb4-48c4-959b-513811369344"
      },
      "execution_count": null,
      "outputs": [
        {
          "output_type": "display_data",
          "data": {
            "text/plain": [
              "Plot with title “Histogram of Men$Age”"
            ],
            "image/png": "[encoded data removed]"
          },
          "metadata": {
            "image/png": {
              "width": 420,
              "height": 420
            }
          }
        },
        {
          "output_type": "display_data",
          "data": {
            "text/plain": [
              "Plot with title “Histogram of Olym$Age”"
            ],
            "image/png": "[encoded data removed]"
          },
          "metadata": {
            "image/png": {
              "width": 420,
              "height": 420
            }
          }
        },
        {
          "output_type": "display_data",
          "data": {
            "text/plain": [
              "Plot with title “Histogram of Women$Age”"
            ],
            "image/png": "[encoded data removed]"
          },
          "metadata": {
            "image/png": {
              "width": 420,
              "height": 420
            }
          }
        }
      ]
    },
    {
      "cell_type": "markdown",
      "source": [
        "問：身長Height，体重Weightについてもヒストグラムを表示させてみよ．\n",
        "\n",
        "\n",
        "\n",
        "> 研究：階級はどのように分けたらよいのだろうか．\n",
        "通常はわかりやすい区切りの良い値にもとづき幅を設けること，階級の個数が多すぎず少なすぎずに選ぶ．\n",
        "また上の例のように相互に比較したい場合は，階級を共通にとるほうがよい．\n",
        "なお階級の個数を与えるスタージェスの公式やデータの個数（サンプルサイズ）の平方根（小数点以下切り捨て）などが推奨されているが，決まったルールがあるわけではない．\n",
        "\n",
        "### 分散の利用\n",
        "\n",
        "5数要約と合わせて紹介した箱ヒゲ図では，四分位範囲で代表値近くのデータの分布（散らばり方）を表していた．\n",
        "ここでは，平均値と合わせてよく使われる分散（関数var）および標準偏差（＝分散の平方根，関数sd）を扱う．\n",
        "\n",
        "注意：データ分析では分散に不偏分散を用いる．\n",
        "不偏分散の式のみあげるが，そのような式を用いる理由はリテラシーのレベルを超えるので，ここでは説明しない．\n",
        "この分散は高校で扱った分散の式と少し異なるので注意したい．"
      ],
      "metadata": {
        "id": "g3eG1owdDTuG"
      }
    },
    {
      "cell_type": "code",
      "source": [
        "# 上のデータの男子年齢を変数名xに代入して\n",
        "# 簡単に参照できるようにして以下の例題を扱う\n",
        "# <- 記号はRで左側の変数名への値の代入を表す\n",
        "x <- Men$Age\n",
        "# 平均値\n",
        "mean(x)\n",
        "# 分散\n",
        "var(x)\n",
        "# 標準偏差\n",
        "sd(x)"
      ],
      "metadata": {
        "colab": {
          "base_uri": "https://localhost:8080/",
          "height": 69
        },
        "id": "iAL8Od6tDa6L",
        "outputId": "c729bb82-e9a7-4c71-b32b-9d57b7e3a7a5"
      },
      "execution_count": null,
      "outputs": [
        {
          "output_type": "display_data",
          "data": {
            "text/html": [
              "27.24"
            ],
            "text/markdown": "27.24",
            "text/latex": "27.24",
            "text/plain": [
              "[1] 27.24"
            ]
          },
          "metadata": {}
        },
        {
          "output_type": "display_data",
          "data": {
            "text/html": [
              "18.6066666666667"
            ],
            "text/markdown": "18.6066666666667",
            "text/latex": "18.6066666666667",
            "text/plain": [
              "[1] 18.60667"
            ]
          },
          "metadata": {}
        },
        {
          "output_type": "display_data",
          "data": {
            "text/html": [
              "4.31354455948547"
            ],
            "text/markdown": "4.31354455948547",
            "text/latex": "4.31354455948547",
            "text/plain": [
              "[1] 4.313545"
            ]
          },
          "metadata": {}
        }
      ]
    },
    {
      "cell_type": "markdown",
      "source": [
        "高校数学Iで扱った平均値の公式\n",
        "$$\\bar{x}=\\frac{1}{n}\\sum_{k=1}^n x_k$$\n",
        "および分散の公式\n",
        "$$\\frac{1}{n}\\sum_{k=1}^n (x_k-\\bar{x})^2$$\n",
        "を扱っている．\n",
        "不偏分散は\n",
        "$$\\frac{1}{n-1}\\sum_{k=1}^n (x_k-\\bar{x})^2$$\n",
        "となる．\n",
        "以下の計算例では，上の関係も確かめている．\n",
        "リテラシーの受講者は，上に述べた値を計算する関数が用意されている以上のことは気にしなくてよい．\n",
        "Rの数式計算の特徴をうまく使っているために，数学の計算式と思うと不思議なところもある．\n"
      ],
      "metadata": {
        "id": "23QjlH3cDg97"
      }
    },
    {
      "cell_type": "code",
      "source": [
        "# 関数lengthで公式のnにあたる量を求めている\n",
        "# これをベクトルのサイズという\n",
        "sum(x)/length(x)\n",
        "# 式 x-mean(x)を偏差という\n",
        "# 分散をことばでいうと，偏差の2乗平均である\n",
        "sum((x-mean(x))^2)/length(x)\n",
        "# 上の値は関数varのものと一致しない\n",
        "# var関数と一致するのは次の式の値である\n",
        "# 割り算の分母が少し小さい\n",
        "n <- length(x)\n",
        "sum((x-mean(x))^2)/(n-1)\n",
        "var(x)\n",
        "# 次の計算をすれば上の公式と一致する\n",
        "var(x)*(n-1)/n"
      ],
      "metadata": {
        "colab": {
          "base_uri": "https://localhost:8080/",
          "height": 104
        },
        "id": "0qxfPEUSDlrw",
        "outputId": "d214ac52-3833-4d70-eef3-720abb850753"
      },
      "execution_count": null,
      "outputs": [
        {
          "output_type": "display_data",
          "data": {
            "text/html": [
              "27.24"
            ],
            "text/markdown": "27.24",
            "text/latex": "27.24",
            "text/plain": [
              "[1] 27.24"
            ]
          },
          "metadata": {}
        },
        {
          "output_type": "display_data",
          "data": {
            "text/html": [
              "17.8624"
            ],
            "text/markdown": "17.8624",
            "text/latex": "17.8624",
            "text/plain": [
              "[1] 17.8624"
            ]
          },
          "metadata": {}
        },
        {
          "output_type": "display_data",
          "data": {
            "text/html": [
              "18.6066666666667"
            ],
            "text/markdown": "18.6066666666667",
            "text/latex": "18.6066666666667",
            "text/plain": [
              "[1] 18.60667"
            ]
          },
          "metadata": {}
        },
        {
          "output_type": "display_data",
          "data": {
            "text/html": [
              "18.6066666666667"
            ],
            "text/markdown": "18.6066666666667",
            "text/latex": "18.6066666666667",
            "text/plain": [
              "[1] 18.60667"
            ]
          },
          "metadata": {}
        },
        {
          "output_type": "display_data",
          "data": {
            "text/html": [
              "17.8624"
            ],
            "text/markdown": "17.8624",
            "text/latex": "17.8624",
            "text/plain": [
              "[1] 17.8624"
            ]
          },
          "metadata": {}
        }
      ]
    },
    {
      "cell_type": "markdown",
      "source": [
        "## 参考：箱ヒゲ図の作成\n",
        "\n",
        "男子五輪代表の箱ヒゲ図の成り立ちを説明するのに，その集計を再掲する．\n",
        "\n",
        "ここで改めて，同じxに対して平均値，標準偏差，ヒストグラムを計算させます．\n",
        "さらに平均値±標準偏差および平均値±2倍の標準偏差を計算しておきました．\n",
        "\n",
        "問：上の各値はヒストグラムのどこに読み取れるでしょうか．"
      ],
      "metadata": {
        "id": "Q3VqgUbrDrga"
      }
    },
    {
      "cell_type": "code",
      "source": [
        "table(Olym$Age)"
      ],
      "metadata": {
        "colab": {
          "base_uri": "https://localhost:8080/",
          "height": 69
        },
        "id": "qwTKjncQEnq4",
        "outputId": "9040aecf-343f-4370-dcec-9a42fc530458"
      },
      "execution_count": 5,
      "outputs": [
        {
          "output_type": "display_data",
          "data": {
            "text/plain": [
              "\n",
              "19 20 21 22 23 24 28 31 33 \n",
              " 1  2  1  3  5  7  1  1  1 "
            ]
          },
          "metadata": {}
        }
      ]
    },
    {
      "cell_type": "markdown",
      "source": [
        "\n",
        "箱ヒゲ図作成のルールは以下の通りである．\n",
        "\n",
        "四分位数に対して，第3四分位数と第1四分位数の差を四分位範囲（箱ヒゲ図の高さになる），その半分を四分位偏差という．\n",
        "箱の中の太い線が中央値を表し，はこの上下端は下端が第1四分位数，上端が第3四分位数を表す．\n",
        "四分位範囲の1.5倍の値までの範囲で最大（箱の上端），同じくその範囲で最小（下端）にヒゲとして表す．\n",
        "それを超える値を外れ値といい，◯などで表す．\n",
        "\n",
        "上のデータをもとに各値を求めてみよう．\n",
        "\n",
        "* データの総数　22\n",
        "* 最小値　19\n",
        "* 最大値　33\n",
        "* 中央値　23\n",
        "* 第1四分位数　22\n",
        "* 第3四分位数　24\n",
        "* 四分位範囲　2\n",
        "* 四分位偏差　1\n",
        "* 四分位範囲の1.5倍　3\n",
        "* 第3四分位数＋四分位範囲の1.5倍　27\n",
        "\n",
        "この値以下で最大のデータは24なので箱の上側のヒゲは，箱の上端に一致する．\n",
        "この値より大きな値，つまりオーバーエイジの人たちは外れ値になる．\n",
        "\n"
      ],
      "metadata": {
        "id": "ZSwHjYAqEtrS"
      }
    }
  ]
}