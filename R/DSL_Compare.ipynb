{
  "nbformat": 4,
  "nbformat_minor": 0,
  "metadata": {
    "colab": {
      "provenance": []
    },
    "kernelspec": {
      "name": "ir",
      "display_name": "R"
    },
    "language_info": {
      "name": "python"
    }
  },
  "cells": [
    {
      "cell_type": "markdown",
      "source": [
        "# 集団の比較\n",
        "\n",
        "サンプルデータはすでに使ったことのあるファイルSCMEM20211018.csvです．\n",
        "このデータはスポーツナビ\n",
        "（https://sports.yahoo.co.jp/japan/）\n",
        "にあった，2021年10月18日現在のサッカー日本代表選手の身長，体重，年齢データをCSVファイルとして用意したものです．\n",
        "\n",
        "\n",
        "\n",
        "\n",
        "\n"
      ],
      "metadata": {
        "id": "4C5vmMei5_ST"
      }
    },
    {
      "cell_type": "code",
      "execution_count": 1,
      "metadata": {
        "id": "tkk07QVa5wfP",
        "colab": {
          "base_uri": "https://localhost:8080/",
          "height": 408
        },
        "outputId": "16808cc0-1eca-4523-d6e8-171bec81160c"
      },
      "outputs": [
        {
          "output_type": "display_data",
          "data": {
            "text/html": [
              "<table class=\"dataframe\">\n",
              "<caption>A data.frame: 6 × 4</caption>\n",
              "<thead>\n",
              "\t<tr><th></th><th scope=col>Property</th><th scope=col>Height</th><th scope=col>Weight</th><th scope=col>Age</th></tr>\n",
              "\t<tr><th></th><th scope=col>&lt;fct&gt;</th><th scope=col>&lt;int&gt;</th><th scope=col>&lt;int&gt;</th><th scope=col>&lt;int&gt;</th></tr>\n",
              "</thead>\n",
              "<tbody>\n",
              "\t<tr><th scope=row>1</th><td>MEN</td><td>185</td><td>82</td><td>38</td></tr>\n",
              "\t<tr><th scope=row>2</th><td>MEN</td><td>187</td><td>84</td><td>32</td></tr>\n",
              "\t<tr><th scope=row>3</th><td>MEN</td><td>190</td><td>84</td><td>20</td></tr>\n",
              "\t<tr><th scope=row>4</th><td>MEN</td><td>182</td><td>73</td><td>22</td></tr>\n",
              "\t<tr><th scope=row>5</th><td>MEN</td><td>186</td><td>77</td><td>26</td></tr>\n",
              "\t<tr><th scope=row>6</th><td>MEN</td><td>176</td><td>69</td><td>27</td></tr>\n",
              "</tbody>\n",
              "</table>\n"
            ],
            "text/markdown": "\nA data.frame: 6 × 4\n\n| <!--/--> | Property &lt;fct&gt; | Height &lt;int&gt; | Weight &lt;int&gt; | Age &lt;int&gt; |\n|---|---|---|---|---|\n| 1 | MEN | 185 | 82 | 38 |\n| 2 | MEN | 187 | 84 | 32 |\n| 3 | MEN | 190 | 84 | 20 |\n| 4 | MEN | 182 | 73 | 22 |\n| 5 | MEN | 186 | 77 | 26 |\n| 6 | MEN | 176 | 69 | 27 |\n\n",
            "text/latex": "A data.frame: 6 × 4\n\\begin{tabular}{r|llll}\n  & Property & Height & Weight & Age\\\\\n  & <fct> & <int> & <int> & <int>\\\\\n\\hline\n\t1 & MEN & 185 & 82 & 38\\\\\n\t2 & MEN & 187 & 84 & 32\\\\\n\t3 & MEN & 190 & 84 & 20\\\\\n\t4 & MEN & 182 & 73 & 22\\\\\n\t5 & MEN & 186 & 77 & 26\\\\\n\t6 & MEN & 176 & 69 & 27\\\\\n\\end{tabular}\n",
            "text/plain": [
              "  Property Height Weight Age\n",
              "1 MEN      185    82     38 \n",
              "2 MEN      187    84     32 \n",
              "3 MEN      190    84     20 \n",
              "4 MEN      182    73     22 \n",
              "5 MEN      186    77     26 \n",
              "6 MEN      176    69     27 "
            ]
          },
          "metadata": {}
        },
        {
          "output_type": "display_data",
          "data": {
            "text/plain": [
              " Property      Height          Weight           Age       \n",
              " MEN :25   Min.   :154.0   Min.   :44.00   Min.   :19.00  \n",
              " OLYM:22   1st Qu.:167.0   1st Qu.:60.50   1st Qu.:23.00  \n",
              " WOM :23   Median :175.5   Median :69.00   Median :24.00  \n",
              "           Mean   :174.5   Mean   :68.13   Mean   :25.33  \n",
              "           3rd Qu.:182.0   3rd Qu.:76.00   3rd Qu.:27.00  \n",
              "           Max.   :190.0   Max.   :91.00   Max.   :38.00  "
            ]
          },
          "metadata": {}
        }
      ],
      "source": [
        "# CSVファイルの読み込み\n",
        "# 変数名Japanに保存\n",
        "Japan <- read.csv(\"SCMEM20211018.csv\", stringsAsFactors=TRUE)\n",
        "# はじめの6行を表示，\n",
        "head(Japan)\n",
        "# データの構成を表示\n",
        "# PropertyはMEN, OLYM, WOMの3種で構成されている\n",
        "# それぞれ男子，五輪，女子メンバーに対応する\n",
        "summary(Japan)\n",
        "# 変数名MenにPropertyの値がMENであるデータを代入\n",
        "Men <- Japan[Japan$Property==\"MEN\",]\n",
        "# 変数名WomenにPropertyの値がWOMであるデータを代入\n",
        "Women <- Japan[Japan$Property==\"WOM\",]\n",
        "# 変数名OlymにPropertyの値がOLYMであるデータを代入\n",
        "Olym <- Japan[Japan$Property==\"OLYM\",]"
      ]
    },
    {
      "cell_type": "markdown",
      "source": [
        "集団同士を比較するにはどうしたらいいでしょうか．\n",
        "たとえば2022年のサッカーで，アルゼンチン代表とフランス代表を比較するのに，アルゼンチンのメッシ選手とフランスのエムバペ選手とを比較することはできます．\n",
        "しかし，それはチーム同士の比較として一面的に過ぎるし，一人同士の比較としても，それぞれ優れた点がさまざまにあるので，単純な比較もできないでしょう．\n",
        "\n",
        "サッカー選手個人やサッカーチームのように，複雑な対象ではなく，数値情報同士だけであれば，比較は相当に簡単なことになります．\n",
        "2つの数値の大小は簡単に比較できるからです．\n",
        "それでも集団同士の比較となると，上に述べた比較のように，誰を選ぶとよいのかが疑問として残ります．\n",
        "\n",
        "集団同士の比較には平均値がよく使われます．\n",
        "しかし，なぜ平均値で比較することが良いのかはあまり説明されることはありません．\n",
        "まずは，各チームから何人かの代表を選び（サンプリングするという）比較をしてみましょう．\n",
        "\n",
        "次の例では，Rの関数sampleにより，男子代表Menの身長Height，五輪代表Olymの身長Height，女子代表Womenの身長Heightの間で比較をしています．\n",
        "この関数はとくに指定しない限り，重複を許したランダムなサンプリングを行います．\n",
        "このため20人余りのサッカーチームから50人のデータを選ぶことも可能です．\n",
        "\n"
      ],
      "metadata": {
        "id": "rYDbkWWZA-3b"
      }
    },
    {
      "cell_type": "markdown",
      "source": [
        "## 平均値による比較\n",
        "\n",
        "以下では平均値による比較方法について検討します．\n",
        "まずは2つの集団から1名ずつ選びながら，その身長の差を，ヒストグラムをとることにより特徴を観察してみます．\n",
        "n名を選んだときは，そのn名の身長の平均値をRの平均値関数meanを利用して求めた上で差を計算しています．"
      ],
      "metadata": {
        "id": "vwPqTmekzuow"
      }
    },
    {
      "cell_type": "code",
      "source": [
        "# 集計するデータをm個集める\n",
        "m <- 1000\n",
        "# サンプルをn個取り出す\n",
        "# もととなるデータは20個余りしかないが，それより多ければ重複して取り出す\n",
        "n <- 1\n",
        "# 変数Saにm回分のサンプルを蓄える\n",
        "Sa = numeric(m)\n",
        "for (i in 1:m) {\n",
        "# 男子代表と女子代表の身長の比較\n",
        "  x <- sample(Men$Height,n)\n",
        "  y <- sample(Women$Height,n)\n",
        "# 身長xと身長yの差をとる，正なら男子代表，負なら五輪代表が高く，0なら等しい\n",
        "  Sa[i] <- mean(x)-mean(y)\n",
        "}\n",
        "hist(Sa)\n"
      ],
      "metadata": {
        "colab": {
          "base_uri": "https://localhost:8080/",
          "height": 437
        },
        "id": "Kj0YKWEmwudX",
        "outputId": "5abfac11-c83b-487a-9738-4bcfb4b812a1"
      },
      "execution_count": 2,
      "outputs": [
        {
          "output_type": "display_data",
          "data": {
            "text/plain": [
              "Plot with title “Histogram of Sa”"
            ],
            "image/png": "[encoded data removed]"
          },
          "metadata": {
            "image/png": {
              "width": 420,
              "height": 420
            }
          }
        }
      ]
    },
    {
      "cell_type": "markdown",
      "source": [
        "問：上のRプログラムでmは変えずにnを変えて実行した場合に得られるグラフの特徴を観察してみよう．\n",
        "\n",
        "問：上のRプログラムでnは変えずにmを変えて実行した場合に得られるグラフの特徴を観察してみよう．\n",
        "\n",
        "問：上のRプログラムで取り出すデータの一方を女子代表に変えて実行した場合に得られるグラフの特徴を観察してみよう．\n",
        "\n",
        "問：ヒストグラムの概形のもつ特徴をことばで表してみよう．\n",
        "\n",
        "ここに用意した変更前のプログラムでは男子代表と女子代表の比較でn=1000，m=1としました．\n",
        "このとき上端から2.5％（つまり25個分）の値は30から35の間，下端は0から5の間にあります．\n",
        "これは比較している2つの集団の差の約95％が，およそ5からおよそ30までの間にあることを示しています．\n",
        "\n",
        "上の問のうち概形に関する答え：中央で上に凸，およそ左右対称，両裾に向かって下に凸になり，両裾の度数は小さいとはいえ，すぐに0にはなりません．\n",
        "これはベル型曲線と呼ばれる曲線のもつ特徴であり，後で説明します．\n",
        "\n",
        "問：上の問にしたがってサンプリングする人数nを5人や10人としたときに，この約95％を表す数値の幅はどのように変化するか確かめよう．\n",
        "\n",
        "ここでRの用意するt検定関数t.testを実行してみます\n",
        "．\n"
      ],
      "metadata": {
        "id": "pAjF4RN8Bg1w"
      }
    },
    {
      "cell_type": "code",
      "source": [
        "# stemは幹葉図を与える関数\n",
        "t.test(Men$Height,Women$Height)"
      ],
      "metadata": {
        "colab": {
          "base_uri": "https://localhost:8080/",
          "height": 208
        },
        "id": "WbmBvMM7Cwtf",
        "outputId": "e8c08810-4fa9-4682-94d6-c11cc0a264c5"
      },
      "execution_count": 3,
      "outputs": [
        {
          "output_type": "display_data",
          "data": {
            "text/plain": [
              "\n",
              "\tWelch Two Sample t-test\n",
              "\n",
              "data:  Men$Height and Women$Height\n",
              "t = 10.053, df = 44.47, p-value = 5.029e-13\n",
              "alternative hypothesis: true difference in means is not equal to 0\n",
              "95 percent confidence interval:\n",
              " 12.89083 19.35265\n",
              "sample estimates:\n",
              "mean of x mean of y \n",
              " 179.6000  163.4783 \n"
            ]
          },
          "metadata": {}
        }
      ]
    },
    {
      "cell_type": "markdown",
      "source": [
        "ほとんどの検定手法では偶然に検定統計量（ここでは平均の差）の値が得られる確率（p値）を計算します．\n",
        "5.029e-13は$5.029\\times 10^{-13}$を1行に表す記法です．\n",
        "（多くの場合に）偶然ではない状況に設定される仮説のことを対立仮説（alternative hypothesis）といいます．\n",
        "\n",
        "以上，メッセージにある文の説明をしましたが，本講座では具体的な計算方法までは解説しません．\n",
        "後でp値と対立仮説については説明します．\n",
        "\n",
        "メッセージの中でも，ここでは95％信頼区間（95percent confidence interval）に注目します．\n",
        "これは上のヒストグラムで得た観察と同じような意味の数値です．\n",
        "すでに問で試したと思いますが，例題の数値（n=1）を10や20など大きな数値にして実行してみてください．\n",
        "この場合に上下端から2.5％にあるおよその値を読み取ってみてください．\n",
        "どうですか．\n",
        "Rのt検定関数の出した95％信頼区間の値に近くなったと思います．\n",
        "\n",
        "この信頼区間のことを理解するために，集団の比較方法の探求をひとまず休んで，ベル型曲線を扱うことに集中します．\n",
        "\n",
        "## 平均値の点推定と信頼区間\n",
        "\n",
        "次のプログラムは先ほどのプログラムを少しだけ変更しました．\n",
        "2つの集団の平均値の差を計算していたことに対して，1つの集団から取り出したサンプル（標本という）の平均値を単に扱います．\n",
        "\n"
      ],
      "metadata": {
        "id": "3Wj8vKGNC4tn"
      }
    },
    {
      "cell_type": "code",
      "source": [
        "# 集計するデータをm個集める\n",
        "m <- 1000\n",
        "# サンプルをn個取り出す\n",
        "# もととなるデータは20個余りしかないが，それより多ければ重複して取り出す\n",
        "n <- 5\n",
        "# 変数Saにm回分のサンプルを蓄える\n",
        "Heikin = numeric(m)\n",
        "for (i in 1:m) {\n",
        "# 男子代表の身長の平均\n",
        "  x <- sample(Men$Height,n)\n",
        "#  y <- sample(Women$Height,n)\n",
        "# 身長xと身長yの差をとる，正なら男子代表，負なら五輪代表が高く，0なら等しい\n",
        "  Heikin[i] <- mean(x)\n",
        "}\n",
        "hist(Heikin)"
      ],
      "metadata": {
        "colab": {
          "base_uri": "https://localhost:8080/",
          "height": 437
        },
        "id": "4ghdtJ60QyXE",
        "outputId": "6df8e317-519e-4e46-f0c7-9f9678ee71a5"
      },
      "execution_count": 6,
      "outputs": [
        {
          "output_type": "display_data",
          "data": {
            "text/plain": [
              "Plot with title “Histogram of Heikin”"
            ],
            "image/png": "[encoded data removed]"
          },
          "metadata": {
            "image/png": {
              "width": 420,
              "height": 420
            }
          }
        }
      ]
    },
    {
      "cell_type": "markdown",
      "source": [
        "サンプリングの人数nを5で用意しました．\n",
        "\n",
        "問：nを増やすとグラフの特徴はどのように変化するか．\n",
        "\n",
        "この例題では，もとの集団が20人余りしかいないので，nをこの集団の人数以上に増やしたとき，特徴は失われてしまいます．\n",
        "この男子代表の特徴（の一部）を備えた10000人の集団をプログラムで作成し，それをもとにサンプリング人数を100程度まで変化させて観察しましょう．\n",
        "\n",
        "ここでいう特徴の一部とは，平均および標準偏差です．\n",
        "これらの値を計算させます．"
      ],
      "metadata": {
        "id": "N5JjcHWERYwW"
      }
    },
    {
      "cell_type": "code",
      "source": [
        "MH <- mean(Men$Height)\n",
        "MH\n",
        "MS <- sd(Men$Height)\n",
        "MS"
      ],
      "metadata": {
        "colab": {
          "base_uri": "https://localhost:8080/",
          "height": 52
        },
        "id": "AV_uUtqpSCqi",
        "outputId": "865faea4-f50d-4168-c5bd-d30ba9a3bfb9"
      },
      "execution_count": 7,
      "outputs": [
        {
          "output_type": "display_data",
          "data": {
            "text/html": [
              "179.6"
            ],
            "text/markdown": "179.6",
            "text/latex": "179.6",
            "text/plain": [
              "[1] 179.6"
            ]
          },
          "metadata": {}
        },
        {
          "output_type": "display_data",
          "data": {
            "text/html": [
              "6.28490254498827"
            ],
            "text/markdown": "6.28490254498827",
            "text/latex": "6.28490254498827",
            "text/plain": [
              "[1] 6.284903"
            ]
          },
          "metadata": {}
        }
      ]
    },
    {
      "cell_type": "markdown",
      "source": [
        "これらの値を特徴にもつ正規分布にしたがう乱数を関数rnormにより10000個生成して，男子代表の身長データに代えて，上と同じようにしてヒストグラムを作ります．"
      ],
      "metadata": {
        "id": "tAQaseViSqtI"
      }
    },
    {
      "cell_type": "code",
      "source": [
        "# 平均MH, 標準偏差MSに応じた正規分布にしたがう乱数を与え，ヒストグラムも確認する\n",
        "Danshi <- rnorm(10000,MH,MS)\n",
        "hist(Danshi)\n",
        "# 集計するデータをm個集める\n",
        "m <- 1000\n",
        "# サンプルをn個取り出す\n",
        "# もととなるデータは20個余りしかないが，それより多ければ重複して取り出す\n",
        "n <- 5\n",
        "# 変数Saにm回分のサンプルを蓄える\n",
        "Heikin = numeric(m)\n",
        "for (i in 1:m) {\n",
        "# 男子代表の身長の平均\n",
        "#  x <- sample(Men$Height,n)\n",
        "  x <- sample(Danshi,n)\n",
        "# 身長xと身長yの差をとる，正なら男子代表，負なら五輪代表が高く，0なら等しい\n",
        "  Heikin[i] <- mean(x)\n",
        "}\n",
        "hist(Heikin)"
      ],
      "metadata": {
        "colab": {
          "base_uri": "https://localhost:8080/",
          "height": 857
        },
        "id": "eX5oUiNQS_r1",
        "outputId": "e32d415b-5871-4125-d1b0-e396a32784ad"
      },
      "execution_count": 9,
      "outputs": [
        {
          "output_type": "display_data",
          "data": {
            "text/plain": [
              "Plot with title “Histogram of Danshi”"
            ],
            "image/png": "[encoded data removed]"
          },
          "metadata": {
            "image/png": {
              "width": 420,
              "height": 420
            }
          }
        },
        {
          "output_type": "display_data",
          "data": {
            "text/plain": [
              "Plot with title “Histogram of Heikin”"
            ],
            "image/png": "[encoded data removed]"
          },
          "metadata": {
            "image/png": {
              "width": 420,
              "height": 420
            }
          }
        }
      ]
    },
    {
      "cell_type": "markdown",
      "source": [
        "用意したデータもベル型曲線の特徴が見られますが，平均値の集計にもベル型曲線の特徴が見られると思います．\n",
        "平均値のヒストグラムにおいて，上下端から2.5％の値は上端側が185ぐらい，下端側が173ぐらいです．\n",
        "両者の概形は似ていても，横軸の値に違いがあるのを見逃さないようにしてください．\n",
        "\n",
        "問：nとして10，20，50，100にしたときの，上下端から2.5％に相当する横軸の値を読み取ってみよう．\n",
        "\n",
        "ところで上の実験結果ですが，元データがベル型曲線だったから，平均値の分布もベル型曲線になったのでしょうか．\n",
        "次の実験では10000個のデータを一様分布（どの値も同様に確からしい分布，サイコロの目の出る回数などでお馴染み）にしてみます．\n"
      ],
      "metadata": {
        "id": "tEKJx1WnTkze"
      }
    },
    {
      "cell_type": "code",
      "source": [
        "# 平均MH, 標準偏差MSに応じた一様分布にしたがう乱数を与え，ヒストグラムも確認する\n",
        "Danshi <- runif(10000,MH-MS,MH+MS)\n",
        "hist(Danshi)\n",
        "# 集計するデータをm個集める\n",
        "m <- 1000\n",
        "# サンプルをn個取り出す\n",
        "# もととなるデータは20個余りしかないが，それより多ければ重複して取り出す\n",
        "n <- 5\n",
        "# 変数Saにm回分のサンプルを蓄える\n",
        "Heikin = numeric(m)\n",
        "for (i in 1:m) {\n",
        "# 男子代表の身長の平均\n",
        "#  x <- sample(Men$Height,n)\n",
        "  x <- sample(Danshi,n)\n",
        "# 身長xと身長yの差をとる，正なら男子代表，負なら五輪代表が高く，0なら等しい\n",
        "  Heikin[i] <- mean(x)\n",
        "}\n",
        "hist(Heikin)"
      ],
      "metadata": {
        "colab": {
          "base_uri": "https://localhost:8080/",
          "height": 857
        },
        "id": "B_jg0p0vWntp",
        "outputId": "d86f970f-7f77-4de0-d7b1-f0ad9ffd5ae2"
      },
      "execution_count": 10,
      "outputs": [
        {
          "output_type": "display_data",
          "data": {
            "text/plain": [
              "Plot with title “Histogram of Danshi”"
            ],
            "image/png": "[encoded data removed]"
          },
          "metadata": {
            "image/png": {
              "width": 420,
              "height": 420
            }
          }
        },
        {
          "output_type": "display_data",
          "data": {
            "text/plain": [
              "Plot with title “Histogram of Heikin”"
            ],
            "image/png": "[encoded data removed]"
          },
          "metadata": {
            "image/png": {
              "width": 420,
              "height": 420
            }
          }
        }
      ]
    },
    {
      "cell_type": "markdown",
      "source": [
        "一目瞭然ですね．\n",
        "もとにしたデータの分布では，どの棒もおおむね高さが同じになるヒストグラムですが，平均値の分布はやはりベル型曲線になりました．\n",
        "このベル型曲線を与える分布のことを正規分布といいます．\n",
        "グラフの概形としては同じでも，横軸を見ると値の広がり方や中央と見られるところの値も違います．\n",
        "そのことを「平均$\\mu$，標準偏差$\\sigma$の正規分布」といい，記号$N(\\mu,\\sigma)$で表します．\n",
        "そして上で実験してきた平均値に関して次の数学的性質が成り立ちます．\n",
        "\n",
        "### 中心極限定理\n",
        "\n",
        "平均$\\mu$，標準偏差$\\sigma$の母集団から得られるサイズ（標本の大きさともいう）$n$の標本の平均値$m$は正規分布\n",
        "$$\n",
        "N\\left(\\mu,\\frac{\\sigma^2}{n}\\right)\n",
        "$$\n",
        "にしたがう．\n",
        "\n",
        "というものです．\n",
        "この定理の文章には，母集団の分布の特徴として「正規分布」などの形に関する説明が含まれていないことに注意してください．\n",
        "この「なんとか分布にしたがう」というのを記号$\\sim$を使って\n",
        "$$\n",
        "m\\sim N\\left(\\mu,\\frac{\\sigma^2}{n}\\right)\n",
        "$$\n",
        "と表します．$m$は標本平均でしたね．\n",
        "\n",
        "正規分布と名前がつくだけあって，変数の値（横軸の値）がある範囲にあるときの確率がわかっています．\n",
        "\n",
        "一つあげると\n",
        "$$\n",
        "x\\sim N\\left(\\mu,\\sigma^2\\right)\n",
        "$$\n",
        "に対して\n",
        "$$\n",
        "\\mu-1.96\\sigma < x < \\mu+1.96\\sigma\n",
        "$$\n",
        "をxが満たす確率は95%になります．\n",
        "これが上のレポートではt検定でしたが，95%信頼区間の（正規分布に対する）正体です．\n",
        "\n",
        "平均値の差の場合に，上の中心極限定理を書き直すと次の通りとなります．\n",
        "2つの母集団が出てくるために，少し複雑な表現になっています．\n",
        "\n",
        "平均$\\mu_1$，標準偏差$\\sigma$の母集団から得られるサイズ$n_1$の標本平均が$m_1$であり，平均$\\mu_2$，標準偏差$\\sigma$の母集団から得られるサイズ$n_2$の標本平均が$m_2$であるとき\n",
        "$$\n",
        "m_1-m_2 \\sim N\\left(\\mu_1-\\mu_2,\\sigma^2\\left(\\frac{1}{n_1}+\\frac{1}{n_2}\\right)\\right)\n",
        "$$\n",
        "にしたがう．\n",
        "\n",
        "ここまでの実験でも見られたように，標本の大きさnが小さいとベル型曲線の特徴は少し崩れているようです．\n",
        "実際の応用においては，この崩れを補うためにt分布という数学ツールが開発されました．\n",
        "この分布を用いるのがt検定です．\n",
        "\n",
        "### 平均値の有用性\n",
        "\n",
        "平均値がたいへん有用な理由は，ここまでで説明してきた中心極限定理にあります．\n",
        "分析したいもとのデータの特徴があまりわからなくても，平均値であれば数学的性質はどれも共通しているからです．\n",
        "\n",
        "だからといって，正規分布でないことが明らかなものに，この性質を適用してはいけません．\n",
        "次回はそうした正規分布の特徴をもたないデータの観察もします．\n",
        "\n",
        "### 正規分布的な現象が生じる理由\n",
        "\n",
        "私たちの身の回りにあるデータには誤差があり，得られたデータにはばらつきがあります．\n",
        "そうしたばらつきがどのように生じるか，たとえば身長や体重のデータは多数集めて集計してみると正規分布に似た特徴が見られます．\n",
        "[例：データ製作所のページ](https://data-seisaku.com/00400-mext-00400002-hyo02-03-full-list/)"
      ],
      "metadata": {
        "id": "PEe1w1ZhW2Mw"
      }
    },
    {
      "cell_type": "markdown",
      "source": [],
      "metadata": {
        "id": "jg5DFgA1P3Or"
      }
    }
  ]
}