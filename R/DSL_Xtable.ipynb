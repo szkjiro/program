{
  "nbformat": 4,
  "nbformat_minor": 5,
  "metadata": {
    "kernelspec": {
      "display_name": "R",
      "language": "R",
      "name": "ir"
    },
    "language_info": {
      "codemirror_mode": "r",
      "file_extension": ".r",
      "mimetype": "text/x-r-source",
      "name": "R",
      "pygments_lexer": "r",
      "version": "3.6.1"
    },
    "colab": {
      "provenance": [],
      "collapsed_sections": []
    }
  },
  "cells": [
    {
      "cell_type": "markdown",
      "id": "0a405b70",
      "metadata": {
        "id": "0a405b70"
      },
      "source": [
        "## クロス集計表\n",
        "\n",
        "Rでクロス集計表を作成するのに関数xtabsを使えます．\n",
        "前回までに扱ったサッカー選手のデータに，試合でのポジション（ゴールキーパーGK，ディフェンダーDF，ミッドフィルダーMF，フォワードFW）の追加されたデータファイルで始めます．\n"
      ]
    },
    {
      "cell_type": "code",
      "source": [
        "# CSVファイルの読み込み\n",
        "# 変数名Japanに保存\n",
        "Japan <- read.csv(\"SCMEM20211018pos.csv\", stringsAsFactors=TRUE)\n",
        "# はじめの6行を表示，\n",
        "head(Japan)\n",
        "# データの構成を表示\n",
        "# PropertyはMEN, OLYM, WOMの3種で構成されている\n",
        "# それぞれ男子，五輪，女子メンバーに対応する\n",
        "summary(Japan)\n",
        "# 変数名MenにPropertyの値がMENであるデータを代入\n"
      ],
      "metadata": {
        "colab": {
          "base_uri": "https://localhost:8080/",
          "height": 408
        },
        "id": "KLubfQh2zTWn",
        "outputId": "49f33fb8-9505-4acc-e431-72eb1e2c4a2c"
      },
      "id": "KLubfQh2zTWn",
      "execution_count": null,
      "outputs": [
        {
          "output_type": "display_data",
          "data": {
            "text/html": [
              "<table class=\"dataframe\">\n",
              "<caption>A data.frame: 6 × 5</caption>\n",
              "<thead>\n",
              "\t<tr><th></th><th scope=col>Property</th><th scope=col>Position</th><th scope=col>Height</th><th scope=col>Weight</th><th scope=col>Age</th></tr>\n",
              "\t<tr><th></th><th scope=col>&lt;fct&gt;</th><th scope=col>&lt;fct&gt;</th><th scope=col>&lt;int&gt;</th><th scope=col>&lt;int&gt;</th><th scope=col>&lt;int&gt;</th></tr>\n",
              "</thead>\n",
              "<tbody>\n",
              "\t<tr><th scope=row>1</th><td>MEN</td><td>GK</td><td>185</td><td>82</td><td>38</td></tr>\n",
              "\t<tr><th scope=row>2</th><td>MEN</td><td>GK</td><td>187</td><td>84</td><td>32</td></tr>\n",
              "\t<tr><th scope=row>3</th><td>MEN</td><td>GK</td><td>190</td><td>84</td><td>20</td></tr>\n",
              "\t<tr><th scope=row>4</th><td>MEN</td><td>DF</td><td>182</td><td>73</td><td>22</td></tr>\n",
              "\t<tr><th scope=row>5</th><td>MEN</td><td>DF</td><td>186</td><td>77</td><td>26</td></tr>\n",
              "\t<tr><th scope=row>6</th><td>MEN</td><td>DF</td><td>176</td><td>69</td><td>27</td></tr>\n",
              "</tbody>\n",
              "</table>\n"
            ],
            "text/markdown": "\nA data.frame: 6 × 5\n\n| <!--/--> | Property &lt;fct&gt; | Position &lt;fct&gt; | Height &lt;int&gt; | Weight &lt;int&gt; | Age &lt;int&gt; |\n|---|---|---|---|---|---|\n| 1 | MEN | GK | 185 | 82 | 38 |\n| 2 | MEN | GK | 187 | 84 | 32 |\n| 3 | MEN | GK | 190 | 84 | 20 |\n| 4 | MEN | DF | 182 | 73 | 22 |\n| 5 | MEN | DF | 186 | 77 | 26 |\n| 6 | MEN | DF | 176 | 69 | 27 |\n\n",
            "text/latex": "A data.frame: 6 × 5\n\\begin{tabular}{r|lllll}\n  & Property & Position & Height & Weight & Age\\\\\n  & <fct> & <fct> & <int> & <int> & <int>\\\\\n\\hline\n\t1 & MEN & GK & 185 & 82 & 38\\\\\n\t2 & MEN & GK & 187 & 84 & 32\\\\\n\t3 & MEN & GK & 190 & 84 & 20\\\\\n\t4 & MEN & DF & 182 & 73 & 22\\\\\n\t5 & MEN & DF & 186 & 77 & 26\\\\\n\t6 & MEN & DF & 176 & 69 & 27\\\\\n\\end{tabular}\n",
            "text/plain": [
              "  Property Position Height Weight Age\n",
              "1 MEN      GK       185    82     38 \n",
              "2 MEN      GK       187    84     32 \n",
              "3 MEN      GK       190    84     20 \n",
              "4 MEN      DF       182    73     22 \n",
              "5 MEN      DF       186    77     26 \n",
              "6 MEN      DF       176    69     27 "
            ]
          },
          "metadata": {}
        },
        {
          "output_type": "display_data",
          "data": {
            "text/plain": [
              " Property  Position     Height          Weight           Age       \n",
              " MEN :25   DF:26    Min.   :154.0   Min.   :44.00   Min.   :19.00  \n",
              " OLYM:22   FW:11    1st Qu.:167.0   1st Qu.:60.50   1st Qu.:23.00  \n",
              " WOM :23   GK: 9    Median :175.5   Median :69.00   Median :24.00  \n",
              "           MF:24    Mean   :174.5   Mean   :68.13   Mean   :25.33  \n",
              "                    3rd Qu.:182.0   3rd Qu.:76.00   3rd Qu.:27.00  \n",
              "                    Max.   :190.0   Max.   :91.00   Max.   :38.00  "
            ]
          },
          "metadata": {}
        }
      ]
    },
    {
      "cell_type": "markdown",
      "source": [
        "このデータをProperty（男女の代表の別）とPosition（GKなどのポジション）で表に作成します．"
      ],
      "metadata": {
        "id": "C8HlMbPxGGn1"
      },
      "id": "C8HlMbPxGGn1"
    },
    {
      "cell_type": "code",
      "source": [
        "xtabs(~Property+Position,Japan)"
      ],
      "metadata": {
        "colab": {
          "base_uri": "https://localhost:8080/",
          "height": 104
        },
        "id": "_Dc3_7WpGYdR",
        "outputId": "d2a3c1aa-5cf6-4777-eb68-840a28d91d1e"
      },
      "id": "_Dc3_7WpGYdR",
      "execution_count": null,
      "outputs": [
        {
          "output_type": "display_data",
          "data": {
            "text/plain": [
              "        Position\n",
              "Property DF FW GK MF\n",
              "    MEN   9  3  3 10\n",
              "    OLYM  9  3  3  7\n",
              "    WOM   8  5  3  7"
            ]
          },
          "metadata": {}
        }
      ]
    },
    {
      "cell_type": "markdown",
      "source": [
        "サッカーではどのチームでもGKやFWなどだいたい同じ人数ですから，多くの人の予想するところだろう．\n",
        "\n",
        "このような形の表を一般に分割表と呼びます．分割表において偶然では考えられないような結果が得られることもある．\n",
        "そうした場合に活用できるのが検定である．\n",
        "しかし検定が有効になるのはRCTにしたがって得られたデータであることを忘れてはならない．\n",
        "\n",
        "## 分割表の検定\n",
        "\n",
        "ここではメンデルの有名なエンドウ豆の実験結果を例に検定の方法を考える．\n",
        "\n",
        "### メンデルの実験\n",
        "\n",
        "メンデルは遺伝の仕組みの手がかりを得た重要な実験を，エンドウ豆の交配を通じて行った．\n",
        "エンドウ豆の育種を通じて，豆の色は黄色か緑色，豆の表面はしわがあるかないか（丸いか）の形質に注目した実験である．\n",
        "\n",
        "黄色で丸いエンドウ豆同士を交配させたところ，次表の結果を得た．\n",
        "\n",
        "| 形質 | 度数 |\n",
        "|:--------:|---:|\n",
        "| 黄色で丸い | 315 |\n",
        "| 黄色でしわ | 101|\n",
        "| 緑で丸い | 108 |\n",
        "| 緑でしわ | 32 |\n",
        "\n",
        "このようなデータに対しては，上のように単純な表の他に分割表との見方がある．\n",
        "次に検定の実行例をあげた．\n",
        "前者の表による見方を適合度検定といい，後者の表による見方を分割表の検定という．"
      ],
      "metadata": {
        "id": "yi9vBUbfHaan"
      },
      "id": "yi9vBUbfHaan"
    },
    {
      "cell_type": "code",
      "source": [
        "mendel <- c(315,101,108,32)\n",
        "\n",
        "# 適合度検定，自由度3\n",
        "mendel\n",
        "chisq.test(mendel)\n",
        "\n",
        "# 9:3:3:1を仮定\n",
        "# 比率p=を指定する\n",
        "prob <- c(9,3,3,1)/16\n",
        "chisq.test(mendel,p=prob)\n",
        "\n",
        "# 分割表の検定，自由度1\n",
        "mendel_square <- matrix(mendel,2)\n",
        "mendel_square\n",
        "chisq.test(mendel_square)"
      ],
      "metadata": {
        "colab": {
          "base_uri": "https://localhost:8080/",
          "height": 410
        },
        "id": "KLSHWRdzMKQz",
        "outputId": "3d273d34-bb49-4b5b-f3c0-78e3374b7c42"
      },
      "id": "KLSHWRdzMKQz",
      "execution_count": 10,
      "outputs": [
        {
          "output_type": "display_data",
          "data": {
            "text/html": [
              "<style>\n",
              ".list-inline {list-style: none; margin:0; padding: 0}\n",
              ".list-inline>li {display: inline-block}\n",
              ".list-inline>li:not(:last-child)::after {content: \"\\00b7\"; padding: 0 .5ex}\n",
              "</style>\n",
              "<ol class=list-inline><li>315</li><li>101</li><li>108</li><li>32</li></ol>\n"
            ],
            "text/markdown": "1. 315\n2. 101\n3. 108\n4. 32\n\n\n",
            "text/latex": "\\begin{enumerate*}\n\\item 315\n\\item 101\n\\item 108\n\\item 32\n\\end{enumerate*}\n",
            "text/plain": [
              "[1] 315 101 108  32"
            ]
          },
          "metadata": {}
        },
        {
          "output_type": "display_data",
          "data": {
            "text/plain": [
              "\n",
              "\tChi-squared test for given probabilities\n",
              "\n",
              "data:  mendel\n",
              "X-squared = 322.52, df = 3, p-value < 2.2e-16\n"
            ]
          },
          "metadata": {}
        },
        {
          "output_type": "display_data",
          "data": {
            "text/plain": [
              "\n",
              "\tChi-squared test for given probabilities\n",
              "\n",
              "data:  mendel\n",
              "X-squared = 0.47002, df = 3, p-value = 0.9254\n"
            ]
          },
          "metadata": {}
        },
        {
          "output_type": "display_data",
          "data": {
            "text/html": [
              "<table class=\"dataframe\">\n",
              "<caption>A matrix: 2 × 2 of type dbl</caption>\n",
              "<tbody>\n",
              "\t<tr><td>315</td><td>108</td></tr>\n",
              "\t<tr><td>101</td><td> 32</td></tr>\n",
              "</tbody>\n",
              "</table>\n"
            ],
            "text/markdown": "\nA matrix: 2 × 2 of type dbl\n\n| 315 | 108 |\n| 101 |  32 |\n\n",
            "text/latex": "A matrix: 2 × 2 of type dbl\n\\begin{tabular}{ll}\n\t 315 & 108\\\\\n\t 101 &  32\\\\\n\\end{tabular}\n",
            "text/plain": [
              "     [,1] [,2]\n",
              "[1,] 315  108 \n",
              "[2,] 101   32 "
            ]
          },
          "metadata": {}
        },
        {
          "output_type": "display_data",
          "data": {
            "text/plain": [
              "\n",
              "\tPearson's Chi-squared test with Yates' continuity correction\n",
              "\n",
              "data:  mendel_square\n",
              "X-squared = 0.051332, df = 1, p-value = 0.8208\n"
            ]
          },
          "metadata": {}
        }
      ]
    },
    {
      "cell_type": "markdown",
      "source": [
        "いずれの表のモデルでも，確率はおおいに高い．\n",
        "この確率の高さが（メンデルの結果は統計学の発達していない19世紀だったが），20世紀になり，近代統計学の父と呼ばれるフィッシャーに批判される．\n",
        "仮説の比に近すぎるというのだ．（参照：『背信の科学者たち』，東京化学同人，現在はハヤカワ文庫NFより発行．）\n",
        "\n",
        "ここで使ったRの関数Cchisq.testはカイ自乗検定と呼ばれる方法であり，分割表の検定によく用いられる．"
      ],
      "metadata": {
        "id": "dHnu34zPNVVU"
      },
      "id": "dHnu34zPNVVU"
    },
    {
      "cell_type": "markdown",
      "source": [
        "RCTでなく取得したデータの扱いはどうしたらよいだろうか．\n",
        "検定はできなくても，そうしたデータが偶然に得られる確率を計算することには価値がある．\n",
        "そうした場合に使われる統計量の一つがオッズ比である．\n",
        "興味のある人は，たとえば[奥村晴彦氏のブログにRによる処理の解説](https://okumuralab.org/~okumura/stat/2by2.html)を参考にしてほしい．\n"
      ],
      "metadata": {
        "id": "wg0gWPdVyWP3"
      },
      "id": "wg0gWPdVyWP3"
    }
  ]
}