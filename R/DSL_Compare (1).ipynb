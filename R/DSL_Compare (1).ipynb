{
  "nbformat": 4,
  "nbformat_minor": 0,
  "metadata": {
    "colab": {
      "provenance": []
    },
    "kernelspec": {
      "name": "ir",
      "display_name": "R"
    },
    "language_info": {
      "name": "python"
    }
  },
  "cells": [
    {
      "cell_type": "code",
      "execution_count": null,
      "metadata": {
        "id": "tkk07QVa5wfP"
      },
      "outputs": [],
      "source": []
    },
    {
      "cell_type": "markdown",
      "source": [
        "# 集団の比較\n",
        "\n",
        "サンプルデータはすでに使ったことのあるファイルSCMEM20211018.csvです．\n",
        "このデータはスポーツナビ\n",
        "（https://sports.yahoo.co.jp/japan/）\n",
        "にあった，2021年10月18日現在のサッカー日本代表選手の身長，体重，年齢データをCSVファイルとして用意したものです．\n",
        "\n",
        "\n",
        "\n",
        "\n",
        "\n"
      ],
      "metadata": {
        "id": "4C5vmMei5_ST"
      }
    },
    {
      "cell_type": "code",
      "source": [
        "# CSVファイルの読み込み\n",
        "# 変数名Japanに保存\n",
        "Japan <- read.csv(\"SCMEM20211018.csv\", stringsAsFactors=TRUE)\n",
        "# はじめの6行を表示，\n",
        "head(Japan)\n",
        "# データの構成を表示\n",
        "# PropertyはMEN, OLYM, WOMの3種で構成されている\n",
        "# それぞれ男子，五輪，女子メンバーに対応する\n",
        "summary(Japan)\n",
        "# 変数名MenにPropertyの値がMENであるデータを代入\n",
        "Men <- Japan[Japan$Property==\"MEN\",]\n",
        "# 変数名WomenにPropertyの値がWOMであるデータを代入\n",
        "Women <- Japan[Japan$Property==\"WOM\",]\n",
        "# 変数名OlymにPropertyの値がOLYMであるデータを代入\n",
        "Olym <- Japan[Japan$Property==\"OLYM\",]"
      ],
      "metadata": {
        "colab": {
          "base_uri": "https://localhost:8080/",
          "height": 415
        },
        "id": "WaxH51zI95uK",
        "outputId": "94d500c1-21e6-44c2-aa1f-bd6a6f7ee5e7"
      },
      "execution_count": null,
      "outputs": [
        {
          "output_type": "display_data",
          "data": {
            "text/html": [
              "<table class=\"dataframe\">\n",
              "<caption>A data.frame: 6 × 4</caption>\n",
              "<thead>\n",
              "\t<tr><th></th><th scope=col>Property</th><th scope=col>Height</th><th scope=col>Weight</th><th scope=col>Age</th></tr>\n",
              "\t<tr><th></th><th scope=col>&lt;fct&gt;</th><th scope=col>&lt;int&gt;</th><th scope=col>&lt;int&gt;</th><th scope=col>&lt;int&gt;</th></tr>\n",
              "</thead>\n",
              "<tbody>\n",
              "\t<tr><th scope=row>1</th><td>MEN</td><td>185</td><td>82</td><td>38</td></tr>\n",
              "\t<tr><th scope=row>2</th><td>MEN</td><td>187</td><td>84</td><td>32</td></tr>\n",
              "\t<tr><th scope=row>3</th><td>MEN</td><td>190</td><td>84</td><td>20</td></tr>\n",
              "\t<tr><th scope=row>4</th><td>MEN</td><td>182</td><td>73</td><td>22</td></tr>\n",
              "\t<tr><th scope=row>5</th><td>MEN</td><td>186</td><td>77</td><td>26</td></tr>\n",
              "\t<tr><th scope=row>6</th><td>MEN</td><td>176</td><td>69</td><td>27</td></tr>\n",
              "</tbody>\n",
              "</table>\n"
            ],
            "text/markdown": "\nA data.frame: 6 × 4\n\n| <!--/--> | Property &lt;fct&gt; | Height &lt;int&gt; | Weight &lt;int&gt; | Age &lt;int&gt; |\n|---|---|---|---|---|\n| 1 | MEN | 185 | 82 | 38 |\n| 2 | MEN | 187 | 84 | 32 |\n| 3 | MEN | 190 | 84 | 20 |\n| 4 | MEN | 182 | 73 | 22 |\n| 5 | MEN | 186 | 77 | 26 |\n| 6 | MEN | 176 | 69 | 27 |\n\n",
            "text/latex": "A data.frame: 6 × 4\n\\begin{tabular}{r|llll}\n  & Property & Height & Weight & Age\\\\\n  & <fct> & <int> & <int> & <int>\\\\\n\\hline\n\t1 & MEN & 185 & 82 & 38\\\\\n\t2 & MEN & 187 & 84 & 32\\\\\n\t3 & MEN & 190 & 84 & 20\\\\\n\t4 & MEN & 182 & 73 & 22\\\\\n\t5 & MEN & 186 & 77 & 26\\\\\n\t6 & MEN & 176 & 69 & 27\\\\\n\\end{tabular}\n",
            "text/plain": [
              "  Property Height Weight Age\n",
              "1 MEN      185    82     38 \n",
              "2 MEN      187    84     32 \n",
              "3 MEN      190    84     20 \n",
              "4 MEN      182    73     22 \n",
              "5 MEN      186    77     26 \n",
              "6 MEN      176    69     27 "
            ]
          },
          "metadata": {}
        },
        {
          "output_type": "display_data",
          "data": {
            "text/plain": [
              " Property      Height          Weight           Age       \n",
              " MEN :25   Min.   :154.0   Min.   :44.00   Min.   :19.00  \n",
              " OLYM:22   1st Qu.:167.0   1st Qu.:60.50   1st Qu.:23.00  \n",
              " WOM :23   Median :175.5   Median :69.00   Median :24.00  \n",
              "           Mean   :174.5   Mean   :68.13   Mean   :25.33  \n",
              "           3rd Qu.:182.0   3rd Qu.:76.00   3rd Qu.:27.00  \n",
              "           Max.   :190.0   Max.   :91.00   Max.   :38.00  "
            ]
          },
          "metadata": {}
        }
      ]
    },
    {
      "cell_type": "markdown",
      "source": [
        "## 選んだ値同士を比較する\n",
        "\n",
        "次の例では，Rの関数sampleにより，男子代表Menの身長Height，五輪代表Olymの身長Height，女子代表Womenの身長Heightの間で比較をしています．\n",
        "\n"
      ],
      "metadata": {
        "id": "rYDbkWWZA-3b"
      }
    },
    {
      "cell_type": "code",
      "source": [
        "# 男子代表と五輪代表の身長の比較\n",
        "x <- sample(Men$Height,1)\n",
        "y <- sample(Olym$Height,1)\n",
        "# 身長xと身長yの差をとる，正なら男子代表，負なら五輪代表が高く，0なら等しい\n",
        "x-y\n",
        "# 一度に5人取り出し比較する\n",
        "# sample関数はとくに指定しなければ重複を許す取り出し\n",
        "x <- sample(Men$Height,5)\n",
        "y <- sample(Olym$Height,5)\n",
        "x-y\n",
        "# 正の要素の個数\n",
        "sum(x-y>0)\n",
        "\n"
      ],
      "metadata": {
        "colab": {
          "base_uri": "https://localhost:8080/",
          "height": 69
        },
        "id": "tc_WV8u3BQ8F",
        "outputId": "cc017e63-675f-4e98-dd08-f25e993350f8"
      },
      "execution_count": null,
      "outputs": [
        {
          "output_type": "display_data",
          "data": {
            "text/html": [
              "-5"
            ],
            "text/markdown": "-5",
            "text/latex": "-5",
            "text/plain": [
              "[1] -5"
            ]
          },
          "metadata": {}
        },
        {
          "output_type": "display_data",
          "data": {
            "text/html": [
              "<style>\n",
              ".list-inline {list-style: none; margin:0; padding: 0}\n",
              ".list-inline>li {display: inline-block}\n",
              ".list-inline>li:not(:last-child)::after {content: \"\\00b7\"; padding: 0 .5ex}\n",
              "</style>\n",
              "<ol class=list-inline><li>19</li><li>3</li><li>-6</li><li>11</li><li>3</li></ol>\n"
            ],
            "text/markdown": "1. 19\n2. 3\n3. -6\n4. 11\n5. 3\n\n\n",
            "text/latex": "\\begin{enumerate*}\n\\item 19\n\\item 3\n\\item -6\n\\item 11\n\\item 3\n\\end{enumerate*}\n",
            "text/plain": [
              "[1] 19  3 -6 11  3"
            ]
          },
          "metadata": {}
        },
        {
          "output_type": "display_data",
          "data": {
            "text/html": [
              "4"
            ],
            "text/markdown": "4",
            "text/latex": "4",
            "text/plain": [
              "[1] 4"
            ]
          },
          "metadata": {}
        }
      ]
    },
    {
      "cell_type": "markdown",
      "source": [
        "この実行例でわかるのは，もとの集団からの取り出しをランダムに行っているために，同じ5人を取り出した場合でも，その順番により正の要素の個数も変わることです．\n",
        "\n",
        "そのため，この実行例で得られた観察を利用するには，\n",
        "- 実験を多数繰り返して集計結果から情報を得る\n",
        "- 元の要素が有限なので総当たりで比べた情報を得る\n",
        "が考えられます．\n",
        "\n",
        "総当たりの場合の正負の割合にもとづいて比較する方法が順位和検定と呼ばれる方法です．\n",
        "「順位」とは（身長の）値の差ではなく，正負の符号のみに着目しているからです．「和」とはもとの値自体ではなく，順位のみに注目し，しかもその和だけを調べれば確率を計算できるという数学的性質にもとづきます．\n",
        "よく使われる順位和による分析方法にWilcoxonの順位和検定があります．\n",
        "「検定」とはこうした比較に際して確率（p-value）を計算する手法をtestと呼ぶことにもとづきます．"
      ],
      "metadata": {
        "id": "LVwMuf8psw1C"
      }
    },
    {
      "cell_type": "code",
      "source": [
        "# Wilcoxonの順位和（rank sum）検定\n",
        "wilcox.test(Men$Height,Olym$Height)"
      ],
      "metadata": {
        "colab": {
          "base_uri": "https://localhost:8080/",
          "height": 156
        },
        "id": "QgWHI46tuQ8t",
        "outputId": "de3ffb2b-f6dd-41cb-f7f6-33c4a8855fa3"
      },
      "execution_count": 27,
      "outputs": [
        {
          "output_type": "stream",
          "name": "stderr",
          "text": [
            "Warning message in wilcox.test.default(Men$Height, Olym$Height):\n",
            "“cannot compute exact p-value with ties”\n"
          ]
        },
        {
          "output_type": "display_data",
          "data": {
            "text/plain": [
              "\n",
              "\tWilcoxon rank sum test with continuity correction\n",
              "\n",
              "data:  Men$Height and Olym$Height\n",
              "W = 251, p-value = 0.6157\n",
              "alternative hypothesis: true location shift is not equal to 0\n"
            ]
          },
          "metadata": {}
        }
      ]
    },
    {
      "cell_type": "markdown",
      "source": [
        "レポート内にtieとあるのは，比較されるべき2つの集団内に同じ値があることを表し，ここでは「タイがあるために正確な確率が計算できない（cannot compute exact p-value with ties）」というメッセージを表示しています．\n",
        "連続性補正（continuity correction）とはよりよい計算値を求めるための技術を表します．\n",
        "ほとんどの検定手法では偶然に検定統計量（ここでは順位和）の値が得られる確率（p値）を計算します．\n",
        "偶然ではない状況に設定される仮説のことを対立仮説（alternative hypothesis）といいます．\n",
        "\n",
        "以上，メッセージにある文の説明をしましたが，本講座では具体的な計算方法までは解説しません．\n",
        "後でp値と対立仮説については説明します．\n",
        "\n",
        "以上で扱った順位情報（大小関係のみの情報）による比較は，数学的知識抜きに比較できる素朴な方法なのですが，コンピュータ利用以前には，実際に計算しようと思うと煩雑な方法だったこともあり，広く使われてはいなかったようです．\n",
        "\n",
        "## 平均値による比較\n",
        "\n",
        "以下では平均値による比較方法について検討します．\n",
        "まずは2つの集団から1名ずつ選びながら，その身長の差を，ヒストグラムをとることにより特徴を観察してみます．"
      ],
      "metadata": {
        "id": "vwPqTmekzuow"
      }
    },
    {
      "cell_type": "code",
      "source": [
        "# 集計するデータをm個集めます\n",
        "m <- 1000\n",
        "# サンプルをn個取り出します\n",
        "# もととなるデータは20個余りしかないが，それより多ければ重複して取り出す\n",
        "n <- 1\n",
        "Sa = numeric(m)\n",
        "for (i in 1:m) {\n",
        "# 男子代表と五輪代表の身長の比較\n",
        "  x <- sample(Men$Height,n)\n",
        "  y <- sample(Olym$Height,n)\n",
        "# 身長xと身長yの差をとる，正なら男子代表，負なら五輪代表が高く，0なら等しい\n",
        "  Sa[i] <- mean(x)-mean(y)\n",
        "}\n",
        "hist(Sa)\n"
      ],
      "metadata": {
        "colab": {
          "base_uri": "https://localhost:8080/",
          "height": 437
        },
        "id": "Kj0YKWEmwudX",
        "outputId": "ce297ba9-bc2b-4557-8813-a9bb6598b165"
      },
      "execution_count": 35,
      "outputs": [
        {
          "output_type": "display_data",
          "data": {
            "text/plain": [
              "Plot with title “Histogram of Sa”"
            ],
            "image/png": "[encoded data removed]"
          },
          "metadata": {
            "image/png": {
              "width": 420,
              "height": 420
            }
          }
        }
      ]
    },
    {
      "cell_type": "markdown",
      "source": [
        "問：上のRプログラムでmは変えずにnを変えて実行した場合に得られるグラフの特徴を観察してみよう．\n",
        "\n",
        "問：上のRプログラムでnは変えずにmを変えて実行した場合に得られるグラフの特徴を観察してみよう．\n",
        "\n",
        "問：上のRプログラムで取り出すデータの一方を女子代表に変えて実行した場合に得られるグラフの特徴を観察してみよう．\n",
        "\n",
        "ここに用意した変更前のプログラムでは男子代表と五輪代表の比較でn=1000，m=1とした．\n",
        "このとき上端から2.5％（つまり25個分）の値は15から20の間，下端は-15から20の間にある．\n",
        "これは比較している2つの集団の差の約95％が，およそ15から-15までの間にあることを示している．\n",
        "\n",
        "ここでRの用意するt検定関数を実行してみよう．\n"
      ],
      "metadata": {
        "id": "pAjF4RN8Bg1w"
      }
    },
    {
      "cell_type": "code",
      "source": [
        "# stemは幹葉図を与える関数\n",
        "t.test(Men$Height,Olym$Height)"
      ],
      "metadata": {
        "colab": {
          "base_uri": "https://localhost:8080/",
          "height": 208
        },
        "id": "WbmBvMM7Cwtf",
        "outputId": "070894fd-bafa-4a4d-a9a3-2e3a01dbdf7e"
      },
      "execution_count": 33,
      "outputs": [
        {
          "output_type": "display_data",
          "data": {
            "text/plain": [
              "\n",
              "\tWelch Two Sample t-test\n",
              "\n",
              "data:  Men$Height and Olym$Height\n",
              "t = -0.28711, df = 41.334, p-value = 0.7755\n",
              "alternative hypothesis: true difference in means is not equal to 0\n",
              "95 percent confidence interval:\n",
              " -4.673346  3.509710\n",
              "sample estimates:\n",
              "mean of x mean of y \n",
              " 179.6000  180.1818 \n"
            ]
          },
          "metadata": {}
        }
      ]
    },
    {
      "cell_type": "markdown",
      "source": [
        "ここで95％信頼区間（95percent confidence interval）は上のヒストグラムで得た観察と同じような意味の数値です．\n",
        "すでに問で試したと思いますが，例題の数値（Nn=1）を10や20など大きな数値にして実行してみてください．\n",
        "この場合に上下端から2.5％にあるおよその値を読み取ってみてください．\n",
        "どうですか．\n",
        "Rのt検定関数の出した95％信頼区間の値に近くなったと思います．\n",
        "\n"
      ],
      "metadata": {
        "id": "3Wj8vKGNC4tn"
      }
    },
    {
      "cell_type": "code",
      "source": [
        "# 各カテゴリーの年齢ごとの度数を集計する\n",
        "table(Men$Age)\n",
        "table(Olym$Age)\n",
        "table(Women$Age)"
      ],
      "metadata": {
        "colab": {
          "base_uri": "https://localhost:8080/",
          "height": 173
        },
        "id": "1ai8_vMNDAM3",
        "outputId": "a6edda4c-80a4-4caa-ff09-d8487d53137e"
      },
      "execution_count": null,
      "outputs": [
        {
          "output_type": "display_data",
          "data": {
            "text/plain": [
              "\n",
              "20 22 23 24 25 26 27 28 29 30 31 32 33 35 38 \n",
              " 1  2  1  3  2  5  1  2  1  1  2  1  1  1  1 "
            ]
          },
          "metadata": {}
        },
        {
          "output_type": "display_data",
          "data": {
            "text/plain": [
              "\n",
              "19 20 21 22 23 24 28 31 33 \n",
              " 1  2  1  3  5  7  1  1  1 "
            ]
          },
          "metadata": {}
        },
        {
          "output_type": "display_data",
          "data": {
            "text/plain": [
              "\n",
              "21 22 23 24 25 26 27 29 31 \n",
              " 3  3  1  4  4  3  2  1  2 "
            ]
          },
          "metadata": {}
        }
      ]
    },
    {
      "cell_type": "markdown",
      "source": [
        "二項係数を計算する"
      ],
      "metadata": {
        "id": "Zt1ZeIT2DGuE"
      }
    },
    {
      "cell_type": "code",
      "source": [
        "n <- 10\n",
        "x <- 0:n\n",
        "choose(n,x)\n",
        "p <- 0.5\n",
        "q <- 1-p\n",
        "y <- n:0\n",
        "Nikou <- choose(n,x)*p^x*q^y\n",
        "sum(Nikou)"
      ],
      "metadata": {
        "colab": {
          "base_uri": "https://localhost:8080/",
          "height": 52
        },
        "id": "tJQSx1emDLbs",
        "outputId": "451daab9-57b0-4ae9-adb9-7678bac9d3fc"
      },
      "execution_count": 47,
      "outputs": [
        {
          "output_type": "display_data",
          "data": {
            "text/html": [
              "<style>\n",
              ".list-inline {list-style: none; margin:0; padding: 0}\n",
              ".list-inline>li {display: inline-block}\n",
              ".list-inline>li:not(:last-child)::after {content: \"\\00b7\"; padding: 0 .5ex}\n",
              "</style>\n",
              "<ol class=list-inline><li>1</li><li>10</li><li>45</li><li>120</li><li>210</li><li>252</li><li>210</li><li>120</li><li>45</li><li>10</li><li>1</li></ol>\n"
            ],
            "text/markdown": "1. 1\n2. 10\n3. 45\n4. 120\n5. 210\n6. 252\n7. 210\n8. 120\n9. 45\n10. 10\n11. 1\n\n\n",
            "text/latex": "\\begin{enumerate*}\n\\item 1\n\\item 10\n\\item 45\n\\item 120\n\\item 210\n\\item 252\n\\item 210\n\\item 120\n\\item 45\n\\item 10\n\\item 1\n\\end{enumerate*}\n",
            "text/plain": [
              " [1]   1  10  45 120 210 252 210 120  45  10   1"
            ]
          },
          "metadata": {}
        },
        {
          "output_type": "display_data",
          "data": {
            "text/html": [
              "1"
            ],
            "text/markdown": "1",
            "text/latex": "1",
            "text/plain": [
              "[1] 1"
            ]
          },
          "metadata": {}
        }
      ]
    },
    {
      "cell_type": "markdown",
      "source": [
        "治験のシミュレーション\n",
        "\n",
        "新薬に効果がなければ15人中9人が回復する状況を設定する．\n",
        "このために1から15の乱数を生成し，9以下なら回復とみなす\n"
      ],
      "metadata": {
        "id": "g3eG1owdDTuG"
      }
    },
    {
      "cell_type": "code",
      "source": [
        "n<-100\n",
        "x <- floor(runif(n,1,16))\n",
        "sum(x > 9)/n"
      ],
      "metadata": {
        "colab": {
          "base_uri": "https://localhost:8080/",
          "height": 34
        },
        "id": "iAL8Od6tDa6L",
        "outputId": "6cf122f9-c462-42ee-acd0-031d4c75aa9a"
      },
      "execution_count": 46,
      "outputs": [
        {
          "output_type": "display_data",
          "data": {
            "text/html": [
              "0.36"
            ],
            "text/markdown": "0.36",
            "text/latex": "0.36",
            "text/plain": [
              "[1] 0.36"
            ]
          },
          "metadata": {}
        }
      ]
    },
    {
      "cell_type": "markdown",
      "source": [
        "高校数学Iで扱った平均値の公式\n",
        "$$\\bar{x}=\\frac{1}{n}\\sum_{k=1}^n x_k$$\n",
        "および分散の公式\n",
        "$$\\frac{1}{n}\\sum_{k=1}^n (x_k-\\bar{x})^2$$\n",
        "をあげます．\n",
        "以下の計算例では，Rの数式計算の特徴をうまく使って計算しているために，数学の計算式と思うとよくわからないところもあります．\n",
        "数学の計算式とRの計算式との違いは後日扱います．\n"
      ],
      "metadata": {
        "id": "23QjlH3cDg97"
      }
    },
    {
      "cell_type": "code",
      "source": [
        "# 関数lengthで公式のnにあたる量を求めている\n",
        "# これをベクトルのサイズという\n",
        "sum(x)/length(x)\n",
        "# 式 x-mean(x)を偏差という\n",
        "# 分散をことばでいうと，偏差の2乗平均である\n",
        "sum((x-mean(x))^2)/length(x)\n",
        "# 上の値は関数varのものと一致しない\n",
        "# var関数と一致するのは次の式の値である\n",
        "# 割り算の分母が少し小さい\n",
        "n <- length(x)\n",
        "sum((x-mean(x))^2)/(n-1)\n",
        "var(x)\n",
        "# 次の計算をすれば上の公式と一致する\n",
        "var(x)*(n-1)/n"
      ],
      "metadata": {
        "colab": {
          "base_uri": "https://localhost:8080/",
          "height": 104
        },
        "id": "0qxfPEUSDlrw",
        "outputId": "d214ac52-3833-4d70-eef3-720abb850753"
      },
      "execution_count": null,
      "outputs": [
        {
          "output_type": "display_data",
          "data": {
            "text/html": [
              "27.24"
            ],
            "text/markdown": "27.24",
            "text/latex": "27.24",
            "text/plain": [
              "[1] 27.24"
            ]
          },
          "metadata": {}
        },
        {
          "output_type": "display_data",
          "data": {
            "text/html": [
              "17.8624"
            ],
            "text/markdown": "17.8624",
            "text/latex": "17.8624",
            "text/plain": [
              "[1] 17.8624"
            ]
          },
          "metadata": {}
        },
        {
          "output_type": "display_data",
          "data": {
            "text/html": [
              "18.6066666666667"
            ],
            "text/markdown": "18.6066666666667",
            "text/latex": "18.6066666666667",
            "text/plain": [
              "[1] 18.60667"
            ]
          },
          "metadata": {}
        },
        {
          "output_type": "display_data",
          "data": {
            "text/html": [
              "18.6066666666667"
            ],
            "text/markdown": "18.6066666666667",
            "text/latex": "18.6066666666667",
            "text/plain": [
              "[1] 18.60667"
            ]
          },
          "metadata": {}
        },
        {
          "output_type": "display_data",
          "data": {
            "text/html": [
              "17.8624"
            ],
            "text/markdown": "17.8624",
            "text/latex": "17.8624",
            "text/plain": [
              "[1] 17.8624"
            ]
          },
          "metadata": {}
        }
      ]
    },
    {
      "cell_type": "markdown",
      "source": [
        "ここで改めて，同じxに対して平均値，標準偏差，ヒストグラムを計算させます．\n",
        "さらに平均値±標準偏差および平均値±2倍の標準偏差を計算しておきました．\n",
        "\n",
        "問：上の各値はヒストグラムのどこに読み取れるでしょうか．"
      ],
      "metadata": {
        "id": "Q3VqgUbrDrga"
      }
    }
  ]
}