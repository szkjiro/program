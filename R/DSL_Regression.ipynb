{
  "nbformat": 4,
  "nbformat_minor": 5,
  "metadata": {
    "kernelspec": {
      "display_name": "R",
      "language": "R",
      "name": "ir"
    },
    "language_info": {
      "codemirror_mode": "r",
      "file_extension": ".r",
      "mimetype": "text/x-r-source",
      "name": "R",
      "pygments_lexer": "r",
      "version": "3.6.1"
    },
    "colab": {
      "provenance": [],
      "collapsed_sections": []
    }
  },
  "cells": [
    {
      "cell_type": "markdown",
      "id": "0a405b70",
      "metadata": {
        "id": "0a405b70"
      },
      "source": [
        "## 相関係数と回帰直線\n",
        "\n",
        "相関係数と回帰直線とを扱う．\n",
        "最初の例は以前にも扱ったサッカー選手の年齢Age，身長Height，体重Weightのデータである．\n",
        "まずは変数Japanに代入しておく．\n",
        "\n"
      ]
    },
    {
      "cell_type": "code",
      "source": [
        "# CSVファイルの読み込み\n",
        "# 変数名Japanに保存\n",
        "Japan <- read.csv(\"SCMEM20211018.csv\", stringsAsFactors=TRUE)\n",
        "# はじめの6行を表示，\n",
        "head(Japan)\n",
        "# データの構成を表示\n",
        "# PropertyはMEN, OLYM, WOMの3種で構成されている\n",
        "# それぞれ男子，五輪，女子メンバーに対応する\n",
        "summary(Japan)\n",
        "# 変数名MenにPropertyの値がMENであるデータを代入\n",
        "Men <- Japan[Japan$Property==\"MEN\",]\n",
        "# 変数名WomenにPropertyの値がWOMであるデータを代入\n",
        "Women <- Japan[Japan$Property==\"WOM\",]\n",
        "# 変数名OlymにPropertyの値がOLYMであるデータを代入\n",
        "Olym <- Japan[Japan$Property==\"OLYM\",]"
      ],
      "metadata": {
        "colab": {
          "base_uri": "https://localhost:8080/",
          "height": 415
        },
        "id": "mDJ4wauR2YPb",
        "outputId": "b83d80e6-e817-4503-c6e8-c67f66d38549"
      },
      "id": "mDJ4wauR2YPb",
      "execution_count": 1,
      "outputs": [
        {
          "output_type": "display_data",
          "data": {
            "text/html": [
              "<table class=\"dataframe\">\n",
              "<caption>A data.frame: 6 × 4</caption>\n",
              "<thead>\n",
              "\t<tr><th></th><th scope=col>Property</th><th scope=col>Height</th><th scope=col>Weight</th><th scope=col>Age</th></tr>\n",
              "\t<tr><th></th><th scope=col>&lt;fct&gt;</th><th scope=col>&lt;int&gt;</th><th scope=col>&lt;int&gt;</th><th scope=col>&lt;int&gt;</th></tr>\n",
              "</thead>\n",
              "<tbody>\n",
              "\t<tr><th scope=row>1</th><td>MEN</td><td>185</td><td>82</td><td>38</td></tr>\n",
              "\t<tr><th scope=row>2</th><td>MEN</td><td>187</td><td>84</td><td>32</td></tr>\n",
              "\t<tr><th scope=row>3</th><td>MEN</td><td>190</td><td>84</td><td>20</td></tr>\n",
              "\t<tr><th scope=row>4</th><td>MEN</td><td>182</td><td>73</td><td>22</td></tr>\n",
              "\t<tr><th scope=row>5</th><td>MEN</td><td>186</td><td>77</td><td>26</td></tr>\n",
              "\t<tr><th scope=row>6</th><td>MEN</td><td>176</td><td>69</td><td>27</td></tr>\n",
              "</tbody>\n",
              "</table>\n"
            ],
            "text/markdown": "\nA data.frame: 6 × 4\n\n| <!--/--> | Property &lt;fct&gt; | Height &lt;int&gt; | Weight &lt;int&gt; | Age &lt;int&gt; |\n|---|---|---|---|---|\n| 1 | MEN | 185 | 82 | 38 |\n| 2 | MEN | 187 | 84 | 32 |\n| 3 | MEN | 190 | 84 | 20 |\n| 4 | MEN | 182 | 73 | 22 |\n| 5 | MEN | 186 | 77 | 26 |\n| 6 | MEN | 176 | 69 | 27 |\n\n",
            "text/latex": "A data.frame: 6 × 4\n\\begin{tabular}{r|llll}\n  & Property & Height & Weight & Age\\\\\n  & <fct> & <int> & <int> & <int>\\\\\n\\hline\n\t1 & MEN & 185 & 82 & 38\\\\\n\t2 & MEN & 187 & 84 & 32\\\\\n\t3 & MEN & 190 & 84 & 20\\\\\n\t4 & MEN & 182 & 73 & 22\\\\\n\t5 & MEN & 186 & 77 & 26\\\\\n\t6 & MEN & 176 & 69 & 27\\\\\n\\end{tabular}\n",
            "text/plain": [
              "  Property Height Weight Age\n",
              "1 MEN      185    82     38 \n",
              "2 MEN      187    84     32 \n",
              "3 MEN      190    84     20 \n",
              "4 MEN      182    73     22 \n",
              "5 MEN      186    77     26 \n",
              "6 MEN      176    69     27 "
            ]
          },
          "metadata": {}
        },
        {
          "output_type": "display_data",
          "data": {
            "text/plain": [
              " Property      Height          Weight           Age       \n",
              " MEN :25   Min.   :154.0   Min.   :44.00   Min.   :19.00  \n",
              " OLYM:22   1st Qu.:167.0   1st Qu.:60.50   1st Qu.:23.00  \n",
              " WOM :23   Median :175.5   Median :69.00   Median :24.00  \n",
              "           Mean   :174.5   Mean   :68.13   Mean   :25.33  \n",
              "           3rd Qu.:182.0   3rd Qu.:76.00   3rd Qu.:27.00  \n",
              "           Max.   :190.0   Max.   :91.00   Max.   :38.00  "
            ]
          },
          "metadata": {}
        }
      ]
    },
    {
      "cell_type": "markdown",
      "source": [
        "## 相関係数と散布度，回帰直線\n",
        "\n",
        "最初に注意したいのは異なるカテゴリーの代表，たとえば男子フル代表と五輪代表の年齢同士では相関係数などを求めないことである．\n",
        "なぜなら相関係数などを求めるためには，その組み合わせにおいて各データに意味ある対応があるべきだからである．\n",
        "\n",
        "男子フル代表の1番目と五輪代表の1番目とを対応づける合理的な理由はなく，たまたま，そのような順序に並べられただけだろう．\n",
        "\n",
        "以下の例では，男子フル代表のデータをもとに，年齢と身長などの同じ選手同士の対応を考えて，相関係数などを計算させていく．\n"
      ],
      "metadata": {
        "id": "dRcMkmmo3Kkx"
      },
      "id": "dRcMkmmo3Kkx"
    },
    {
      "cell_type": "code",
      "source": [
        "# 情報の確認\n",
        "summary(Men)"
      ],
      "metadata": {
        "colab": {
          "base_uri": "https://localhost:8080/",
          "height": 146
        },
        "id": "O95p35Oq4Clx",
        "outputId": "4804066b-5c3f-45e7-9fcd-357dff963480"
      },
      "id": "O95p35Oq4Clx",
      "execution_count": 2,
      "outputs": [
        {
          "output_type": "display_data",
          "data": {
            "text/plain": [
              " Property      Height          Weight           Age       \n",
              " MEN :25   Min.   :167.0   Min.   :63.00   Min.   :20.00  \n",
              " OLYM: 0   1st Qu.:176.0   1st Qu.:68.00   1st Qu.:24.00  \n",
              " WOM : 0   Median :180.0   Median :73.00   Median :26.00  \n",
              "           Mean   :179.6   Mean   :73.52   Mean   :27.24  \n",
              "           3rd Qu.:185.0   3rd Qu.:77.00   3rd Qu.:30.00  \n",
              "           Max.   :190.0   Max.   :87.00   Max.   :38.00  "
            ]
          },
          "metadata": {}
        }
      ]
    },
    {
      "cell_type": "markdown",
      "source": [
        "Rでは4つの列の名前Property，Height，Weight，Ageを第1列から第4列として番号を指定すれば扱える．\n",
        "第1列のPropertyの値はMenであり，数値ではない．\n",
        "これを除外して処理しよう．"
      ],
      "metadata": {
        "id": "f5Rrnr9r4Ool"
      },
      "id": "f5Rrnr9r4Ool"
    },
    {
      "cell_type": "code",
      "source": [
        "# 男子フル代表の散布図の表示\n",
        "plot(Men[,2:4])\n",
        "# 男子フル代表の相関係数の計算\n",
        "cor(Men[,2:4])"
      ],
      "metadata": {
        "colab": {
          "base_uri": "https://localhost:8080/",
          "height": 581
        },
        "id": "nOAt0XtG4jDC",
        "outputId": "5fb163ca-8d30-40b2-c892-bb9c7b67d52d"
      },
      "id": "nOAt0XtG4jDC",
      "execution_count": 3,
      "outputs": [
        {
          "output_type": "display_data",
          "data": {
            "text/html": [
              "<table class=\"dataframe\">\n",
              "<caption>A matrix: 3 × 3 of type dbl</caption>\n",
              "<thead>\n",
              "\t<tr><th></th><th scope=col>Height</th><th scope=col>Weight</th><th scope=col>Age</th></tr>\n",
              "</thead>\n",
              "<tbody>\n",
              "\t<tr><th scope=row>Height</th><td>1.000000000</td><td>0.8878352</td><td>0.006762521</td></tr>\n",
              "\t<tr><th scope=row>Weight</th><td>0.887835228</td><td>1.0000000</td><td>0.106902206</td></tr>\n",
              "\t<tr><th scope=row>Age</th><td>0.006762521</td><td>0.1069022</td><td>1.000000000</td></tr>\n",
              "</tbody>\n",
              "</table>\n"
            ],
            "text/markdown": "\nA matrix: 3 × 3 of type dbl\n\n| <!--/--> | Height | Weight | Age |\n|---|---|---|---|\n| Height | 1.000000000 | 0.8878352 | 0.006762521 |\n| Weight | 0.887835228 | 1.0000000 | 0.106902206 |\n| Age | 0.006762521 | 0.1069022 | 1.000000000 |\n\n",
            "text/latex": "A matrix: 3 × 3 of type dbl\n\\begin{tabular}{r|lll}\n  & Height & Weight & Age\\\\\n\\hline\n\tHeight & 1.000000000 & 0.8878352 & 0.006762521\\\\\n\tWeight & 0.887835228 & 1.0000000 & 0.106902206\\\\\n\tAge & 0.006762521 & 0.1069022 & 1.000000000\\\\\n\\end{tabular}\n",
            "text/plain": [
              "       Height      Weight    Age        \n",
              "Height 1.000000000 0.8878352 0.006762521\n",
              "Weight 0.887835228 1.0000000 0.106902206\n",
              "Age    0.006762521 0.1069022 1.000000000"
            ]
          },
          "metadata": {}
        },
        {
          "output_type": "display_data",
          "data": {
            "text/plain": [
              "plot without title"
            ],
            "image/png": "[encoded data removed]"
          },
          "metadata": {
            "image/png": {
              "width": 420,
              "height": 420
            }
          }
        }
      ]
    },
    {
      "cell_type": "markdown",
      "source": [
        "ここで2種類の情報が得られた．\n",
        "1番目を相関係数行列（相関係数が行列状に並べられている）といい，2番目を散布図行列（散布図が行列状に並べられている）という．\n",
        "\n",
        "この出力の解釈を進める前に，今後も「第2列から第4列を参照」という意味の[,2:4]を目にしなくて済むように，第2列から第4列の数値のみをもつ変数を新たに作成しておこう．\n"
      ],
      "metadata": {
        "id": "rgCgssp84sbo"
      },
      "id": "rgCgssp84sbo"
    },
    {
      "cell_type": "code",
      "source": [
        "# 数値情報だけのデータを新たに定義する\n",
        "Men1 <- Men[,2:4]\n",
        "# 男子代表の散布図の表示\n",
        "plot(Men1)\n",
        "# 男子代表の相関係数の計算\n",
        "cor(Men1)"
      ],
      "metadata": {
        "colab": {
          "base_uri": "https://localhost:8080/",
          "height": 581
        },
        "id": "_4sgH54n5gIR",
        "outputId": "f9739ed7-f4ca-4dcf-dd04-840961695d91"
      },
      "id": "_4sgH54n5gIR",
      "execution_count": 4,
      "outputs": [
        {
          "output_type": "display_data",
          "data": {
            "text/html": [
              "<table class=\"dataframe\">\n",
              "<caption>A matrix: 3 × 3 of type dbl</caption>\n",
              "<thead>\n",
              "\t<tr><th></th><th scope=col>Height</th><th scope=col>Weight</th><th scope=col>Age</th></tr>\n",
              "</thead>\n",
              "<tbody>\n",
              "\t<tr><th scope=row>Height</th><td>1.000000000</td><td>0.8878352</td><td>0.006762521</td></tr>\n",
              "\t<tr><th scope=row>Weight</th><td>0.887835228</td><td>1.0000000</td><td>0.106902206</td></tr>\n",
              "\t<tr><th scope=row>Age</th><td>0.006762521</td><td>0.1069022</td><td>1.000000000</td></tr>\n",
              "</tbody>\n",
              "</table>\n"
            ],
            "text/markdown": "\nA matrix: 3 × 3 of type dbl\n\n| <!--/--> | Height | Weight | Age |\n|---|---|---|---|\n| Height | 1.000000000 | 0.8878352 | 0.006762521 |\n| Weight | 0.887835228 | 1.0000000 | 0.106902206 |\n| Age | 0.006762521 | 0.1069022 | 1.000000000 |\n\n",
            "text/latex": "A matrix: 3 × 3 of type dbl\n\\begin{tabular}{r|lll}\n  & Height & Weight & Age\\\\\n\\hline\n\tHeight & 1.000000000 & 0.8878352 & 0.006762521\\\\\n\tWeight & 0.887835228 & 1.0000000 & 0.106902206\\\\\n\tAge & 0.006762521 & 0.1069022 & 1.000000000\\\\\n\\end{tabular}\n",
            "text/plain": [
              "       Height      Weight    Age        \n",
              "Height 1.000000000 0.8878352 0.006762521\n",
              "Weight 0.887835228 1.0000000 0.106902206\n",
              "Age    0.006762521 0.1069022 1.000000000"
            ]
          },
          "metadata": {}
        },
        {
          "output_type": "display_data",
          "data": {
            "text/plain": [
              "plot without title"
            ],
            "image/png": "[encoded data removed]"
          },
          "metadata": {
            "image/png": {
              "width": 420,
              "height": 420
            }
          }
        }
      ]
    },
    {
      "cell_type": "markdown",
      "source": [
        "散布図は2変量の関係性を図示している．\n",
        "HeightとWeightの組み合わせでは点が右上がりに並ぶ分布，つまり正の相関があるが，Ageとの組み合わせでは右上がりなどの傾向は見られない．\n",
        "\n",
        "こうした印象を感覚的なだけでなく数値的に見たい．\n",
        "それを与えるのが相関係数である．\n",
        "HeightとWeightの組み合わせで相関係数は0.888と正の値かつ1に近く，Ageとの組み合わせではそれぞれ0.007と0.107であり，0に近い値になっていることがわかる．\n",
        "\n",
        "問：男子五輪代表と女子代表ではどうなっているか確かめよ．\n",
        "\n",
        "## 回帰直線\n",
        "\n",
        "上で見た身長と体重の相関関係をもう少し詳しく観察してみる．\n",
        "まずは散布図行列とせず，この2変量のみで散布図を描いてみる．"
      ],
      "metadata": {
        "id": "FE86u5-D5ln3"
      },
      "id": "FE86u5-D5ln3"
    },
    {
      "cell_type": "code",
      "source": [
        "# 身長を横軸にとる\n",
        "plot(Men$Height,Men$Weight)\n",
        "# 体重を横軸にとる\n",
        "plot(Men$Weight,Men$Height)"
      ],
      "metadata": {
        "colab": {
          "base_uri": "https://localhost:8080/",
          "height": 857
        },
        "id": "ch9_2U8y6rZE",
        "outputId": "b0a764ee-453d-4900-cc6b-49a5bb3dbd8a"
      },
      "id": "ch9_2U8y6rZE",
      "execution_count": 5,
      "outputs": [
        {
          "output_type": "display_data",
          "data": {
            "text/plain": [
              "plot without title"
            ],
            "image/png": "[encoded data removed]"
          },
          "metadata": {
            "image/png": {
              "width": 420,
              "height": 420
            }
          }
        },
        {
          "output_type": "display_data",
          "data": {
            "text/plain": [
              "plot without title"
            ],
            "image/png": "[encoded data removed]"
          },
          "metadata": {
            "image/png": {
              "width": 420,
              "height": 420
            }
          }
        }
      ]
    },
    {
      "cell_type": "markdown",
      "source": [
        "ここで描いた2つの散布図のうち，どちらが適切であろうか．\n",
        "単なる数学として考えれば，xからyを見ても，yからxを見ても，いずれもたいした違いはない．\n",
        "しかしデータ分析の考え方では，横軸（x軸）にある変量を動かすものとし，縦軸（y軸）のある変量は，横軸の値に応じて得られる値だとみなす習慣がある．\n",
        "このためx軸にとる変数を説明変数，y軸にとる変数を目的変数という呼び方をする．\n",
        "\n",
        "この例では，身長と体重のいずれを説明変数とした方が解釈しやすいだろうか．\n",
        "つまり身長の変化により体重の変化が生じているとみなすか，あるいは体重の変化により身長の変化が生じているとみなすかである．\n",
        "通常は前者，つまり身長が高ければ体重もたいてい大きいとみなすであろう．\n",
        "そのため，この例では，身長Heightの方が解釈のしやすさから説明変数に選ばれる．\n",
        "\n",
        "ここで説明変数Heightにもとづく，解釈を補う直線を追加する．\n"
      ],
      "metadata": {
        "id": "D-L8C-e36ziA"
      },
      "id": "D-L8C-e36ziA"
    },
    {
      "cell_type": "code",
      "source": [
        "# 身長を横軸にとる\n",
        "plot(Men$Height,Men$Weight)\n",
        "# 回帰直線の追加\n",
        "# lm関数で回帰直線を計算\n",
        "# 一時的に変数AddLineにその結果を保存する\n",
        "AddLine <- lm( Men$Weight ~ Men$Height )\n",
        "# abline関数は直線を散布図に書き加える\n",
        "abline(AddLine)"
      ],
      "metadata": {
        "colab": {
          "base_uri": "https://localhost:8080/",
          "height": 437
        },
        "id": "viEeHy558SQ1",
        "outputId": "47063c22-0c28-40f4-88b9-1d7ba357162f"
      },
      "id": "viEeHy558SQ1",
      "execution_count": 6,
      "outputs": [
        {
          "output_type": "display_data",
          "data": {
            "text/plain": [
              "plot without title"
            ],
            "image/png": "[encoded data removed]"
          },
          "metadata": {
            "image/png": {
              "width": 420,
              "height": 420
            }
          }
        }
      ]
    },
    {
      "cell_type": "markdown",
      "source": [
        "直線は関数lmにより計算した．\n",
        "関数名lmは線形モデル（linear model）に由来する．\n",
        "いきなりグラフを描かせる例をあげたが，\n",
        "少し戻って，\n",
        "この関数による計算結果を確認しておこう．\n",
        "Rでは「モデルを扱う」ときに記号「〜」を使う約束である．"
      ],
      "metadata": {
        "id": "R7fSTadW8YZU"
      },
      "id": "R7fSTadW8YZU"
    },
    {
      "cell_type": "code",
      "source": [
        "# lm関数で回帰直線を計算\n",
        "lm( Men$Weight ~ Men$Height )"
      ],
      "metadata": {
        "colab": {
          "base_uri": "https://localhost:8080/",
          "height": 146
        },
        "id": "nfwjWngF8uDy",
        "outputId": "3efaf546-42a6-4186-ec6f-20fce593f37c"
      },
      "id": "nfwjWngF8uDy",
      "execution_count": 7,
      "outputs": [
        {
          "output_type": "display_data",
          "data": {
            "text/plain": [
              "\n",
              "Call:\n",
              "lm(formula = Men$Weight ~ Men$Height)\n",
              "\n",
              "Coefficients:\n",
              "(Intercept)   Men$Height  \n",
              "  -100.4343       0.9686  \n"
            ]
          },
          "metadata": {}
        }
      ]
    },
    {
      "cell_type": "markdown",
      "source": [
        "直線には傾きと切片の2つの係数があることを知っている．\n",
        "この出力において，Interceptは切片を表すことばである．\n",
        "つまり式 $y=-100.4+0.9686x$ が散布図に重ね書きされた直線の式である．\n",
        "\n",
        "## 相関係数なのど数式の確認\n",
        "\n",
        "ここで相関係数などの計算式を確認しておこう．\n",
        "サイズの等しい2変量 $(x_1,y_1),\\dots,(x_n,y_n)$ が与えられたとすれば，\n",
        "\n",
        "統計学では，シグマ記号Σによる合計範囲が共通のことが多い（ここでは1からnまで）こともあり，添字の範囲は省略して表すことが多い．\n",
        "たとえば平均値 $\\bar{x}$ の式（左辺）を右辺のように表すのである．\n",
        "$$\n",
        "\\bar{x} = \\frac{1}{n} \\sum_{i=1}^n x_i = \\frac{1}{n} \\sum x_i\n",
        "$$\n",
        "相関係数Rは次式の通りである．\n",
        "$$\n",
        "R = \\frac{\\sum (x_i-\\bar{x})(y_i-\\bar{y})}{\\sqrt{\\sum (x_i-\\bar{x})^2}\\sqrt{\\sum (y_i-\\bar{y})^2}}\n",
        "$$\n",
        "ここで $\\bar{x}$，$\\bar{y}$ はそれぞれの平均値，\n",
        "すなわち\n",
        "$$\n",
        "\\bar{x} = \\frac{1}{n} \\sum x_i,\\quad\n",
        "\\bar{y} = \\frac{1}{n} \\sum y_i\n",
        "$$\n",
        "である．\n",
        "\n",
        "Rの式の分子は，標本サイズで割れば共分散（Rの関数はcovの(n-1)/n倍）の式である．\n",
        "つまり\n",
        "$$\n",
        "共分散 = \\frac{1}{n}\\sum (x_i-\\bar{x})(y_i-\\bar{y})\n",
        "$$\n",
        "である．\n",
        "\n",
        "Rの式の分母はそれぞれxとyの分散（Rの関数varの(n-1)/n倍）の平方根（標準偏差）である．\n",
        "Rの関数では分散も共分散もnではなく，n-1で割った値であるが，\n",
        "分母分子で打ち消し合うので，nで割っても，n-1で割っても違いはない．\n",
        "\n",
        "以下の計算例は以上の関係を確かめている．"
      ],
      "metadata": {
        "id": "FNT5a3ee8-53"
      },
      "id": "FNT5a3ee8-53"
    },
    {
      "cell_type": "code",
      "source": [
        "# x,yにMen$Height，Men$Weightを設定しておく\n",
        "x <- Men$Height\n",
        "y <- Men$Weight\n",
        "# covは共分散関数，corは相関係数，sdは標準偏差\n",
        "cor(x,y)\n",
        "cov(x,y)/sd(x)/sd(y)"
      ],
      "metadata": {
        "colab": {
          "base_uri": "https://localhost:8080/",
          "height": 52
        },
        "id": "Yzci2KKv_a-9",
        "outputId": "d9dd7d2f-f42b-4553-8a68-a988aa49a62b"
      },
      "id": "Yzci2KKv_a-9",
      "execution_count": 8,
      "outputs": [
        {
          "output_type": "display_data",
          "data": {
            "text/html": [
              "0.887835228228105"
            ],
            "text/markdown": "0.887835228228105",
            "text/latex": "0.887835228228105",
            "text/plain": [
              "[1] 0.8878352"
            ]
          },
          "metadata": {}
        },
        {
          "output_type": "display_data",
          "data": {
            "text/html": [
              "0.887835228228105"
            ],
            "text/markdown": "0.887835228228105",
            "text/latex": "0.887835228228105",
            "text/plain": [
              "[1] 0.8878352"
            ]
          },
          "metadata": {}
        }
      ]
    },
    {
      "cell_type": "markdown",
      "source": [
        "回帰直線の式 $y=a+bx$ は\n",
        "$$\n",
        "b = \\frac{\\sum (x_i-\\bar{x})(y_i-\\bar{y})}{\\sum (x_i-\\bar{x})^2},\\quad a=\\bar{y}-b\\bar{x}\n",
        "$$\n",
        "である．\n",
        "だから関数lmを使わなくても，Rの関数（共分散cov，分散var）を用いて，次のように計算できる．"
      ],
      "metadata": {
        "id": "jAc5bRrP_iLK"
      },
      "id": "jAc5bRrP_iLK"
    },
    {
      "cell_type": "code",
      "source": [
        "# 回帰直線の式\n",
        "lm(y~x)\n",
        "# 計算式, meanは平均値を計算\n",
        "b <- cov(x,y)/var(x)\n",
        "# 切片aの値\n",
        "mean(y)-b*mean(x)\n",
        "# 傾きbの表示\n",
        "b"
      ],
      "metadata": {
        "colab": {
          "base_uri": "https://localhost:8080/",
          "height": 180
        },
        "id": "JnFnNf6-_ysj",
        "outputId": "203aefad-2b02-477c-dc84-7fd3924e3742"
      },
      "id": "JnFnNf6-_ysj",
      "execution_count": 10,
      "outputs": [
        {
          "output_type": "display_data",
          "data": {
            "text/plain": [
              "\n",
              "Call:\n",
              "lm(formula = y ~ x)\n",
              "\n",
              "Coefficients:\n",
              "(Intercept)            x  \n",
              "  -100.4343       0.9686  \n"
            ]
          },
          "metadata": {}
        },
        {
          "output_type": "display_data",
          "data": {
            "text/html": [
              "-100.434345991561"
            ],
            "text/markdown": "-100.434345991561",
            "text/latex": "-100.434345991561",
            "text/plain": [
              "[1] -100.4343"
            ]
          },
          "metadata": {}
        },
        {
          "output_type": "display_data",
          "data": {
            "text/html": [
              "0.968565400843882"
            ],
            "text/markdown": "0.968565400843882",
            "text/latex": "0.968565400843882",
            "text/plain": [
              "[1] 0.9685654"
            ]
          },
          "metadata": {}
        }
      ]
    },
    {
      "cell_type": "markdown",
      "source": [
        "分散は標準偏差の自乗だから，相関係数Rと回帰直線の傾きとの関係式（ここではRの分散関数varおよび標準偏差関数sdを使って総和記号を用いた数式表示を省略した）\n",
        "$$\n",
        "R \\times \\frac{sd(x) sd(y)}{var(x)} =\n",
        "R \\times \\frac{sd(y)}{sd(x)} = b\n",
        "$$\n",
        "のような関係も確かめられる．\n",
        "計算で確かめよう．"
      ],
      "metadata": {
        "id": "bj0sYuneAO1F"
      },
      "id": "bj0sYuneAO1F"
    },
    {
      "cell_type": "code",
      "source": [
        "# bは上で計算済み\n",
        "# 上の式の左辺\n",
        "cor(x,y)*sd(x)*sd(y)/var(x)\n",
        "# 上の式の右辺\n",
        "cor(x,y)*sd(y)/sd(x)\n",
        "# 傾きbの値\n",
        "b"
      ],
      "metadata": {
        "colab": {
          "base_uri": "https://localhost:8080/",
          "height": 69
        },
        "id": "0Au_2HyHAvEI",
        "outputId": "8f702987-cbf9-49d8-f241-7575b297b3f0"
      },
      "id": "0Au_2HyHAvEI",
      "execution_count": 12,
      "outputs": [
        {
          "output_type": "display_data",
          "data": {
            "text/html": [
              "0.968565400843882"
            ],
            "text/markdown": "0.968565400843882",
            "text/latex": "0.968565400843882",
            "text/plain": [
              "[1] 0.9685654"
            ]
          },
          "metadata": {}
        },
        {
          "output_type": "display_data",
          "data": {
            "text/html": [
              "0.968565400843882"
            ],
            "text/markdown": "0.968565400843882",
            "text/latex": "0.968565400843882",
            "text/plain": [
              "[1] 0.9685654"
            ]
          },
          "metadata": {}
        },
        {
          "output_type": "display_data",
          "data": {
            "text/html": [
              "0.968565400843882"
            ],
            "text/markdown": "0.968565400843882",
            "text/latex": "0.968565400843882",
            "text/plain": [
              "[1] 0.9685654"
            ]
          },
          "metadata": {}
        }
      ]
    },
    {
      "cell_type": "markdown",
      "source": [
        "一つ注意しておく．\n",
        "回帰直線の傾きの式を見ればわかるように，説明変数と目的変数とを入れ替えれば，傾きの値は異なってしまう．\n",
        "式の分母は説明変数の分散だからである．\n",
        "直線の式$y=a+bx$をxについて数学的に解けば，その傾きは，もとの直線の傾きの逆数になるはずである．\n",
        "しかしデータ分析で与える傾きはそうはならないことを計算で確かめよう．"
      ],
      "metadata": {
        "id": "VGnkF3FcBBz_"
      },
      "id": "VGnkF3FcBBz_"
    },
    {
      "cell_type": "code",
      "source": [
        "lm(y~x)\n",
        "lm(x~y)"
      ],
      "metadata": {
        "colab": {
          "base_uri": "https://localhost:8080/",
          "height": 274
        },
        "id": "1A58o1SHBY-j",
        "outputId": "dff407d3-65e0-4dd2-805c-330371093d8a"
      },
      "id": "1A58o1SHBY-j",
      "execution_count": 13,
      "outputs": [
        {
          "output_type": "display_data",
          "data": {
            "text/plain": [
              "\n",
              "Call:\n",
              "lm(formula = y ~ x)\n",
              "\n",
              "Coefficients:\n",
              "(Intercept)            x  \n",
              "  -100.4343       0.9686  \n"
            ]
          },
          "metadata": {}
        },
        {
          "output_type": "display_data",
          "data": {
            "text/plain": [
              "\n",
              "Call:\n",
              "lm(formula = x ~ y)\n",
              "\n",
              "Coefficients:\n",
              "(Intercept)            y  \n",
              "   119.7669       0.8138  \n"
            ]
          },
          "metadata": {}
        }
      ]
    },
    {
      "cell_type": "markdown",
      "source": [
        "この例では，いずれの傾きも1より小さく，これらの積が1にならないことは明らかであろう．\n",
        "\n",
        "問：男子五輪代表および女子代表の場合に，ここまで計算してきたことを確かめよ．"
      ],
      "metadata": {
        "id": "nd-g6jWIBe4L"
      },
      "id": "nd-g6jWIBe4L"
    }
  ]
}