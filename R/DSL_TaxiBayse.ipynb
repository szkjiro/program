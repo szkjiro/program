{
  "nbformat": 4,
  "nbformat_minor": 5,
  "metadata": {
    "kernelspec": {
      "display_name": "R",
      "language": "R",
      "name": "ir"
    },
    "language_info": {
      "codemirror_mode": "r",
      "file_extension": ".r",
      "mimetype": "text/x-r-source",
      "name": "R",
      "pygments_lexer": "r",
      "version": "3.6.1"
    },
    "colab": {
      "provenance": [],
      "collapsed_sections": []
    }
  },
  "cells": [
    {
      "cell_type": "markdown",
      "id": "0a405b70",
      "metadata": {
        "id": "0a405b70"
      },
      "source": [
        "## トヴェルスキー＝カーネマンによるタクシーの問題\n",
        "\n",
        "トヴェルスキーとカーネマンは人間が確率的判断を不得意とする事例として次の問題を提起した．\n",
        "\n",
        "> タクシーの問題：ある街でタクシーによるひき逃げ事件が発生した．\n",
        "目撃者の証言によると「ひき逃げしたタクシーは青色」であった．\n",
        "その証言の信憑性を，事故時と同じ状況下で確認したところ（目撃者は必ずどちらかと答えるものとする），\n",
        "青色タクシーでも緑色タクシーでも80%の確率で正しく色を識別できた．\n",
        "証言通り，青色タクシーがひき逃げした確率はどれだけだろうか？\n",
        "なお，この街では（タクシーの車体の色は緑色タクシーと青色タクシーしかなく）\n",
        "タクシー総数の85%が緑色，15%が青色である．\n",
        "\n",
        "この問題は逆確率の問題あるいはベイズ確率の応用として通常は説明される．\n",
        "ベイズ確率の計算式とは条件付き確率記号 $P(A|B)$ （Bが起こった場合にAの起こる確率）を用いると\n",
        "$$\n",
        "P(B|A) = \\frac{P(A|B)P(B)}{P(A|B)P(B)+P(A|\\bar{B})P(A|\\bar{B})}\n",
        "$$\n",
        "として説明される．\n",
        "\n",
        "この問題を以下のように整理する．\n",
        "\n",
        "- 「目撃者の証言＝青色タクシーと証言したときに青色タクシーである」，その確率 $P(B|A)$を得たい\n",
        "- 青色タクシーの割合$P(B)=0.15$，緑色タクシーの割合$P(\\bar{B})=0.85$\n",
        "- 青色タクシーを青と証言 ($P(A|B)=0.8$)\n",
        "- 緑色タクシーを緑と証言 ($P(\\bar{A}|\\bar{B})=0.8$) \n",
        "- 必ずいずれかを証言するので緑色タクシーを青色タクシーと証言$P(A|\\bar{B})=0.2$を補う\n",
        "\n",
        "すると\n",
        "$$\n",
        "P(B|A) = \\frac{0.8\\times 0.15}{0.8\\times 0.15+0.8\\times 0.85}\n",
        "= 0.41\\dots\n",
        "$$\n",
        "と計算できて，目撃者の証言はあまり当てにならないことがわかる．\n",
        "\n",
        "何が私たちを誤認させたのだろうか．\n",
        "カーネマンらは，私たちは問題とする事象の存在確率（ここでは青色タクシーの割合0.15）を無視しがちであることが大きな原因であると指摘した．\n",
        "次のRプログラムで，いくつかの比率を変えて試してみよう．"
      ]
    },
    {
      "cell_type": "code",
      "source": [
        "# Pb=P(B),Pab=P(A|B)\n",
        "Pb <- 0.01\n",
        "Pab <- 0.99\n",
        "# Pba=P(B|A)\n",
        "Pba <- (Pab*Pb)/(Pab*Pb+(1-Pab)*(1-Pb))\n",
        "Pba"
      ],
      "metadata": {
        "colab": {
          "base_uri": "https://localhost:8080/",
          "height": 34
        },
        "id": "CMXotKfyvEiX",
        "outputId": "2ace515f-7053-4b15-b7d5-425ac1772028"
      },
      "id": "CMXotKfyvEiX",
      "execution_count": 1,
      "outputs": [
        {
          "output_type": "display_data",
          "data": {
            "text/html": [
              "0.5"
            ],
            "text/markdown": "0.5",
            "text/latex": "0.5",
            "text/plain": [
              "[1] 0.5"
            ]
          },
          "metadata": {}
        }
      ]
    },
    {
      "cell_type": "markdown",
      "source": [
        "Rにはモザイクプロットという図示機能がある．\n",
        "これを使って図示してみよう．\n",
        "右上が青色タクシーの証言に青色タクシーである場合，左上が青色タクシーの証言に緑色タクシーである場合になる．\n",
        "上で計算した逆確率は，この2つの和に対して右上の割合を計算していることになる．"
      ],
      "metadata": {
        "id": "JLz4DQaWvTON"
      },
      "id": "JLz4DQaWvTON"
    },
    {
      "cell_type": "code",
      "source": [
        "# 青色タクシーの割合\n",
        "Pgb <- 0.05\n",
        "GB <- c(1-Pgb,Pgb)\n",
        "# 証言の精度\n",
        "# 青Blueの証人\n",
        "Bwitness <- c(0.8,0.2)\n",
        "# 緑Greenの証人\n",
        "Gwitness <- c(0.2,0.8)\n",
        "# モザイクプロットにわたす行列を作成\n",
        "# GB*Gwitness, GB*BwitnessはRによるベクトルの成分ごとの積\n",
        "witness <- matrix(c(GB*Gwitness, GB*Bwitness),2)\n",
        "witness\n",
        "mosaicplot(witness)"
      ],
      "metadata": {
        "colab": {
          "base_uri": "https://localhost:8080/",
          "height": 534
        },
        "id": "TLmQw3xzvgsO",
        "outputId": "4c5a8981-0da0-4382-e521-58b6e9210a7e"
      },
      "id": "TLmQw3xzvgsO",
      "execution_count": 2,
      "outputs": [
        {
          "output_type": "display_data",
          "data": {
            "text/html": [
              "<table class=\"dataframe\">\n",
              "<caption>A matrix: 2 × 2 of type dbl</caption>\n",
              "<tbody>\n",
              "\t<tr><td>0.19</td><td>0.76</td></tr>\n",
              "\t<tr><td>0.04</td><td>0.01</td></tr>\n",
              "</tbody>\n",
              "</table>\n"
            ],
            "text/markdown": "\nA matrix: 2 × 2 of type dbl\n\n| 0.19 | 0.76 |\n| 0.04 | 0.01 |\n\n",
            "text/latex": "A matrix: 2 × 2 of type dbl\n\\begin{tabular}{ll}\n\t 0.19 & 0.76\\\\\n\t 0.04 & 0.01\\\\\n\\end{tabular}\n",
            "text/plain": [
              "     [,1] [,2]\n",
              "[1,] 0.19 0.76\n",
              "[2,] 0.04 0.01"
            ]
          },
          "metadata": {}
        },
        {
          "output_type": "display_data",
          "data": {
            "text/plain": [
              "Plot with title “witness”"
            ],
            "image/png": "[encoded data removed]"
          },
          "metadata": {
            "image/png": {
              "width": 420,
              "height": 420
            }
          }
        }
      ]
    },
    {
      "cell_type": "markdown",
      "source": [
        "たとえばインフルエンザの検査で偽陽性の場合に，実際に陽性である確率では，検査が正しく判定する確率を目撃の精度に，青色タクシーの割合を罹患率に置き換えれば，同様にして計算できる．\n",
        "この観点から，2020年からのパンデミックで話題のPCR検査についても多くの記事を見つけることができる．\n",
        "たとえば [PCR検査の精度を論じたブログ](https://www.yushoukai.org/blog/pcr)\n",
        "がある．\n",
        "\n",
        "ベイズ確率を用いた推定法であるベイズ推定は，現在の人工知能技術の中でも最も多く使われている方法の一つである．\n",
        "しかし，膨大なデータにもとづき計算の修正を繰り返す実際の応用では，この例のように「単純な確率よりも必ず小さくなる」のようなことが言えるわけではない．\n"
      ],
      "metadata": {
        "id": "x4XewhFDvsSX"
      },
      "id": "x4XewhFDvsSX"
    }
  ]
}