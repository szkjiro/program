{
  "nbformat": 4,
  "nbformat_minor": 5,
  "metadata": {
    "kernelspec": {
      "display_name": "R",
      "language": "R",
      "name": "ir"
    },
    "language_info": {
      "codemirror_mode": "r",
      "file_extension": ".r",
      "mimetype": "text/x-r-source",
      "name": "R",
      "pygments_lexer": "r",
      "version": "3.6.1"
    },
    "colab": {
      "provenance": []
    }
  },
  "cells": [
    {
      "cell_type": "markdown",
      "id": "0a405b70",
      "metadata": {
        "id": "0a405b70"
      },
      "source": [
        "## 誕生日と年齢計算\n",
        "\n",
        "サッカー五輪代表の選手名簿に関係した問題になぞらえて，以下の例題では，誕生日を2020年1月1日の時点で23歳以下（閏年の計算を簡単にするために20歳以上としてみます）の誕生日は1997年1月1日から2000年1月1日までとします．\n",
        "\n",
        "この期間にある誕生日をランダムに五輪登録人数にあたる18人分を作成し，2020年5月31日における満年齢を計算し，その平均年齢を計算してみます．\n",
        "\n",
        "一方で生活年齢（年齢部分を切り捨てずに，生活年齢，たとえば21歳と216日のように）による平均年齢も計算し，2つの平均年齢を計算します．\n",
        "\n"
      ]
    },
    {
      "cell_type": "code",
      "source": [
        "# 指定期間の日付の生成\n",
        "Generation <- seq(as.Date(\"1997/1/1\"),as.Date(\"2000/1/1\"),18)\n",
        "# 18人を抽出\n",
        "Team <- sample(Generation,18)\n",
        "# Team # 作成した生年月日18名分の表示\n",
        "# 年齢計算準備\n",
        "Age = numeric(18)\n",
        "# 開幕日の設定\n",
        "OpenDay <- as.Date(\"2020/5/31\")\n",
        "for (i in 1:length(Team)) {\n",
        "  # Rで満年齢を計算するためのトリック\n",
        "  Age[i] <- length(seq(Team[i], OpenDay, by = \"year\")) - 1\n",
        "}\n",
        "# Age # 18人分の年齢表示\n",
        "MeanAge <- mean(Age)\n",
        "# 年齢計算準備\n",
        "Days = numeric(18)\n",
        "# 開幕日の設定\n",
        "# OpenDay <- as.Date(\"2020/5/31\") # すでに定義済みなので省略\n",
        "for (i in 1:length(Team)) {\n",
        "  # Rで満年齢を計算するためのトリック\n",
        "  Days[i] <- length(seq(Team[i], OpenDay, by = \"day\")) - 1\n",
        "}\n",
        "# 生活日数の平均\n",
        "AgeDay <- mean(Days) \n",
        "# 21歳分の日数を引く\n",
        "LifeDay <- AgeDay - 365*21 - 6\n",
        "MeanAge # 満年齢\n",
        "LifeDay # 満年齢プラスこの日数だけ平均して生存\n",
        "# 2つの平均の日数分（小数値）の差\n",
        "LifeDay/365 - (MeanAge - floor(MeanAge))"
      ],
      "metadata": {
        "colab": {
          "base_uri": "https://localhost:8080/",
          "height": 69
        },
        "id": "OR85qiTin-EF",
        "outputId": "91c0aba2-ce1a-4a26-f7d0-0a9cdbb8b66a"
      },
      "id": "OR85qiTin-EF",
      "execution_count": 15,
      "outputs": [
        {
          "output_type": "display_data",
          "data": {
            "text/html": [
              "21.6111111111111"
            ],
            "text/markdown": "21.6111111111111",
            "text/latex": "21.6111111111111",
            "text/plain": [
              "[1] 21.61111"
            ]
          },
          "metadata": {}
        },
        {
          "output_type": "display_data",
          "data": {
            "text/html": [
              "397"
            ],
            "text/markdown": "397",
            "text/latex": "397",
            "text/plain": [
              "[1] 397"
            ]
          },
          "metadata": {}
        },
        {
          "output_type": "display_data",
          "data": {
            "text/html": [
              "0.476560121765602"
            ],
            "text/markdown": "0.476560121765602",
            "text/latex": "0.476560121765602",
            "text/plain": [
              "[1] 0.4765601"
            ]
          },
          "metadata": {}
        }
      ]
    }
  ]
}