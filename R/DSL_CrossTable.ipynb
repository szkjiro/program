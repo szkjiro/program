{
  "nbformat": 4,
  "nbformat_minor": 5,
  "metadata": {
    "kernelspec": {
      "display_name": "R",
      "language": "R",
      "name": "ir"
    },
    "language_info": {
      "codemirror_mode": "r",
      "file_extension": ".r",
      "mimetype": "text/x-r-source",
      "name": "R",
      "pygments_lexer": "r",
      "version": "3.6.1"
    },
    "colab": {
      "provenance": []
    }
  },
  "cells": [
    {
      "cell_type": "markdown",
      "id": "0a405b70",
      "metadata": {
        "id": "0a405b70"
      },
      "source": [
        "# 分割表を扱う\n",
        "\n",
        "ここではクロス集計でも現れた分割表の分析を扱います．\n",
        "別資料（仮説と確率分布の違いDSL_Hypothesis）でも扱ったように，仮説の設定により，同じデータでも導かれる方向は変わってきます．\n",
        "ここでは考えたい分析事例に次のようなものあがあります．\n",
        "\n",
        "| |肺がんあり|肺がんなし|\n",
        "|-|-|-|\n",
        "|喫煙あり| 231| 23036|\n",
        "|喫煙なし|26 |10813|\n",
        "\n",
        "このとき喫煙のありなしで比率を比べてみましょう．\n",
        "\n"
      ]
    },
    {
      "cell_type": "code",
      "source": [
        "# データを変数に代入\n",
        "Cancer <- c(231,26,23036,10813)\n",
        "# 1,3番目が喫煙あり\n",
        "# 2,4番目が喫煙なし\n",
        "Cancer[1]/Cancer[3]\n",
        "Cancer[2]/Cancer[4]"
      ],
      "metadata": {
        "colab": {
          "base_uri": "https://localhost:8080/",
          "height": 52
        },
        "id": "6TTZ-KBjAOsT",
        "outputId": "1321d3d5-45cf-4156-8fc7-2c08ac3b511f"
      },
      "id": "6TTZ-KBjAOsT",
      "execution_count": 20,
      "outputs": [
        {
          "output_type": "display_data",
          "data": {
            "text/html": [
              "0.010027782601146"
            ],
            "text/markdown": "0.010027782601146",
            "text/latex": "0.010027782601146",
            "text/plain": [
              "[1] 0.01002778"
            ]
          },
          "metadata": {}
        },
        {
          "output_type": "display_data",
          "data": {
            "text/html": [
              "0.00240451308610006"
            ],
            "text/markdown": "0.00240451308610006",
            "text/latex": "0.00240451308610006",
            "text/plain": [
              "[1] 0.002404513"
            ]
          },
          "metadata": {}
        }
      ]
    },
    {
      "cell_type": "markdown",
      "source": [
        "実行プログラムを書く人が何番目が．．．と判断するのは間違いやすいものです．matrixという関数により表と同じく正方形状に配置して扱えます．\n"
      ],
      "metadata": {
        "id": "2Ko5B89LCoo8"
      },
      "id": "2Ko5B89LCoo8"
    },
    {
      "cell_type": "code",
      "source": [
        "CancerMat <- matrix(Cancer, 2)\n",
        "CancerMat\n",
        "# 1列目を表示\n",
        "CancerMat[,1]\n",
        "# 2列目を表示\n",
        "CancerMat[1,]"
      ],
      "metadata": {
        "colab": {
          "base_uri": "https://localhost:8080/",
          "height": 149
        },
        "id": "3N0oiluiDDvG",
        "outputId": "c5f6b0e5-6478-43a5-853f-cd778fe7ceb0"
      },
      "id": "3N0oiluiDDvG",
      "execution_count": 21,
      "outputs": [
        {
          "output_type": "display_data",
          "data": {
            "text/html": [
              "<table class=\"dataframe\">\n",
              "<caption>A matrix: 2 × 2 of type dbl</caption>\n",
              "<tbody>\n",
              "\t<tr><td>231</td><td>23036</td></tr>\n",
              "\t<tr><td> 26</td><td>10813</td></tr>\n",
              "</tbody>\n",
              "</table>\n"
            ],
            "text/markdown": "\nA matrix: 2 × 2 of type dbl\n\n| 231 | 23036 |\n|  26 | 10813 |\n\n",
            "text/latex": "A matrix: 2 × 2 of type dbl\n\\begin{tabular}{ll}\n\t 231 & 23036\\\\\n\t  26 & 10813\\\\\n\\end{tabular}\n",
            "text/plain": [
              "     [,1] [,2] \n",
              "[1,] 231  23036\n",
              "[2,]  26  10813"
            ]
          },
          "metadata": {}
        },
        {
          "output_type": "display_data",
          "data": {
            "text/html": [
              "<style>\n",
              ".list-inline {list-style: none; margin:0; padding: 0}\n",
              ".list-inline>li {display: inline-block}\n",
              ".list-inline>li:not(:last-child)::after {content: \"\\00b7\"; padding: 0 .5ex}\n",
              "</style>\n",
              "<ol class=list-inline><li>231</li><li>26</li></ol>\n"
            ],
            "text/markdown": "1. 231\n2. 26\n\n\n",
            "text/latex": "\\begin{enumerate*}\n\\item 231\n\\item 26\n\\end{enumerate*}\n",
            "text/plain": [
              "[1] 231  26"
            ]
          },
          "metadata": {}
        },
        {
          "output_type": "display_data",
          "data": {
            "text/html": [
              "<style>\n",
              ".list-inline {list-style: none; margin:0; padding: 0}\n",
              ".list-inline>li {display: inline-block}\n",
              ".list-inline>li:not(:last-child)::after {content: \"\\00b7\"; padding: 0 .5ex}\n",
              "</style>\n",
              "<ol class=list-inline><li>231</li><li>23036</li></ol>\n"
            ],
            "text/markdown": "1. 231\n2. 23036\n\n\n",
            "text/latex": "\\begin{enumerate*}\n\\item 231\n\\item 23036\n\\end{enumerate*}\n",
            "text/plain": [
              "[1]   231 23036"
            ]
          },
          "metadata": {}
        }
      ]
    },
    {
      "cell_type": "markdown",
      "source": [
        "両者の比率を比較することを考えたとき，いろいろな方法が考えられます．\n",
        "いくつかあげます．\n",
        "\n",
        "1. 喫煙ありなしを含めた肺がんありの比率（喫煙ありとなしの重み付き平均と一致）をもとに対して，喫煙ありなしの比が大きいとか小さいとかいう\n",
        "1. 喫煙ありにおける比に対して喫煙なしにおける比を調べてそれが大きいとか小さいとかいう\n",
        "1. 喫煙なしにおける比に対して喫煙ありにおける比を調べてそれが大きいとか小さいとかいう\n",
        "\n",
        "これらについて，比が大きいとか小さいとかの判断を確率（p値）によって検討できるRの関数にPpro.testがあります．\n",
        "以下はその実行例です．"
      ],
      "metadata": {
        "id": "DCvoOL2aA5qN"
      },
      "id": "DCvoOL2aA5qN"
    },
    {
      "cell_type": "code",
      "source": [
        "# 喫煙なし全体の度数\n",
        "Ari <- sum(CancerMat[,1])\n",
        "# 喫煙あり全体の度数\n",
        "Nashi <- sum(CancerMat[,2])\n",
        "# 全体における肺がんなしに対するありの比\n",
        "RatioAll <- Ari/Nashi\n",
        "RatioAll\n",
        "# 1の場合\n",
        "# 喫煙ありの全体に対する比\n",
        "prop.test(CancerMat[1,1], Ari, p=RatioAll)\n",
        "# 喫煙なしの全体に対する比\n",
        "prop.test(CancerMat[2,1],Nashi, p=RatioAll)\n",
        "# 2の場合，つまり喫煙なしに対する喫煙ありの比較\n",
        "prop.test(CancerMat[1,1], Ari, p=CancerMat[2,1]/Nashi)\n",
        "# 3の場合，つまり喫煙ありに対する喫煙ありの比較\n",
        "prop.test(CancerMat[2,1], Nashi, p=CancerMat[1,1]/Ari)"
      ],
      "metadata": {
        "colab": {
          "base_uri": "https://localhost:8080/",
          "height": 867
        },
        "id": "3-OCndk5Cbml",
        "outputId": "217ffc91-c7ba-4cab-ef56-b0a879879151"
      },
      "id": "3-OCndk5Cbml",
      "execution_count": 22,
      "outputs": [
        {
          "output_type": "display_data",
          "data": {
            "text/html": [
              "0.00759254335430884"
            ],
            "text/markdown": "0.00759254335430884",
            "text/latex": "0.00759254335430884",
            "text/plain": [
              "[1] 0.007592543"
            ]
          },
          "metadata": {}
        },
        {
          "output_type": "stream",
          "name": "stderr",
          "text": [
            "Warning message in prop.test(CancerMat[1, 1], Ari, p = RatioAll):\n",
            "“Chi-squared approximation may be incorrect”\n"
          ]
        },
        {
          "output_type": "display_data",
          "data": {
            "text/plain": [
              "\n",
              "\t1-sample proportions test with continuity correction\n",
              "\n",
              "data:  CancerMat[1, 1] out of Ari, null probability RatioAll\n",
              "X-squared = 26974, df = 1, p-value < 2.2e-16\n",
              "alternative hypothesis: true p is not equal to 0.007592543\n",
              "95 percent confidence interval:\n",
              " 0.8536771 0.9316333\n",
              "sample estimates:\n",
              "        p \n",
              "0.8988327 \n"
            ]
          },
          "metadata": {}
        },
        {
          "output_type": "display_data",
          "data": {
            "text/plain": [
              "\n",
              "\t1-sample proportions test with continuity correction\n",
              "\n",
              "data:  CancerMat[2, 1] out of Nashi, null probability RatioAll\n",
              "X-squared = 208.31, df = 1, p-value < 2.2e-16\n",
              "alternative hypothesis: true p is not equal to 0.007592543\n",
              "95 percent confidence interval:\n",
              " 0.000512288 0.001142816\n",
              "sample estimates:\n",
              "           p \n",
              "0.0007681172 \n"
            ]
          },
          "metadata": {}
        },
        {
          "output_type": "stream",
          "name": "stderr",
          "text": [
            "Warning message in prop.test(CancerMat[1, 1], Ari, p = CancerMat[2, 1]/Nashi):\n",
            "“Chi-squared approximation may be incorrect”\n"
          ]
        },
        {
          "output_type": "display_data",
          "data": {
            "text/plain": [
              "\n",
              "\t1-sample proportions test with continuity correction\n",
              "\n",
              "data:  CancerMat[1, 1] out of Ari, null probability CancerMat[2, 1]/Nashi\n",
              "X-squared = 268888, df = 1, p-value < 2.2e-16\n",
              "alternative hypothesis: true p is not equal to 0.0007681172\n",
              "95 percent confidence interval:\n",
              " 0.8536771 0.9316333\n",
              "sample estimates:\n",
              "        p \n",
              "0.8988327 \n"
            ]
          },
          "metadata": {}
        },
        {
          "output_type": "display_data",
          "data": {
            "text/plain": [
              "\n",
              "\t1-sample proportions test with continuity correction\n",
              "\n",
              "data:  CancerMat[2, 1] out of Nashi, null probability CancerMat[1, 1]/Ari\n",
              "X-squared = 300212, df = 1, p-value < 2.2e-16\n",
              "alternative hypothesis: true p is not equal to 0.8988327\n",
              "95 percent confidence interval:\n",
              " 0.000512288 0.001142816\n",
              "sample estimates:\n",
              "           p \n",
              "0.0007681172 \n"
            ]
          },
          "metadata": {}
        }
      ]
    },
    {
      "cell_type": "markdown",
      "source": [
        "事前準備やどの要素を取り出すとか少しめんどくさい気もします．\n",
        "もっと簡単な分析方法はないのでしょうか．\n",
        "上にあげた表の形式を分割表といいます．\n",
        "それに対して確率を求める関数に$\\chi^2$（カイ自乗）検定関数chisq.testがあります．\n",
        "\n",
        "以下では，その実行に必要な分だけ再掲して実行しています．"
      ],
      "metadata": {
        "id": "9b-aDB7HGd4S"
      },
      "id": "9b-aDB7HGd4S"
    },
    {
      "cell_type": "code",
      "source": [
        "Cancer <- c(231,26,23036,10813)\n",
        "CancerMat <- matrix(Cancer, 2)\n",
        "chisq.test(CancerMat)"
      ],
      "metadata": {
        "colab": {
          "base_uri": "https://localhost:8080/",
          "height": 104
        },
        "id": "dJpm1erFG6zr",
        "outputId": "ecc402ec-fcb1-442e-823f-992673d7df14"
      },
      "id": "dJpm1erFG6zr",
      "execution_count": 23,
      "outputs": [
        {
          "output_type": "display_data",
          "data": {
            "text/plain": [
              "\n",
              "\tPearson's Chi-squared test with Yates' continuity correction\n",
              "\n",
              "data:  CancerMat\n",
              "X-squared = 55.052, df = 1, p-value = 1.174e-13\n"
            ]
          },
          "metadata": {}
        }
      ]
    },
    {
      "cell_type": "markdown",
      "source": [
        "平均値を扱った以前の例題と違って，計数データの処理では信頼区間を出力していないことに注意してください．\n",
        "確率（p値）は非常に小さいのですが，上で比べた場合よりもさらに小さくなっているようです．\n",
        "\n",
        "以下ではこの検定関数の背景を簡単な例を通じて調べます．\n",
        "\n",
        "## 分割表に対するp値\n",
        "参考：奥村晴彦「Rで楽しむ統計」，5.2節\n",
        "\n",
        "ある方策に男女5人ずつから意見を聞いたところ以下のようになりました．\n",
        "\n",
        "| |賛成|反対|\n",
        "|-|-|-|\n",
        "|女| 3| 2|\n",
        "|男|1 |4|\n",
        "\n",
        "この問題は赤玉4個と白玉6個が入っている箱から5個取り出してみたとする，確率の問題と同じです．\n",
        "\n",
        "| |赤玉|白玉|\n",
        "|-|-|-|\n",
        "|取り出した| 3| 2|\n",
        "|箱の中|1 |4|\n",
        "\n",
        "この個数の組み合わせが生じる確率は\n",
        "$$\n",
        "\\frac{{}_4 C_3\\cdot {}_6 C_2}{{}_{10} C_5}\n",
        "$$\n",
        "であり，Rの組み合わせの数を求める関数chooseを使って次のように計算できます．"
      ],
      "metadata": {
        "id": "YuM9NxFEHMF4"
      },
      "id": "YuM9NxFEHMF4"
    },
    {
      "cell_type": "code",
      "source": [
        "choose(4,3)*choose(6,2)/choose(10,5)"
      ],
      "metadata": {
        "colab": {
          "base_uri": "https://localhost:8080/",
          "height": 34
        },
        "id": "laDl0vnAkYUL",
        "outputId": "ea14bd1e-b832-4cdf-adbf-829df0a3a2f5"
      },
      "id": "laDl0vnAkYUL",
      "execution_count": 24,
      "outputs": [
        {
          "output_type": "display_data",
          "data": {
            "text/html": [
              "0.238095238095238"
            ],
            "text/markdown": "0.238095238095238",
            "text/latex": "0.238095238095238",
            "text/plain": [
              "[1] 0.2380952"
            ]
          },
          "metadata": {}
        }
      ]
    },
    {
      "cell_type": "markdown",
      "source": [
        "赤玉の個数は4個なので，他の個数の出方も一通り計算できます．"
      ],
      "metadata": {
        "id": "TR3CuPA-k4Tx"
      },
      "id": "TR3CuPA-k4Tx"
    },
    {
      "cell_type": "code",
      "source": [
        "for (i in 0:4) {\n",
        "  print(choose(4,i)*choose(6,5-i)/choose(10,5))\n",
        "}"
      ],
      "metadata": {
        "colab": {
          "base_uri": "https://localhost:8080/"
        },
        "id": "kQ4TTEDqlBLI",
        "outputId": "8615c481-dcbb-4c9f-ae42-5dbbea76f09d"
      },
      "id": "kQ4TTEDqlBLI",
      "execution_count": 25,
      "outputs": [
        {
          "output_type": "stream",
          "name": "stdout",
          "text": [
            "[1] 0.02380952\n",
            "[1] 0.2380952\n",
            "[1] 0.4761905\n",
            "[1] 0.2380952\n",
            "[1] 0.02380952\n"
          ]
        }
      ]
    },
    {
      "cell_type": "markdown",
      "source": [
        "この一続きの計算に対応する確率を計算するfisher.test関数があります．"
      ],
      "metadata": {
        "id": "72bE94_npHTE"
      },
      "id": "72bE94_npHTE"
    },
    {
      "cell_type": "code",
      "source": [
        "Deme <- c(3,1,2,4)\n",
        "DemeMat <- matrix(Deme,2)\n",
        "fisher.test(DemeMat)"
      ],
      "metadata": {
        "colab": {
          "base_uri": "https://localhost:8080/",
          "height": 208
        },
        "id": "eCsCrlH2pYCQ",
        "outputId": "d278d567-2845-4587-c7a5-10a6d6b73370"
      },
      "id": "eCsCrlH2pYCQ",
      "execution_count": 26,
      "outputs": [
        {
          "output_type": "display_data",
          "data": {
            "text/plain": [
              "\n",
              "\tFisher's Exact Test for Count Data\n",
              "\n",
              "data:  DemeMat\n",
              "p-value = 0.5238\n",
              "alternative hypothesis: true odds ratio is not equal to 1\n",
              "95 percent confidence interval:\n",
              "   0.218046 390.562917\n",
              "sample estimates:\n",
              "odds ratio \n",
              "  4.918388 \n"
            ]
          },
          "metadata": {}
        }
      ]
    },
    {
      "cell_type": "markdown",
      "source": [
        "この計算結果0.5238は上の確率のどこからどこまでを足し合わせたものでしょうか．\n",
        "実は最初の目の出方を除いた確率合計なのです．\n",
        "確かめてみます．"
      ],
      "metadata": {
        "id": "nToMxo2PptLC"
      },
      "id": "nToMxo2PptLC"
    },
    {
      "cell_type": "code",
      "source": [
        "s <- 0\n",
        "for (i in 0:4) {\n",
        "# 最初の個数の状態を除く\n",
        "  if (i != 2) {\n",
        "    x <- choose(4,i)*choose(6,5-i)/choose(10,5)\n",
        "    s <- s+x\n",
        "   print(s)\n",
        "  }\n",
        "}"
      ],
      "metadata": {
        "colab": {
          "base_uri": "https://localhost:8080/"
        },
        "id": "dyuJhY6_p6It",
        "outputId": "1dfcc7b3-7adb-4a7e-8fe6-35af1f251880"
      },
      "id": "dyuJhY6_p6It",
      "execution_count": 27,
      "outputs": [
        {
          "output_type": "stream",
          "name": "stdout",
          "text": [
            "[1] 0.02380952\n",
            "[1] 0.2619048\n",
            "[1] 0.5\n",
            "[1] 0.5238095\n"
          ]
        }
      ]
    },
    {
      "cell_type": "markdown",
      "source": [
        "関数fisher.testは正確確率と呼ばれるものを計算しています．\n",
        "$\\chi^2$検定は，この正確確率の近似値を計算します．\n",
        "なお，この関数の出力の末尾にあるオッズ比（odds ratio）は治験でも多く使われる情報ですが解説は行いません．\n",
        "興味のある人は勉強してみてください．"
      ],
      "metadata": {
        "id": "yLCchFX4qwM1"
      },
      "id": "yLCchFX4qwM1"
    }
  ]
}