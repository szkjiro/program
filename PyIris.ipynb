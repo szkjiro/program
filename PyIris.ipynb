{
  "nbformat": 4,
  "nbformat_minor": 0,
  "metadata": {
    "colab": {
      "provenance": [],
      "include_colab_link": true
    },
    "kernelspec": {
      "name": "python3",
      "display_name": "Python 3"
    },
    "language_info": {
      "name": "python"
    }
  },
  "cells": [
    {
      "cell_type": "markdown",
      "metadata": {
        "id": "view-in-github",
        "colab_type": "text"
      },
      "source": [
        "<a href=\"https://colab.research.google.com/github/szkjiro/program/blob/main/PyIris.ipynb\" target=\"_parent\"><img src=\"https://colab.research.google.com/assets/colab-badge.svg\" alt=\"Open In Colab\"/></a>"
      ]
    },
    {
      "cell_type": "markdown",
      "source": [
        "# データの自動分類\n",
        "\n",
        "今回の話題は教師なし学習の一種（分類器の作成および実行表示）に属する問題です．\n",
        "多変量解析ではクラスター分析と呼ばれてきました．\n",
        "\n",
        "何をするかというと\n",
        "1. データを分類する距離を定める\n",
        "2. 距離の近いもの同士をそれぞれいくつかのグループに分ける\n",
        "ということをします．\n",
        "\n",
        "ここで扱うデータは，入門者用の例題としてよく使われる「フィッシャーのアヤメ」（IRISデータセット）です．\n",
        "まずはデータの読み込みをします．\n"
      ],
      "metadata": {
        "id": "JNSZT7j-gKuA"
      }
    },
    {
      "cell_type": "code",
      "execution_count": null,
      "metadata": {
        "id": "-R-dcfCMPAB3"
      },
      "outputs": [],
      "source": [
        "# 必要なライブラリをインポート\n",
        "# 距離計算のライブラリ\n",
        "import numpy as np\n",
        "# グラフィック表示ライブラリ\n",
        "from matplotlib import pyplot as plt\n",
        "\n",
        "# irisデータセットの使用\n",
        "from sklearn.datasets import load_iris\n",
        "iris = load_iris()\n",
        "X = iris.data # 特徴量の行列, by sklearn\n",
        "\n",
        "iris"
      ]
    },
    {
      "cell_type": "markdown",
      "source": [
        "最初に4つの数字が［］で挟まれて並びます．\n",
        "これらはアヤメの3品種それぞれ50個体分のデータです．\n",
        "属性に関する情報が数値の直後にいくつかあります．\n",
        "target_namesという名前に続いてsetosaなど3つの名前，これはアヤメの品種にあたる名前です．\n",
        "続いてアヤメの花びら（分類学上は萼片）のサイズとして，sepalおよびpetalの長さlengthおよび幅widthがありましたが，情報が多すぎましたね．\n",
        "今後の処理で気にするところを改めて表示させます．\n"
      ],
      "metadata": {
        "id": "oPa0iqv5FpyV"
      }
    },
    {
      "cell_type": "code",
      "source": [
        "# 品種の名前\n",
        "print(\"Target names:\", iris['target_names'])\n",
        "# データの属性の名前\n",
        "print(\"Freature names:\", iris['feature_names'])\n",
        "# headコマンドと同じ働きをするよう最初の6行を指定\n",
        "print(\"head of data\", iris['data'][:6])"
      ],
      "metadata": {
        "id": "ZCSwHPH0Ybaf"
      },
      "execution_count": null,
      "outputs": []
    },
    {
      "cell_type": "markdown",
      "source": [
        "このままでは，今まで扱ってきたデータフレーム（表計算でいえば，先頭行が各列のラベルであり，各列の2行目以降にデータがあるもの）ではないので，それをデータフレームに変換します．"
      ],
      "metadata": {
        "id": "MaQjoGoDEYSV"
      }
    },
    {
      "cell_type": "code",
      "source": [
        "import pandas as pd\n",
        "\n",
        "# データフレームに変換\n",
        "Firis = pd.DataFrame(iris.data, columns=iris.feature_names)\n",
        "Firis['species'] = iris.target\n",
        "Firis.loc[Firis['species'] == 0, 'species'] = \"setosa\"\n",
        "Firis.loc[Firis['species'] == 1, 'species'] = \"versicolor\"\n",
        "Firis.loc[Firis['species'] == 2, 'species'] = \"virginica\"\n",
        "\n",
        "# データフレーム変換後の確認\n",
        "Firis.describe"
      ],
      "metadata": {
        "id": "3kH7ysZhqZsW"
      },
      "execution_count": null,
      "outputs": []
    },
    {
      "cell_type": "markdown",
      "source": [
        "どのようなデータか確認できました．これから機械学習による分類を行うわけですが，直感的に何が分類されるのかを，散布図行列により確認しておきましょう．見た目がよいのでseabornライブライで表示させます．\n",
        "\n",
        "アヤメの属性（petal or sepal, length or widthなど）に応じて，３つの品種が混じって分布したり，分離したりが予想できることを観察しておいてください．\n"
      ],
      "metadata": {
        "id": "dXQ2Awj3t71M"
      }
    },
    {
      "cell_type": "code",
      "source": [
        "# データ視覚化に向いたライブラリを使う\n",
        "import seaborn as sns\n",
        "\n",
        "sns.pairplot(Firis, hue='species')"
      ],
      "metadata": {
        "id": "jRHxjOX4tngR"
      },
      "execution_count": null,
      "outputs": []
    },
    {
      "cell_type": "markdown",
      "source": [
        "分類し，それをデンドログラム（樹形図の一種）に表示します．\n",
        "参考[階層的クラスタリング（S-Analysis）](https://data-analysis-stats.jp/機械学習/scikit-learnを用いた階層的クラスタリング-hierarchical-clusteringの解説/)\n",
        "\n",
        "まずは実行してみてください．\n"
      ],
      "metadata": {
        "id": "OFgabRDRDY5-"
      }
    },
    {
      "cell_type": "markdown",
      "source": [
        "## デンドログラムを通じて分類を見る\n",
        "\n",
        "以下では[S-Analysisの階層的クラスタリングの記事](https://data-analysis-stats.jp/%E6%A9%9F%E6%A2%B0%E5%AD%A6%E7%BF%92/scikit-learn%E3%82%92%E7%94%A8%E3%81%84%E3%81%9F%E9%9A%8E%E5%B1%A4%E7%9A%84%E3%82%AF%E3%83%A9%E3%82%B9%E3%82%BF%E3%83%AA%E3%83%B3%E3%82%B0-hierarchical-clustering%E3%81%AE%E8%A7%A3%E8%AA%AC/)を参考にしています．\n",
        "\n",
        "irisデータセットの読み込みからやり直しています．\n",
        "shape関数は，データの属性（petalおよびsepalにそれぞれlengthとwidhtがる）が4つあり，3品種全体で150データあることを表示します．\n"
      ],
      "metadata": {
        "id": "N2y87zfa05zv"
      }
    },
    {
      "cell_type": "code",
      "source": [
        "import numpy as np\n",
        "from matplotlib import pyplot as plt\n",
        "from scipy.cluster.hierarchy import dendrogram\n",
        "from sklearn.datasets import load_iris\n",
        "from sklearn.cluster import AgglomerativeClustering\n",
        "\n",
        "iris = load_iris()\n",
        "# iris\n",
        "X = iris.data\n",
        "X.shape"
      ],
      "metadata": {
        "id": "rvO9Q46Oe3cN"
      },
      "execution_count": null,
      "outputs": []
    },
    {
      "cell_type": "markdown",
      "source": [
        "デンドログラムを描く関数を先に用意しておきます．\n",
        "このコードブロックは，関数定義のみなので，実行結果はありません．\n",
        "しかし，このブロックを先に実行させる（関数を定義する）をしておかないと，以降の描画ができなくなります．\n",
        "あとで，この関数に与えるレベルを変化させては再実行することで，デンドログラム全体の様子を詳しく観察します．"
      ],
      "metadata": {
        "id": "8oEUtkxRIGS_"
      }
    },
    {
      "cell_type": "code",
      "source": [
        "def plot_dendrogram(model, **kwargs):\n",
        "   # 連結行列（linkage matrix）の計算およびデンドログラムの描画\n",
        "\n",
        "   # 各ノード以下の葉の個数を数える\n",
        "   counts = np.zeros(model.children_.shape[0])\n",
        "   n_samples = len(model.labels_)\n",
        "   for i, merge in enumerate(model.children_):\n",
        "      current_count = 0\n",
        "      for child_idx in merge:\n",
        "         if child_idx < n_samples:\n",
        "            current_count += 1 # 葉（末端）のノード\n",
        "         else:\n",
        "            current_count += counts[child_idx - n_samples]\n",
        "      counts[i] = current_count\n",
        "\n",
        "   linkage_matrix = np.column_stack([model.children_, model.distances_,\n",
        "counts]).astype(float)\n",
        "\n",
        "   # デンドログラムの描画\n",
        "   dendrogram(linkage_matrix, **kwargs)"
      ],
      "metadata": {
        "id": "0iWyPZNUfbwr"
      },
      "execution_count": 12,
      "outputs": []
    },
    {
      "cell_type": "markdown",
      "source": [
        "以下は標準的方法とされるユークリッド距離を用いたウォード法の実行プログラムです．\n",
        "レベル設定のところを何通りかコメント行で準備しておきました．\n",
        "レベルを変えて実行してみてください．"
      ],
      "metadata": {
        "id": "q6-LEXh2PUV3"
      }
    },
    {
      "cell_type": "code",
      "source": [
        "# ユークリッド距離でウォード法を設定\n",
        "model = AgglomerativeClustering(affinity='euclidean',\n",
        "linkage='ward',\n",
        "distance_threshold=0,\n",
        "n_clusters=None)\n",
        "\n",
        "model = model.fit(X)\n",
        "\n",
        "plt.title('ward method with Euclidean metric')\n",
        "# ３レベルまで描画\n",
        "# ｐに与える値を書き換えて再実行してみよう\n",
        "# plot_dendrogram(model, truncate_mode='level', p=1)\n",
        "# plot_dendrogram(model, truncate_mode='level', p=5)\n",
        "plot_dendrogram(model, truncate_mode='level', p=3)\n",
        "plt.xlabel(\"number of data points under each node\")\n",
        "plt.show()"
      ],
      "metadata": {
        "id": "kuapP3f8fh_K"
      },
      "execution_count": null,
      "outputs": []
    },
    {
      "cell_type": "markdown",
      "source": [
        "以下はマンハッタン距離を用いた平均法の実行プログラムです．上の例と同様に，レベルを変えて実行してみてください．\n",
        "\n"
      ],
      "metadata": {
        "id": "gS9VAjoCQDof"
      }
    },
    {
      "cell_type": "code",
      "source": [
        "model = AgglomerativeClustering(affinity='manhattan',\n",
        "linkage='average',\n",
        "distance_threshold=0,\n",
        "n_clusters=None)\n",
        "\n",
        "model = model.fit(X)\n",
        "\n",
        "plt.title('Manhattan, linkage=average')\n",
        "# plot the top three levels of the dendrogram\n",
        "plot_dendrogram(model, truncate_mode='level', p=3)\n",
        "plt.xlabel(\"Number of points in node (or index of point if no parenthesis).\")\n",
        "plt.show()"
      ],
      "metadata": {
        "id": "Fg3cU_glfqzw"
      },
      "execution_count": null,
      "outputs": []
    },
    {
      "cell_type": "markdown",
      "source": [
        "以下はコサイン距離（ベクトルの内積，相関係数に同じ）を用いた平均法の実行プログラムです．上の例と同様に，レベルを変えて実行してみてください．"
      ],
      "metadata": {
        "id": "jSq9hW5qQTBi"
      }
    },
    {
      "cell_type": "code",
      "source": [
        "model = AgglomerativeClustering(affinity='cosine',\n",
        "linkage='average',\n",
        "distance_threshold=0,\n",
        "n_clusters=None)\n",
        "\n",
        "model = model.fit(X)\n",
        "\n",
        "plt.title('Cosine, linkage=average')\n",
        "# plot the top three levels of the dendrogram\n",
        "plot_dendrogram(model, truncate_mode='level', p=3)\n",
        "plt.xlabel(\"Number of points in node (or index of point if no parenthesis).\")\n",
        "plt.show()"
      ],
      "metadata": {
        "id": "ZzYqAHIzf1C8"
      },
      "execution_count": null,
      "outputs": []
    }
  ]
}