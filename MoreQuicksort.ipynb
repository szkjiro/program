{
  "nbformat": 4,
  "nbformat_minor": 0,
  "metadata": {
    "colab": {
      "provenance": [],
      "authorship_tag": "ABX9TyPrzb6bxFjLWkYLbqIrQdaF",
      "include_colab_link": true
    },
    "kernelspec": {
      "name": "python3",
      "display_name": "Python 3"
    },
    "language_info": {
      "name": "python"
    }
  },
  "cells": [
    {
      "cell_type": "markdown",
      "metadata": {
        "id": "view-in-github",
        "colab_type": "text"
      },
      "source": [
        "<a href=\"https://colab.research.google.com/github/szkjiro/program/blob/main/MoreQuicksort.ipynb\" target=\"_parent\"><img src=\"https://colab.research.google.com/assets/colab-badge.svg\" alt=\"Open In Colab\"/></a>"
      ]
    },
    {
      "cell_type": "markdown",
      "source": [
        "[![Open In Colab](https://colab.research.google.com/assets/colab-badge.svg)](https://github.com/szkjiro/program/blob/main/MoreQuicksort.ipynb)"
      ],
      "metadata": {
        "id": "n2wE1W7SavmO"
      }
    },
    {
      "cell_type": "markdown",
      "source": [
        "### 1. クイックソートアルゴリズムの基本的な実装\n",
        "\n",
        "クイックソートはピボットを選択して配列を分割する際、最初または最後の要素をピボットとするシンプルな方法では、すでにソートされている配列などで最悪のパフォーマンス（O(n^2)）を示します。この欠点を改善する方法の解説です。YouTubeで見られる動画解説では、この工夫の意味を理解していない、ランダムピポット自体が標準的であるかの誤解にもとづくものも多く見られます。\n",
        "\n"
      ],
      "metadata": {
        "id": "Xk93fpHeLUCY"
      }
    },
    {
      "cell_type": "code",
      "source": [
        "def quicksort(arr):\n",
        "    if len(arr) <= 1:\n",
        "        return arr\n",
        "    pivot = arr[0]  # ピボットとして最初の要素を選択\n",
        "    left = [x for x in arr[1:] if x < pivot]\n",
        "    right = [x for x in arr[1:] if x >= pivot]\n",
        "    return quicksort(left) + [pivot] + quicksort(right)\n",
        "\n",
        "# 最悪のケース実行例（既にソートされた配列）\n",
        "sorted_array = [1, 2, 3, 4, 5, 6, 7, 8, 9, 10]\n",
        "print(\"Quicksort on already sorted array:\", quicksort(sorted_array))"
      ],
      "metadata": {
        "id": "ONR_FDfKL2vt"
      },
      "execution_count": null,
      "outputs": []
    },
    {
      "cell_type": "markdown",
      "source": [
        "\n",
        "```\n",
        "\n",
        "### 2. 最悪のケースを避ける工夫: ランダム化クイックソート\n",
        "\n",
        "最悪のケースを避けるためには、ピボットをランダムに選択することが有効です。これにより、任意の入力に対して平均的に高いパフォーマンスが期待できます。"
      ],
      "metadata": {
        "id": "RRMYlECeLmRR"
      }
    },
    {
      "cell_type": "code",
      "source": [
        "import random\n",
        "\n",
        "def quicksort_random(arr):\n",
        "    if len(arr) <= 1:\n",
        "        return arr\n",
        "    pivot = random.choice(arr)  # ピボットをランダムに選択\n",
        "    left = [x for x in arr if x < pivot]\n",
        "    middle = [x for x in arr if x == pivot]\n",
        "    right = [x for x in arr if x > pivot]\n",
        "    return quicksort_random(left) + middle + quicksort_random(right)\n",
        "\n",
        "# 最悪のケース実行例（ランダムピボットで同じ配列をソート）\n",
        "print(\"Randomized Quicksort on already sorted array:\", quicksort_random(sorted_array))"
      ],
      "metadata": {
        "id": "lrH95aWXLxYL"
      },
      "execution_count": null,
      "outputs": []
    },
    {
      "cell_type": "markdown",
      "source": [
        "### コードの実行\n",
        "\n",
        "これらのコードを実行することで、最初の実装が既にソートされた配列でどのように動作し、ランダム化によって改善されるかを確認できます。ランダム化により、最悪のケースの発生確率を大幅に減少させることができます。"
      ],
      "metadata": {
        "id": "J_3voscyLrr4"
      }
    }
  ]
}