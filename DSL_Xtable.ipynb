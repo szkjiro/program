{
  "nbformat": 4,
  "nbformat_minor": 5,
  "metadata": {
    "kernelspec": {
      "display_name": "R",
      "language": "R",
      "name": "ir"
    },
    "language_info": {
      "codemirror_mode": "r",
      "file_extension": ".r",
      "mimetype": "text/x-r-source",
      "name": "R",
      "pygments_lexer": "r",
      "version": "3.6.1"
    },
    "colab": {
      "provenance": [],
      "include_colab_link": true
    }
  },
  "cells": [
    {
      "cell_type": "markdown",
      "metadata": {
        "id": "view-in-github",
        "colab_type": "text"
      },
      "source": [
        "<a href=\"https://colab.research.google.com/github/szkjiro/program/blob/main/DSL_Xtable.ipynb\" target=\"_parent\"><img src=\"https://colab.research.google.com/assets/colab-badge.svg\" alt=\"Open In Colab\"/></a>"
      ]
    },
    {
      "cell_type": "markdown",
      "id": "0a405b70",
      "metadata": {
        "id": "0a405b70"
      },
      "source": [
        "## クロス集計表\n",
        "\n",
        "Rではクロス集計表を作成するのに関数xtabsを使える．\n",
        "以前に扱ったサッカー選手のデータに，試合でのポジション（ゴールキーパーGK，ディフェンダーDF，ミッドフィルダーMF，フォワードFW）を追加してある．\n"
      ]
    },
    {
      "cell_type": "code",
      "source": [
        "# CSVファイルの読み込み\n",
        "# 変数名Japanに保存\n",
        "# Japan <- read.csv(\"SCMEM20211018pos.csv\", stringsAsFactors=TRUE)\n",
        "Japan <- data.frame(\n",
        "  \"Property\" = c(\"MEN\", \"MEN\", \"MEN\", \"MEN\", \"MEN\", \"MEN\", \"MEN\", \"MEN\", \"MEN\", \"MEN\", \"MEN\", \"MEN\", \"MEN\", \"MEN\", \"MEN\", \"MEN\", \"MEN\", \"MEN\", \"MEN\", \"MEN\", \"MEN\", \"MEN\", \"MEN\", \"OLYM\", \"OLYM\", \"OLYM\", \"OLYM\", \"OLYM\", \"OLYM\", \"OLYM\", \"OLYM\", \"OLYM\", \"OLYM\", \"OLYM\", \"OLYM\", \"OLYM\", \"OLYM\", \"OLYM\", \"OLYM\", \"OLYM\", \"OLYM\", \"OLYM\", \"OLYM\", \"OLYM\", \"OLYM\", \"OLYM\", \"WOM\", \"WOM\", \"WOM\", \"WOM\", \"WOM\", \"WOM\", \"WOM\", \"WOM\", \"WOM\", \"WOM\", \"WOM\", \"WOM\", \"WOM\", \"WOM\", \"WOM\", \"WOM\", \"WOM\", \"WOM\", \"WOM\", \"WOM\", \"WOM\", \"WOM\", \"WOM\", \"WOM\"),\n",
        "  \"Position\" = c(\"GK\", \"GK\", \"GK\", \"DF\", \"DF\", \"DF\", \"DF\", \"DF\", \"DF\", \"DF\", \"DF\", \"DF\", \"MF\", \"MF\", \"MF\", \"MF\", \"MF\", \"MF\", \"MF\", \"MF\", \"MF\", \"MF\", \"FW\", \"FW\", \"FW\", \"GK\", \"GK\", \"GK\", \"DF\", \"DF\", \"DF\", \"DF\", \"DF\", \"DF\", \"DF\", \"DF\", \"DF\", \"MF\", \"MF\", \"MF\", \"MF\", \"MF\", \"MF\", \"MF\", \"FW\", \"FW\", \"FW\", \"GK\", \"GK\", \"GK\", \"DF\", \"DF\", \"DF\", \"DF\", \"DF\", \"DF\", \"DF\", \"DF\", \"MF\", \"MF\", \"MF\", \"MF\", \"MF\", \"MF\", \"MF\", \"FW\", \"FW\", \"FW\", \"FW\", \"FW\"),\n",
        "   \"Height\" = c(185, 187, 190, 182, 186, 176, 186, 170, 187, 185, 181, 189, 178, 175, 177, 180, 174, 177, 176, 167, 177, 173, 170, 182, 180, 187, 190, 189, 185, 181, 186, 189, 171, 187, 182, 190, 183, 178, 173, 167, 172, 178, 166, 177, 173, 182, 178, 168, 170, 168, 164, 164, 160, 165, 160, 172, 169, 169, 158, 158, 160, 158, 154, 162, 160, 169, 164, 160, 166, 162),\n",
        "  \"Weight\" = c(82, 84, 84, 73, 77, 69, 75, 68, 84, 78, 76, 87, 76, 64, 68, 72, 68, 74, 66, 64, 69, 71, 63, 71, 75, 86, 84, 91, 78, 76, 75, 87, 70, 84, 73, 80, 72, 76, 67, 64, 70, 71, 69, 69, 67, 76, 74, 60, 67, 65, 57, 53, 47, 53, 52, 62, 67, 55, 50, 55, 53, 52, 44, 52, 48, 62, 56, 51, 58, 53),\n",
        "  \"Age\" = c(38, 32, 20, 22, 26, 27, 24, 35, 22, 31, 24, 33, 28, 29, 30, 25, 26, 26, 28, 24, 23, 26, 26, 31, 25, 22, 20, 19, 31, 24, 24, 33, 23, 22, 22, 24, 21, 28, 20, 24, 23, 24, 24, 23, 23, 23, 24, 29, 26, 21, 25, 24, 25, 26, 23, 22, 21, 24, 31, 27, 22, 25, 26, 24, 21, 31, 27, 24, 25, 22)\n",
        ")\n",
        "# はじめの6行を表示，\n",
        "head(Japan)\n",
        "# データの構成を表示\n",
        "# PropertyはMEN, OLYM, WOMの3種で構成されている\n",
        "# それぞれ男子，五輪，女子メンバーに対応する\n",
        "summary(Japan)\n",
        "# 変数名MenにPropertyの値がMENであるデータを代入\n"
      ],
      "metadata": {
        "id": "KLubfQh2zTWn"
      },
      "id": "KLubfQh2zTWn",
      "execution_count": null,
      "outputs": []
    },
    {
      "cell_type": "markdown",
      "source": [
        "このデータをProperty（男女の代表の別）とPosition（GKなどのポジション）で表に作成します．"
      ],
      "metadata": {
        "id": "C8HlMbPxGGn1"
      },
      "id": "C8HlMbPxGGn1"
    },
    {
      "cell_type": "code",
      "source": [
        "xtabs(~Property+Position,Japan)"
      ],
      "metadata": {
        "id": "_Dc3_7WpGYdR"
      },
      "id": "_Dc3_7WpGYdR",
      "execution_count": null,
      "outputs": []
    },
    {
      "cell_type": "markdown",
      "source": [
        "サッカーではどのチームでもGKやFWなどだいたい同じ人数だから，上の集計結果は多くの人の予想するところだろう．\n",
        "\n",
        "このような形の表を一般に分割表と呼ぶ．分割表において偶然では考えられないような結果が得られることもある．\n",
        "そうした場合に活用できるのが検定である．\n",
        "しかし検定が有効になるのはRCTにしたがって得られたデータであることを忘れてはならない．\n",
        "\n",
        "## 分割表の検定\n",
        "\n",
        "ここではメンデルの有名なエンドウ豆の実験結果を例に検定の方法を考える．\n",
        "\n",
        "### メンデルの実験\n",
        "\n",
        "メンデルは遺伝の仕組みの手がかりを得た重要な実験を，エンドウ豆の交配を通じて行った．\n",
        "エンドウ豆の育種を通じて，豆の色は黄色か緑色，豆の表面はしわがあるかないか（丸いか）の形質に注目した実験である．\n",
        "\n",
        "黄色で丸いエンドウ豆同士を交配させたところ，次表の結果を得た．\n",
        "\n",
        "| 形質 | 度数 |\n",
        "|:--------:|---:|\n",
        "| 黄色で丸い | 315 |\n",
        "| 黄色でしわ | 101|\n",
        "| 緑で丸い | 108 |\n",
        "| 緑でしわ | 32 |\n",
        "\n",
        "このようなデータに対しては，上のように単純な表の他に分割表との見方がある．\n",
        "次に検定の実行例をあげた．\n",
        "前者の表による見方を適合度検定といい，後者の表による見方を分割表の検定という．"
      ],
      "metadata": {
        "id": "yi9vBUbfHaan"
      },
      "id": "yi9vBUbfHaan"
    },
    {
      "cell_type": "code",
      "source": [
        "mendel <- c(315,101,108,32)\n",
        "\n",
        "# 適合度検定，自由度3\n",
        "mendel\n",
        "chisq.test(mendel)\n",
        "\n",
        "# 9:3:3:1を仮定\n",
        "# 比率p=を指定する\n",
        "prob <- c(9,3,3,1)/16\n",
        "chisq.test(mendel,p=prob)\n",
        "\n",
        "# 分割表の検定，自由度1\n",
        "mendel_square <- matrix(mendel,2)\n",
        "mendel_square\n",
        "chisq.test(mendel_square)"
      ],
      "metadata": {
        "id": "KLSHWRdzMKQz"
      },
      "id": "KLSHWRdzMKQz",
      "execution_count": null,
      "outputs": []
    },
    {
      "cell_type": "markdown",
      "source": [
        "いずれの表のモデルでも，確率はおおいに高い．\n",
        "この確率の高さが（メンデルの結果は統計学の発達していない19世紀だったが），20世紀になり，近代統計学の父と呼ばれるフィッシャーに批判される．\n",
        "仮説の比に近すぎるというのだ．（参照：『背信の科学者たち』，東京化学同人，現在はハヤカワ文庫NFより発行．）\n",
        "\n",
        "ここで使ったRの関数Cchisq.testはカイ自乗検定と呼ばれる方法であり，分割表の検定によく用いられる．"
      ],
      "metadata": {
        "id": "dHnu34zPNVVU"
      },
      "id": "dHnu34zPNVVU"
    },
    {
      "cell_type": "markdown",
      "source": [
        "RCTでなく取得したデータの扱いはどうしたらよいだろうか．\n",
        "検定はできなくても，そうしたデータが偶然に得られる確率を計算することには価値がある．\n",
        "そうした場合に使われる統計量の一つがオッズ比である．\n",
        "興味のある人は，たとえば[奥村晴彦氏のブログにRによる処理の解説](https://okumuralab.org/~okumura/stat/2by2.html)を参考にしてほしい．\n"
      ],
      "metadata": {
        "id": "wg0gWPdVyWP3"
      },
      "id": "wg0gWPdVyWP3"
    }
  ]
}