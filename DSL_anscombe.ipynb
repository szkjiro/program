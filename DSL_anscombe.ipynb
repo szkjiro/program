{
  "nbformat": 4,
  "nbformat_minor": 5,
  "metadata": {
    "kernelspec": {
      "display_name": "R",
      "language": "R",
      "name": "ir"
    },
    "language_info": {
      "codemirror_mode": "r",
      "file_extension": ".r",
      "mimetype": "text/x-r-source",
      "name": "R",
      "pygments_lexer": "r",
      "version": "3.6.1"
    },
    "colab": {
      "provenance": [],
      "include_colab_link": true
    }
  },
  "cells": [
    {
      "cell_type": "markdown",
      "metadata": {
        "id": "view-in-github",
        "colab_type": "text"
      },
      "source": [
        "<a href=\"https://colab.research.google.com/github/szkjiro/program/blob/main/DSL_anscombe.ipynb\" target=\"_parent\"><img src=\"https://colab.research.google.com/assets/colab-badge.svg\" alt=\"Open In Colab\"/></a>"
      ]
    },
    {
      "cell_type": "markdown",
      "id": "0a405b70",
      "metadata": {
        "id": "0a405b70"
      },
      "source": [
        "## 相関係数が等しくても\n",
        "\n",
        "2変量の分布を調べるとき，相関係数のみに頼っては危険である．\n",
        "相関係数はほぼ同じでも，散布図はまったく異なって見える例に「アンスコムの四重奏」がある．\n",
        "Rは標準でそれを利用できるデータセットanscombeをもっている．\n",
        "以下ではそれを利用して，最初に相関係数を計算し，次に散布図を表示している．\n",
        "\n",
        "相関係数が等しくても，データの分布（散布図）は異なる状況が観察できるだろう．\n",
        "\n",
        "回帰直線も合わせて表示する解説はインターネット上に多く見つけられる．\n",
        "そうしたものの一つ[デバイスビジネス開拓団](https://jhalfmoon.com/dbc/2022/08/08/%E3%83%87%E3%83%BC%E3%82%BF%E3%81%AE%E3%81%8A%E7%A0%82%E5%A0%B442-r%E8%A8%80%E8%AA%9E%E3%80%81anscombe%E3%80%81%E5%B9%B3%E5%9D%87%E3%80%81%E5%88%86%E6%95%A3%E3%80%81%E7%B7%9A%E5%BD%A2%E3%81%AA/)による解説をあげておく．\n",
        "\n"
      ]
    },
    {
      "cell_type": "code",
      "source": [
        "# データセットの確認\n",
        "anscombe\n",
        "# xi,yi, i=1,2,3,4 で4組のデータが設定されている\n",
        "#\n",
        "# データ参照の簡易化(anscombe$...の形にしないでよい)\n",
        "attach(anscombe)\n",
        "# 2x2に散布図を並べる設定\n",
        "par(mfrow = c(2,2))\n",
        "# 散布図をそれぞれ描画\n",
        "plot(x1,y1)\n",
        "plot(x2,y2)\n",
        "plot(x3,y3)\n",
        "plot(x4,y4)\n",
        "# 相関係数の計算\n",
        "cor(x1,y1)\n",
        "cor(x2,y2)\n",
        "cor(x3,y3)\n",
        "cor(x4,y4)"
      ],
      "metadata": {
        "id": "HkXk2NJpt8W5"
      },
      "id": "HkXk2NJpt8W5",
      "execution_count": null,
      "outputs": []
    },
    {
      "cell_type": "markdown",
      "source": [
        "以下には上で取り上げた問題に関するより詳しい数値実験例がある．\n",
        "解説はしない．\n",
        "\n",
        "Kieran Healy, [Data Visualization: Practical Introduction](https://kjhealy.github.io/socviz/reference/), 2019. Description of Service Code, for [practical code](https://github.com/kjhealy/socviz/blob/master/README.md) in Github.\n",
        "\n",
        "vanhove, [what data patterns can lie behind a correlation coefficient?](https://janhove.github.io/teaching/2016/11/21/what-correlations-look-like)"
      ],
      "metadata": {
        "id": "gtcL0cWSEeK0"
      },
      "id": "gtcL0cWSEeK0"
    }
  ]
}