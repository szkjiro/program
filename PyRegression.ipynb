{
  "nbformat": 4,
  "nbformat_minor": 0,
  "metadata": {
    "colab": {
      "provenance": [],
      "include_colab_link": true
    },
    "kernelspec": {
      "name": "python3",
      "display_name": "Python 3"
    },
    "language_info": {
      "name": "python"
    }
  },
  "cells": [
    {
      "cell_type": "markdown",
      "metadata": {
        "id": "view-in-github",
        "colab_type": "text"
      },
      "source": [
        "<a href=\"https://colab.research.google.com/github/szkjiro/program/blob/main/PyRegression.ipynb\" target=\"_parent\"><img src=\"https://colab.research.google.com/assets/colab-badge.svg\" alt=\"Open In Colab\"/></a>"
      ]
    },
    {
      "cell_type": "markdown",
      "source": [
        "# 回帰分析\n",
        "\n",
        "ここではデータ解析環境 R で提供されている標準データセット cars を利用して，\n",
        "散布図および回帰直線の描画をまず振り返り，\n",
        "次に同じデータセットに対して回帰分析を用いた予測を扱っていく．\n",
        "\n",
        "## データセットの読み込みと回帰直線の描画\n",
        "\n",
        "Pythonでは statsmodels に R　の標準データセットが用意されている．\n",
        "最初に，それを変数 cardata に読み込み，そのデータセットの先頭部分を関数 head により確認する．\n",
        "変数に対して角かっこ［］で参照する場合とそうでない場合の違いなどは説明していない．\n",
        "変数 speed はマイル単位であり，距離はフィート単位である．"
      ],
      "metadata": {
        "id": "dC1xY8vQ8jAl"
      }
    },
    {
      "cell_type": "code",
      "execution_count": null,
      "metadata": {
        "id": "cI9qQ1MPSJxe"
      },
      "outputs": [],
      "source": [
        "import statsmodels.api as sm\n",
        "cardata = sm.datasets.get_rdataset('cars', 'datasets').data\n",
        "# speed as miles, dist as feet\n",
        "cardata.head()"
      ]
    },
    {
      "cell_type": "markdown",
      "source": [
        "ここでは，あえて変換しないが，speedの数値を1.6で割ればキロメートル単位になるし，distの値を0.3で割ればメートル単位になる．\n",
        "\n",
        "データセットcardataの情報（5数要約）を表示しておく．"
      ],
      "metadata": {
        "id": "BDIFOHPC90qy"
      }
    },
    {
      "cell_type": "code",
      "source": [
        "cardata.describe()"
      ],
      "metadata": {
        "id": "eUTinv0sTaFN"
      },
      "execution_count": null,
      "outputs": []
    },
    {
      "cell_type": "markdown",
      "source": [
        "データセットcardataを散布図に描画する．「・dist」の部分は凡例（legend）である．plot関数にオプションを指定したので，「・」で描画し，横軸に軸名を表示している．"
      ],
      "metadata": {
        "id": "TYYUjh3V-OOT"
      }
    },
    {
      "cell_type": "code",
      "source": [
        "cardata.plot(x='speed', style='o')"
      ],
      "metadata": {
        "id": "qUeyrrW6TjY1"
      },
      "execution_count": null,
      "outputs": []
    },
    {
      "cell_type": "markdown",
      "source": [
        "次の例では散布図とともに回帰直線を表示している．データセットcardataの読み込み設定から繰り返しておいた．\n",
        "散布図と回帰直線を同時に表示する関数を，\n",
        "ライブラリseabornで提供している．\n",
        "関数regplotは回帰直線とともに，その95%信頼区間を塗りで示している．"
      ],
      "metadata": {
        "id": "q7rKzqCe-nMr"
      }
    },
    {
      "cell_type": "code",
      "source": [
        "import statsmodels.api as sm\n",
        "import seaborn as sns\n",
        "\n",
        "cardata = sm.datasets.get_rdataset('cars', 'datasets').data\n",
        "cars = sns.regplot(x='speed', y='dist', data=cardata)\n"
      ],
      "metadata": {
        "id": "tcGf3Q-7URXM"
      },
      "execution_count": null,
      "outputs": []
    },
    {
      "cell_type": "markdown",
      "source": [
        "## 回帰分析\n",
        "\n",
        "いよいよ回帰分析である．\n",
        "ここから何段階か後に，予測直線を描画するが，図的には上の回帰直線と同じである．\n",
        "図が同じだから同じものであるということはない．\n",
        "直線の利用目的が違うのである．\n",
        "予測直線は人工知能を用いたビッグデータ分析の中でも，最も多用されている一つである．\n",
        "\n",
        "ライブラリ scikit-learn（プログラム内では sklearn で参照）は機械学習ライブラリの中でも，最も広く用いられている．\n",
        "このライブラリにある LinearRegression 関数が回帰分析を行う．\n",
        "関数 fit はデータセットに当てはまる直線を求め，predictはその直線に沿った予測値を求める．\n",
        "\n",
        "次のプログラムでは回帰直線を描かせるプログラムのために，変数Kaikiを準備する．"
      ],
      "metadata": {
        "id": "8je_f05n--OG"
      }
    },
    {
      "cell_type": "code",
      "source": [
        "# Pythonでは a,b,c = d,e,f のような代入文により，\n",
        "# 一度に複数の変数に対応順に代入することができる．\n",
        "X, y = cardata[['speed']], cardata[['dist']]\n",
        "\n",
        "from sklearn.linear_model import LinearRegression\n",
        "Kaiki = LinearRegression()\n",
        "Kaiki.fit(X, y)"
      ],
      "metadata": {
        "id": "s9QcqA31VV66"
      },
      "execution_count": null,
      "outputs": []
    },
    {
      "cell_type": "markdown",
      "source": [
        "次のプログラムで回帰直線を図示する．\n"
      ],
      "metadata": {
        "id": "PBOkCv5WErIb"
      }
    },
    {
      "cell_type": "code",
      "source": [
        "import numpy as np\n",
        "import pandas as pd\n",
        "\n",
        "Speed = pd.DataFrame({'speed': np.linspace(min(cardata.speed),\n",
        "                                            max(cardata.speed),\n",
        "                                            100)})\n",
        "Speed['linear model'] = Kaiki.predict(Speed)\n",
        "pd.concat([cardata, Speed]).plot(x='speed', style=['o', '-'])"
      ],
      "metadata": {
        "id": "EoftekIQ2dlp"
      },
      "execution_count": null,
      "outputs": []
    },
    {
      "cell_type": "markdown",
      "source": [
        "予測値（関数predict）の結果を示すため，元のデータセット（データフレーム）にydashの名前で予測値を追加した．\n",
        "予測値と元データとの差を残差といい，回帰直線（予測直線）の良さを測る上で重要な統計量である．\n",
        "入門としの本授業ではその統計解析までは進めない．\n",
        "\n",
        "次のプログラムではデータセットcardataの再定義から始めている．"
      ],
      "metadata": {
        "id": "f_iBxUlhFRQu"
      }
    },
    {
      "cell_type": "code",
      "source": [
        "import pandas as pd\n",
        "import statsmodels.api as sm\n",
        "from sklearn.linear_model import LinearRegression\n",
        "from sklearn.metrics import mean_squared_error, r2_score\n",
        "\n",
        "cardata = sm.datasets.get_rdataset('cars', 'datasets').data\n",
        "X, y = cardata[['speed']], cardata[['dist']]\n",
        "\n",
        "Kaiki = LinearRegression()\n",
        "Kaiki.fit(X, y)\n",
        "# ここまではすでに実行したものと同じ\n",
        "\n",
        "ydash = Kaiki.predict(X)\n",
        "cardata['ydash'] = ydash\n",
        "pd.options.display.float_format = ('{:.2f}'.format)\n",
        "cardata['zansa'] = y - ydash\n",
        "cardata.head()"
      ],
      "metadata": {
        "id": "Fvf5PqS64eif"
      },
      "execution_count": null,
      "outputs": []
    },
    {
      "cell_type": "markdown",
      "source": [
        "予測値とは予測直線上の値である．実際のデータセットの各点に対して，予測値とデータとの間を点線でつないでみた．\n",
        "この点線の長さを残差という．\n"
      ],
      "metadata": {
        "id": "zr-X_PijF0uq"
      }
    },
    {
      "cell_type": "code",
      "source": [
        "carplotset = cardata.plot(x='speed', y='dist', style='o', legend=False)\n",
        "cardata.plot(x='speed', y='ydash', style='-', legend=False, ax=carplotset)\n",
        "carplotset.vlines(x=X, ymin=y, ymax=ydash, linestyles='dotted')"
      ],
      "metadata": {
        "id": "F2iirzPo6_OS"
      },
      "execution_count": null,
      "outputs": []
    },
    {
      "cell_type": "markdown",
      "source": [
        "統計学ではよく利用することだが，このような「誤差」に相当する量の分析には，平方和の平均値を扱う．\n",
        "次の値がそれであり，残差平方和の平均である．\n",
        "この値の解釈までは，入門である本授業では説明しない．"
      ],
      "metadata": {
        "id": "GXqbVKXdGOyo"
      }
    },
    {
      "cell_type": "code",
      "source": [
        "mean_squared_error(y, ydash)**0.5"
      ],
      "metadata": {
        "id": "UIr-SvPA8No_"
      },
      "execution_count": null,
      "outputs": []
    }
  ]
}