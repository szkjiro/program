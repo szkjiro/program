{
  "nbformat": 4,
  "nbformat_minor": 0,
  "metadata": {
    "colab": {
      "provenance": [],
      "include_colab_link": true
    },
    "kernelspec": {
      "name": "ir",
      "display_name": "R"
    },
    "language_info": {
      "name": "python"
    }
  },
  "cells": [
    {
      "cell_type": "markdown",
      "metadata": {
        "id": "view-in-github",
        "colab_type": "text"
      },
      "source": [
        "<a href=\"https://colab.research.google.com/github/szkjiro/program/blob/main/DSL_Statistics2.ipynb\" target=\"_parent\"><img src=\"https://colab.research.google.com/assets/colab-badge.svg\" alt=\"Open In Colab\"/></a>"
      ]
    },
    {
      "cell_type": "markdown",
      "source": [
        "# 集団の比較\n",
        "\n",
        "ここでは，すでに扱ったサッカー日本代表選手のカテゴリー間での身長を比較する話から始める．\n",
        "\n",
        "##  一人一人の比較から集団の比較へ\n",
        "\n",
        "一人一人の選手同士でどちらの背が高いのか，これは簡単である．直接に比べればよい．\n",
        "しかし，集団同士ではどうだろうか？\n",
        "\n",
        "> 「男子フル代表は男子五輪代表よりも背が高いのか？」\n",
        "\n",
        "と尋ねたい． 常識的には「比べる二人の選び方次第だ」となるだろう．それでも集団の比較をしたいのである． 中学校以来，私たちは確率で考える練習をしてきている． その方法を使えば，\n",
        "\n",
        "> 2つの集団からランダムに一人ずつ選んだとき， 一方の集団のほうが背が高くなる確率はいくらだろうか？\n",
        "\n",
        "ならば考えることができるはずである．\n",
        "\n",
        "これをRのプログラムで実験しよう．\n",
        "まずは前回のサッカー選手のデータファイルを読ませておく．\n",
        "読ませ方は前回のファイルを参照してほしい．\n"
      ],
      "metadata": {
        "id": "4C5vmMei5_ST"
      }
    },
    {
      "cell_type": "code",
      "execution_count": null,
      "metadata": {
        "id": "tkk07QVa5wfP"
      },
      "outputs": [],
      "source": [
        "# CSVファイルの読み込み\n",
        "# 変数名Japanに保存\n",
        "Japan <- data.frame(\n",
        "  \"Property\" = c(\"MEN\", \"MEN\", \"MEN\", \"MEN\", \"MEN\", \"MEN\", \"MEN\", \"MEN\", \"MEN\", \"MEN\", \"MEN\", \"MEN\", \"MEN\", \"MEN\", \"MEN\", \"MEN\", \"MEN\", \"MEN\", \"MEN\", \"MEN\", \"MEN\", \"MEN\", \"MEN\", \"OLYM\", \"OLYM\", \"OLYM\", \"OLYM\", \"OLYM\", \"OLYM\", \"OLYM\", \"OLYM\", \"OLYM\", \"OLYM\", \"OLYM\", \"OLYM\", \"OLYM\", \"OLYM\", \"OLYM\", \"OLYM\", \"OLYM\", \"OLYM\", \"OLYM\", \"OLYM\", \"OLYM\", \"OLYM\", \"OLYM\", \"WOM\", \"WOM\", \"WOM\", \"WOM\", \"WOM\", \"WOM\", \"WOM\", \"WOM\", \"WOM\", \"WOM\", \"WOM\", \"WOM\", \"WOM\", \"WOM\", \"WOM\", \"WOM\", \"WOM\", \"WOM\", \"WOM\", \"WOM\", \"WOM\", \"WOM\", \"WOM\", \"WOM\"),\n",
        "  \"Height\" = c(185, 187, 190, 182, 186, 176, 186, 170, 187, 185, 181, 189, 178, 175, 177, 180, 174, 177, 176, 167, 177, 173, 170, 182, 180, 187, 190, 189, 185, 181, 186, 189, 171, 187, 182, 190, 183, 178, 173, 167, 172, 178, 166, 177, 173, 182, 178, 168, 170, 168, 164, 164, 160, 165, 160, 172, 169, 169, 158, 158, 160, 158, 154, 162, 160, 169, 164, 160, 166, 162),\n",
        "  \"Weight\" = c(82, 84, 84, 73, 77, 69, 75, 68, 84, 78, 76, 87, 76, 64, 68, 72, 68, 74, 66, 64, 69, 71, 63, 71, 75, 86, 84, 91, 78, 76, 75, 87, 70, 84, 73, 80, 72, 76, 67, 64, 70, 71, 69, 69, 67, 76, 74, 60, 67, 65, 57, 53, 47, 53, 52, 62, 67, 55, 50, 55, 53, 52, 44, 52, 48, 62, 56, 51, 58, 53),\n",
        "  \"Age\" = c(38, 32, 20, 22, 26, 27, 24, 35, 22, 31, 24, 33, 28, 29, 30, 25, 26, 26, 28, 24, 23, 26, 26, 31, 25, 22, 20, 19, 31, 24, 24, 33, 23, 22, 22, 24, 21, 28, 20, 24, 23, 24, 24, 23, 23, 23, 24, 29, 26, 21, 25, 24, 25, 26, 23, 22, 21, 24, 31, 27, 22, 25, 26, 24, 21, 31, 27, 24, 25, 22)\n",
        ")\n",
        "# CSVファイルの読み込みなら次のようにする\n",
        "# Japan <- read.csv(\"SCMEM20211018.csv\", stringsAsFactors=TRUE)\n",
        "# はじめの6行を表示，\n",
        "head(Japan)\n",
        "# データの構成を表示\n",
        "# PropertyはMEN, OLYM, WOMの3種で構成されている\n",
        "# それぞれ男子，五輪，女子メンバーに対応する\n",
        "summary(Japan)\n",
        "# 変数名MenにPropertyの値がMENであるデータを代入\n",
        "Men <- Japan[Japan$Property==\"MEN\",]\n",
        "# 変数名WomenにPropertyの値がWOMであるデータを代入\n",
        "Women <- Japan[Japan$Property==\"WOM\",]\n",
        "# 変数名OlymにPropertyの値がOLYMであるデータを代入\n",
        "Olym <- Japan[Japan$Property==\"OLYM\",]"
      ]
    },
    {
      "cell_type": "markdown",
      "source": [
        "次のプログラムは2つの集団（男子フル代表Menと男子五輪代表Olymの身長データHeight）から関数sampleを利用して1000回の抽出を実行するものである．\n",
        "\n",
        "1000回の抽出をsample関数で繰り返し，抽出ごとにフル代表選手の身長から五輪代表の選手の身長を引く．それが正の値ならフル代表選手のほうが背が高く，負の値ならば背が低い．数えるために変数dに保存した．sum関数では正の場合と負の場合の回数をそれぞれ集計している． センチ単位の身長データなので，等しい可能性もある．それを除外して比を計算している．"
      ],
      "metadata": {
        "id": "a2wOBetLaxpT"
      }
    },
    {
      "cell_type": "code",
      "source": [
        "d=array(1000)\n",
        "for (i in 1:1000) {\n",
        "x<-sample(Men$Height,1)\n",
        "y<-sample(Olym$Height,1)\n",
        "d[i]<-x-y\n",
        "}\n",
        "#d\n",
        "d.hi<-sum(d>0)\n",
        "d.low<-sum(d<0)\n",
        "d.hi/d.low"
      ],
      "metadata": {
        "id": "NqJvhrXfbTkS"
      },
      "execution_count": null,
      "outputs": []
    },
    {
      "cell_type": "markdown",
      "source": [
        "この原稿を書いているときに3回実行した結果は，0.857，0.800，0.812であった．\n",
        "比の値からはフル代表のほうが背が高いようである．\n",
        "この比較では，身長が高いか低いかだけで，\n",
        "身長の差は無視している．\n",
        "1センチ高い場合も20センチ高い場合も区別していない．\n",
        "このような比較法を根拠に置く方法に順位和検定と呼ぶ手法がある．\n",
        "以下はそのための代表的手法であるウィルコクスンの順位和検定の実行結果である．"
      ],
      "metadata": {
        "id": "-wVSVI2Gbl04"
      }
    },
    {
      "cell_type": "code",
      "source": [
        "# ウィルコクスンの順位和検定\n",
        "wilcox.test(Men$Height,Olym$Height)"
      ],
      "metadata": {
        "id": "p1L0ihbqdQqD"
      },
      "execution_count": null,
      "outputs": []
    },
    {
      "cell_type": "markdown",
      "source": [
        "alternative hypothesis（対立仮説）は同じ集団から得られた二つの標本が，偶然にこのようなデータにはならないとしている．実際のデータから計算された順位（背の高さの順に並べる）全体が得られる確率がp-value（p値）である．ここで得られた値0.6157は，十分に起こり得ることを示している．ところで，この確率は何をもとにしているのか．それは同じ集団から得れれた二つの標本が偶然にこのようなデータを実現する（帰無仮説，null hypothesis）というものである．なお，testとは検定のことを指す．\n",
        "比較対象に応じて，以下に説明する平均値の差の検定と使いわける．\n",
        "\n",
        "## 平均値の活用\n",
        "\n",
        "次は集団の身長を平均値で比較している． Rではt.testという関数を使う． 調べようという二つの集団が，同一の集団（母集団）から得られた標本であると仮定したときに，実際に得られたデータのもつ平均の差が得られる確率を計算している． 確率が計算できる背景には正規分布の理論があり，それを実際の標本の大きさ（size）を反映するように改良したものにt分布があり，よく使われる．これらの分布の解説はリテラシーレベルを超えるので省略する．"
      ],
      "metadata": {
        "id": "A6ZVJk30dnrF"
      }
    },
    {
      "cell_type": "code",
      "source": [
        "# 年齢の差の検定\n",
        "t.test(Men$Height,Olym$Height)"
      ],
      "metadata": {
        "id": "CYEvHBwwd4fR"
      },
      "execution_count": null,
      "outputs": []
    },
    {
      "cell_type": "markdown",
      "source": [
        "ここでもp-value（p値）およびalternative hypothesis（対立仮説）に注意したい．統計学をそれなりに学習すると，他にdf（degree of freedom，自由度）が重要な要素であることもわかる． この結果では，男子代表と五輪代表の身長が同じ集団から得られた確率はありふれた値0.7755になったことを示している． 帰無仮説は偶然性から実際のデータが得られるとするものである．\n",
        "この例のように平均の差を検定する手法（判断のための確率を得られる方法）があることを知っておくこと以上には，検定方法の解釈をリテラシーでは掘り下げない． 実際，統計学入門の学習者にとって，この検定の考え方は納得の難しいものの一つなので，将来，統計学を学習される人はしっかりと演習を積んでほしい．"
      ],
      "metadata": {
        "id": "5i2eW3rueE5z"
      }
    }
  ]
}