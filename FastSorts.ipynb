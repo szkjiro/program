{
  "nbformat": 4,
  "nbformat_minor": 0,
  "metadata": {
    "colab": {
      "provenance": [],
      "authorship_tag": "ABX9TyMINvfH8v6d2eVyF1Yml5m5",
      "include_colab_link": true
    },
    "kernelspec": {
      "name": "python3",
      "display_name": "Python 3"
    },
    "language_info": {
      "name": "python"
    }
  },
  "cells": [
    {
      "cell_type": "markdown",
      "metadata": {
        "id": "view-in-github",
        "colab_type": "text"
      },
      "source": [
        "<a href=\"https://colab.research.google.com/github/szkjiro/program/blob/main/FastSorts.ipynb\" target=\"_parent\"><img src=\"https://colab.research.google.com/assets/colab-badge.svg\" alt=\"Open In Colab\"/></a>"
      ]
    },
    {
      "cell_type": "markdown",
      "source": [
        "[![Open In Colab](https://colab.research.google.com/assets/colab-badge.svg)](https://github.com/szkjiro/program/blob/main/FastSorts.ipynb)"
      ],
      "metadata": {
        "id": "meJOAKMmYfZO"
      }
    },
    {
      "cell_type": "markdown",
      "source": [
        "主な高速ソートアルゴリズムとして、**クイックソート**、**マージソート**、および **ヒープソート**がよく知られています。これらは計算量が平均でO(n log n)となる効率的なアルゴリズムです。それぞれのアルゴリズムの特徴と簡単なPythonコードを例題とともに紹介します。\n",
        "\n",
        "### 1. クイックソート\n",
        "クイックソートは「分割統治法」を用いたソートアルゴリズムです。基準値（ピボット）を選び、それに基づき配列をピボットより小さいグループと大きいグループに分割し、それぞれを再帰的にソートします。\n",
        "\n",
        "**特徴**:\n",
        "- 平均計算時間はO(n log n)ですが、最悪の場合はO(n^2)になる可能性があります（例: 既にソートされている配列で最初の要素をピボットとした場合）。\n",
        "- 元データの配列を利用できるソートアルゴリズムであり、追加メモリはほとんど必要ありません。"
      ],
      "metadata": {
        "id": "HxfFrrLHI3RM"
      }
    },
    {
      "cell_type": "code",
      "source": [
        "def quicksort(arr):\n",
        "    if len(arr) <= 1:\n",
        "        return arr\n",
        "    pivot = arr[len(arr) // 2]\n",
        "    left = [x for x in arr if x < pivot]\n",
        "    middle = [x for x in arr if x == pivot]\n",
        "    right = [x for x in arr if x > pivot]\n",
        "    return quicksort(left) + middle + quicksort(right)\n",
        "\n",
        "# 例題\n",
        "example = [3, 6, 8, 10, 1, 2, 1]\n",
        "print(\"Quicksort result:\", quicksort(example))"
      ],
      "metadata": {
        "colab": {
          "base_uri": "https://localhost:8080/"
        },
        "id": "JxP9l6FoJGpE",
        "outputId": "50e119e1-04ef-4f35-b228-c762d0a9b74f"
      },
      "execution_count": null,
      "outputs": [
        {
          "output_type": "stream",
          "name": "stdout",
          "text": [
            "Quicksort result: [1, 1, 2, 3, 6, 8, 10]\n"
          ]
        }
      ]
    },
    {
      "cell_type": "markdown",
      "source": [
        "\n",
        "\n",
        "### 2. マージソート\n",
        "マージソートも「分割統治法」を利用しますが、こちらは全ての分割作業が終わった後に、ソートしながら部分配列を統合（マージ）していきます。\n",
        "\n",
        "**特徴**:\n",
        "- 安定なソートアルゴリズムです。\n",
        "- 最悪の場合でも計算時間はO(n log n)です。\n",
        "- 追加の配列が必要なため、メモリ消費量が多いです。\n"
      ],
      "metadata": {
        "id": "XOSdpZijJpmp"
      }
    },
    {
      "cell_type": "code",
      "source": [
        "def merge_sort(arr):\n",
        "    if len(arr) > 1:\n",
        "        mid = len(arr) // 2\n",
        "        left_half = merge_sort(arr[:mid])\n",
        "        right_half = merge_sort(arr[mid:])\n",
        "\n",
        "        merged = []\n",
        "        while left_half and right_half:\n",
        "            if left_half[0] < right_half[0]:\n",
        "                merged.append(left_half.pop(0))\n",
        "            else:\n",
        "                merged.append(right_half.pop(0))\n",
        "        merged.extend(left_half or right_half)\n",
        "        return merged\n",
        "    return arr\n",
        "\n",
        "# 例題\n",
        "example = [3, 6, 8, 10, 1, 2, 1]\n",
        "print(\"Merge Sort result:\", merge_sort(example))"
      ],
      "metadata": {
        "id": "nqPMFZbJJ8ev"
      },
      "execution_count": null,
      "outputs": []
    },
    {
      "cell_type": "markdown",
      "source": [],
      "metadata": {
        "id": "cinbU4FfJv5L"
      }
    },
    {
      "cell_type": "markdown",
      "source": [
        "### 3. ヒープソート\n",
        "ヒープソートは完全二分木を用いたヒープというデータ構造を利用して、配列をソートします。全ての親ノードが子ノードより大きい（または小さい）というヒープ条件を保ちながら、要素を追加し、最大（最小）を取り出すことでソートを行います。\n",
        "\n",
        "**特徴**:\n",
        "- 最悪の場合の計算時間もO(n log n)です。\n",
        "- 元のデータ配列を利用できるソートアルゴリズムですが、データへのリンクが大きく変更されることが繰り返されるため、不安定なアルゴリズムとなっています。\n"
      ],
      "metadata": {
        "id": "F87HKr0HJzpP"
      }
    },
    {
      "cell_type": "code",
      "source": [
        "import heapq\n",
        "\n",
        "def heapsort(arr):\n",
        "    heapq.heapify(arr)\n",
        "    return [heapq.heappop(arr) for _ in range(len(arr))]\n",
        "\n",
        "# 例題\n",
        "example = [3, 6, 8, 10, 1, 2, 1]\n",
        "print(\"Heapsort result:\", heapsort(example))\n"
      ],
      "metadata": {
        "id": "F1leLoZPKKWX"
      },
      "execution_count": null,
      "outputs": []
    },
    {
      "cell_type": "markdown",
      "source": [
        "これらのソートアルゴリズムはそれぞれ特有の長所と短所を持っており、使用するシナリオによって最適な選択が異なります。"
      ],
      "metadata": {
        "id": "W76XZNomKEAw"
      }
    }
  ]
}