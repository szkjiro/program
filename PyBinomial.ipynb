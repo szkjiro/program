{
  "nbformat": 4,
  "nbformat_minor": 0,
  "metadata": {
    "colab": {
      "provenance": [],
      "include_colab_link": true
    },
    "kernelspec": {
      "name": "python3",
      "display_name": "Python 3"
    },
    "language_info": {
      "name": "python"
    }
  },
  "cells": [
    {
      "cell_type": "markdown",
      "metadata": {
        "id": "view-in-github",
        "colab_type": "text"
      },
      "source": [
        "<a href=\"https://colab.research.google.com/github/szkjiro/program/blob/main/PyBinomial.ipynb\" target=\"_parent\"><img src=\"https://colab.research.google.com/assets/colab-badge.svg\" alt=\"Open In Colab\"/></a>"
      ]
    },
    {
      "cell_type": "markdown",
      "source": [
        "# 確率と統計\n",
        "\n",
        "次のプログラムは乱数にしたがって0または1を表示する．\n",
        "一つだけを表示するとき，その値から，値の出る確率を推測することはできるだろうか．\n",
        "一回だけの実行では，そもそも「0または1を表示する」こともわからない．\n",
        "何回か実行してみて，初めて，0および1がほぼ同じ割合で出ることが想像できる．"
      ],
      "metadata": {
        "id": "hUlRr74kxxRa"
      }
    },
    {
      "cell_type": "code",
      "execution_count": null,
      "metadata": {
        "id": "HitHvPYnxwst"
      },
      "outputs": [],
      "source": [
        "import numpy as np\n",
        "# 最小low，最大high-1，size個数の整数値乱数を生成\n",
        "x = np.random.randint(low=0, high=2, size=1)\n",
        "print(x)"
      ]
    },
    {
      "cell_type": "markdown",
      "source": [
        "次のプログラムは4個（size=4）とすることで，一度に4個の0または1を表示する．"
      ],
      "metadata": {
        "id": "_q8jxwrKzp0d"
      }
    },
    {
      "cell_type": "code",
      "source": [
        "# 最小low，最大high-1，size個数の整数値乱数を生成\n",
        "x = np.random.randint(low=0, high=2, size=4)\n",
        "print(x)"
      ],
      "metadata": {
        "id": "bwzc45bTz2Tz"
      },
      "execution_count": null,
      "outputs": []
    },
    {
      "cell_type": "markdown",
      "source": [
        "何回か実行してみると，0と1の出る割合が同じかどうか確信は持てなくても，いずれかが多く出るような偏りはなさそうに見える．\n",
        "\n",
        "問：上の事実を確認しておくこと．\n",
        "\n",
        "そこで次の課題では，sizeを変数とするために値nを用意して，適当なnに対して何度か実行し，そのときの1の現れる全体比を表示する．\n",
        "\n",
        "問：nを大きくするとき，0.5に近い値になっていくことが観察できただろうか．ｎの小さいときでも0.5に近いといえただろうか．\n"
      ],
      "metadata": {
        "id": "92pkdYMH0QrG"
      }
    },
    {
      "cell_type": "code",
      "source": [
        "# 最小low，最大high-1，size個数の整数値乱数を生成\n",
        "n = 10000\n",
        "x = np.random.randint(low=0, high=2, size=n)\n",
        "# xは0または1なので合計（sum関数の値）をとると，1の個数になる\n",
        "# その合計値をnで割れば1の割合になる\n",
        "print(sum(x)/n)"
      ],
      "metadata": {
        "id": "RHAUkmua0jMc"
      },
      "execution_count": null,
      "outputs": []
    },
    {
      "cell_type": "markdown",
      "source": [
        "以下では，上のプログラムで実行した0と1の作るパターンおよび，このnを大きくしたときにそのた値はどのように振る舞うかを観察したい．\n",
        "\n",
        "## sizeを大きくしたときの割合の振る舞い\n",
        "\n",
        "以下のプログラムはsizeを4倍ずつ増やしながら$4^{10}$倍までの変化を，横軸にsize，縦軸に割合をプロットしたグラフを描かせた．\n",
        "\n",
        "注意：この手続きを長く繰り返すとGoogle Colabで利用できるメモリ領域を超えるため，エラーが生じる．\n",
        "たとえば乗数４のかわりに10を利用したとしよう．\n",
        "すると，10の10乗個の乱数を生成するには10GBを超えるメモリ領域を要求することになる．\n",
        "べき乗の指数を大きくしたときも同様な問題を生じる．"
      ],
      "metadata": {
        "id": "J5UmAsbb1tjL"
      }
    },
    {
      "cell_type": "code",
      "source": [
        "import matplotlib.pyplot as plt\n",
        "import numpy as np\n",
        "# 結果を記録するための配列\n",
        "p = [0]*10\n",
        "# sizeの初期値\n",
        "n = 2\n",
        "for i in range(10):\n",
        "  x = np.random.randint(low=0, high=2, size=n)\n",
        "  p[i] = sum(x)/n\n",
        "  n = n*4\n",
        "\n",
        "# 横軸は0,1,2,...で良いのでプロット関数に与える横軸を省略\n",
        "plt.plot(p)"
      ],
      "metadata": {
        "id": "XuV-SBTq2KF9"
      },
      "execution_count": null,
      "outputs": []
    },
    {
      "cell_type": "markdown",
      "source": [
        "（0.5からの）誤差はプラスにもマイナスにもなる．\n",
        "いずれにしても，nが大きくなれば，誤差は0に近づく．\n",
        "この振る舞いを精密に観察することはしないが，\n",
        "誤差の大きさは$1/\\sqrt{n}$に比例することがわかっており，\n",
        "それを**大数の法則**という．\n",
        "\n",
        "## ランダムパターンの観察\n",
        "\n",
        "先に動かした次のプログラムを考えよう．"
      ],
      "metadata": {
        "id": "rGPvEdbw6gA9"
      }
    },
    {
      "cell_type": "code",
      "source": [
        "# 最小low，最大high-1，size個数の整数値乱数を生成\n",
        "x = np.random.randint(low=0, high=2, size=4)\n",
        "print(x)"
      ],
      "metadata": {
        "id": "lAIFy7-t7P-x"
      },
      "execution_count": null,
      "outputs": []
    },
    {
      "cell_type": "markdown",
      "source": [
        "この場合の0と1のパターンは次ですべてであり，各パターンの現れる割合を計算することは簡単である．\n",
        "\n",
        "- 0 0 0 0\n",
        "- 1 0 0 0\n",
        "- 0 1 0 0\n",
        "- 0 0 1 0\n",
        "- 0 0 0 1\n",
        "- 1 1 0 0\n",
        "- 1 0 1 0\n",
        "- 1 0 0 1\n",
        "- 0 1 1 0\n",
        "- 0 1 0 1\n",
        "- 0 0 1 1\n",
        "- 1 1 1 0\n",
        "- 1 1 0 1\n",
        "- 1 0 1 1\n",
        "- 0 1 1 1\n",
        "- 1 1 1 1\n",
        "\n",
        "### パターンの現れる場合の数\n",
        "\n",
        "1. どのパターンも，現れる割合は同様に確からしい\n",
        "2. 1の現れる個数に注目すると，個数にもとづくパターンの種類は**二項係数**（組み合わせの数）で記述できる\n",
        "\n",
        "である．\n",
        "\n",
        "このうち，法則1は私たち人間の錯誤に関係した興味深い問題があり，心理学者たちの研究対象となっている．\n",
        "\n",
        "たとえば，パターン「1 1 0 0」はパターン「1 1 1 1」よりも出やすいと答える人が多い．これは**上の法則1と法則2を混同した考え方をしやすい**ことが理由らしい．\n",
        "これは「サイコロの目で6が出るのが10回続いたら，次は6以外の目が出やすい」のような判断であり，\n",
        "**ギャンブラーの錯誤**と言われる．\n",
        "\n",
        "次のプログラムでは0と1をn個続けたときに1の現れる個数，すなわち法則2に注目する乱数実験している．\n",
        "大数の法則を観察した上のプログラムに似せてみたので，\n",
        "興味のある人は違いを調べてみるとよい．"
      ],
      "metadata": {
        "id": "houYb2Dd7WjR"
      }
    },
    {
      "cell_type": "code",
      "source": [
        "import matplotlib.pyplot as plt\n",
        "import numpy as np\n",
        "# 結果を記録するための配列\n",
        "n = 20\n",
        "p = [0]*(n+1)\n",
        "# 10000回分のデータを集計する\n",
        "for i in range(100000):\n",
        "  x = np.random.randint(low=0, high=2, size=n)\n",
        "  k = sum(x)\n",
        "  p[k] = p[k]+1\n",
        "\n",
        "# 横軸は0,1,2,...で良いのでプロット関数に与える横軸を省略\n",
        "plt.plot(p)"
      ],
      "metadata": {
        "id": "s0s_tGtb95Yx"
      },
      "execution_count": null,
      "outputs": []
    },
    {
      "cell_type": "markdown",
      "source": [
        "この山型のパターンのことを**二項分布**という．\n",
        "ここまでは，簡単のためすべての数の出る確率が等しい乱数（一様乱数）を使って実験をしてきた．\n",
        "\n",
        "ここで，画鋲を投げたときに針が上に向くか，押す側が上に向くかのような問題に「1と0」を当てはめたいとする．\n",
        "このような問題を考えるには「1の出る確率p」をいろいろな値に設定できる必要がある．\n",
        "1の出る確率のことを，二項分布においては**成功の確率**（「成功」は良いことに限定しない）といい，サイズnのことを**試行の回数**という．\n",
        "毎回の成功の確率pが一定の試行のことを**ベルヌーイ試行**といい，その成功の回数の確率は二項分布にしたがうことが数学的にわかっている．\n",
        "この分布を記号$B(n,p)$で表す．\n",
        "\n",
        "二項分布は以下の性質を持つことが数学的にわかっている．\n",
        "\n",
        "- 平均は$np$\n",
        "- 分散は$np(1-p)$，言い換えれば，標準偏差は$\\sqrt{np(1-p)}$\n",
        "- $n\\to\\infty$のとき正規分布$N(np,\\sqrt{np(1-p)})$に近づく．\n",
        "\n",
        "標準偏差の値は，上の実験で描いたグラフにおいて，山型が上に凸（中央付近）から下に凸（両裾）に変化するとみられる点（変曲点）を与える横軸の値\n",
        "$$\n",
        "np(1-p)\\pm \\sqrt{np(1-p)}\n",
        "$$\n",
        "として観察できる．\n",
        "\n",
        "## 統計的推測\n",
        "\n",
        "統計的推測とは，以上の**実験からの観察と，数学的性質との関係を逆転させて活用する技術**である．\n",
        "上に例示した画鋲を投げたときに針が上を向く確率（成功の確率）を理論的に定めることはたぶん困難であろう．\n",
        "\n",
        "それでも，何回も画鋲を投げて針が上を向く割合のデータをとることはできる．\n",
        "そこで，データから得た割合をもとに，成功の確率pを推測することを行う．\n",
        "これを**統計的推測**という．\n",
        "\n",
        "Pythonでは二項分布に関する計算を容易に行うための関数がいくつも用意されており，以下ではライブラリSciPyにあるものを用いることにする．\n"
      ],
      "metadata": {
        "id": "rxQWJ-lIBQPq"
      }
    },
    {
      "cell_type": "code",
      "source": [
        "# 二項分布の推測に使う関数の設定\n",
        "# fromから指定する場合とimportで始める場合の違いはここでは説明していない\n",
        "# 習慣として使われる形式に本授業では準拠している\n",
        "from scipy import stats\n",
        "import matplotlib.pyplot as plt\n",
        "\n",
        "# くじ引きの想定\n",
        "n = 10 # くじを引く本数\n",
        "p = 0.5\n",
        "x = range(n+1) # 10本のくじを引くと当たる本数は0本から10本\n",
        "# xの各要素に対する二項分布の確率を計算\n",
        "# binom.pmf(あたりの数,くじを引く数,あたりの確率)\n",
        "prob = stats.binom.pmf(x,n,p)\n",
        "# 棒グラフの作成，二項分布\n",
        "plt.bar(x,prob)\n"
      ],
      "metadata": {
        "id": "Bx-8xvx3IVMX"
      },
      "execution_count": null,
      "outputs": []
    },
    {
      "cell_type": "markdown",
      "source": [
        "問：上のグラフを他のpの値（$0<p<1$）に対しても描かせてみよう．\n",
        "\n",
        "問：pと1-pに対して（たとえば0.2と0.8など），グラフの形はどのような関係にあるだろうか．\n",
        "\n",
        "問：nを大きくしたときに，グラフはどのような変化を見せるだろうか\n",
        "\n",
        "### 累積確率\n",
        "\n",
        "上の確率を小さい方から順に足していったらどうなるか．\n",
        "また，それをグラフに描かせてみよう．\n",
        "\n",
        "問：この例の最後の計算式sumを利用した計算値において，x=[0,1,...,10]を与えたときの合計値はいくらになるか確かめよ．\n",
        "また，その値が得られる理由はわかるだろうか．\n"
      ],
      "metadata": {
        "id": "VKMq09InY77v"
      }
    },
    {
      "cell_type": "code",
      "source": [
        "# 二項分布の推測に使う関数の設定\n",
        "# fromから指定する場合とimportで始める場合の違いはここでは説明していない\n",
        "# 習慣として使われる形式に本授業では準拠している\n",
        "from scipy import stats\n",
        "import matplotlib.pyplot as plt\n",
        "\n",
        "# くじ引きの想定\n",
        "# binomtest(当たる本数，くじを引く本数)と指定\n",
        "n = 10 # くじを引く本数\n",
        "p = 0.5\n",
        "x = range(n+1) # 10本のくじを引くと当たる本数は0本から10本\n",
        "# xの各要素に対する二項分布の累積確率を計算\n",
        "# 上の例題と関数だけ異なる\n",
        "prob = stats.binom.cdf(x,n,p)\n",
        "# 棒グラフの作成，二項分布\n",
        "plt.bar(x,prob)\n",
        "# 累積確率関数に頼らなくても，次のようにすれば途中までの累積値を求められる\n",
        "x1 = range(2,7) # たとえば2から7まで\n",
        "sum(stats.binom.pmf(x1,n,p))\n"
      ],
      "metadata": {
        "id": "Ky13igB3aHzv"
      },
      "execution_count": null,
      "outputs": []
    },
    {
      "cell_type": "markdown",
      "source": [
        "### 検定関数\n",
        "\n",
        "同じライブラリ内に，ある事象が生じる確率を計算する検定関数が用意されている．\n",
        "また，上で説明した「平均値±標準偏差」と似た「平均値±2倍の標準偏差」のような区間（信頼区間という）を計算する関数も用意されている．\n",
        "\n",
        "問：成功の確率ｐ，試行の回数ｎなどを変えて，いろいろな観察をしてみよう．"
      ],
      "metadata": {
        "id": "oYXd4hO_Z6ih"
      }
    },
    {
      "cell_type": "code",
      "source": [
        "# 二項分布の推測に使う関数の設定\n",
        "# fromから指定する場合とimportで始める場合の違いはここでは説明していない\n",
        "# 習慣として使われる形式に本授業では準拠している\n",
        "from scipy import stats\n",
        "import matplotlib.pyplot as plt\n",
        "\n",
        "# くじ引きの想定\n",
        "# binomtest(当たる本数，くじを引く本数)と指定\n",
        "n = 10 # くじを引く本数\n",
        "p = 0.5\n",
        "x = range(n+1) # 10本のくじを引くと当たる本数は0本から10本\n",
        "# 二項分布の検定関数を使う\n",
        "kekka = stats.binomtest(1,n,p)\n",
        "# p値\n",
        "print(kekka.pvalue)\n",
        "# 95%信頼区間\n",
        "print(kekka.proportion_ci())"
      ],
      "metadata": {
        "id": "VRSsfyyQZ0B7"
      },
      "execution_count": null,
      "outputs": []
    },
    {
      "cell_type": "markdown",
      "source": [
        "二項分布関数を利用して10回中1回の成功（あたり）の確率（ｐ値）を計算している．\n",
        "通常，このｐ値が0.05より小さいときに帰無仮説あるいは対立仮説を採択とか棄却とか，統計学の本には書いてある．\n",
        "このｐ値は，帰無仮説（偶然性をもとにする仮説）のもとで，検定したい事象の起こる確率を表す以上のことはない．\n",
        "\n",
        "ハウツー的統計学本に書いてあるような，検定のアルゴリズム（決まった手続き）が存在するわけではない．\n",
        "質の高い学術誌では検定離れ（検定手法で結論を出すのでなく，条件ごとの確率を記述する方向への変化）が進んでいる最中にある．"
      ],
      "metadata": {
        "id": "X7p2ZdqEg6Vp"
      }
    }
  ]
}