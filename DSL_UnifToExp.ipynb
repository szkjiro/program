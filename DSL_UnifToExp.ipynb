{
  "nbformat": 4,
  "nbformat_minor": 5,
  "metadata": {
    "kernelspec": {
      "display_name": "R",
      "language": "R",
      "name": "ir"
    },
    "language_info": {
      "codemirror_mode": "r",
      "file_extension": ".r",
      "mimetype": "text/x-r-source",
      "name": "R",
      "pygments_lexer": "r",
      "version": "3.6.1"
    },
    "colab": {
      "provenance": [],
      "include_colab_link": true
    }
  },
  "cells": [
    {
      "cell_type": "markdown",
      "metadata": {
        "id": "view-in-github",
        "colab_type": "text"
      },
      "source": [
        "<a href=\"https://colab.research.google.com/github/szkjiro/program/blob/main/DSL_UnifToExp.ipynb\" target=\"_parent\"><img src=\"https://colab.research.google.com/assets/colab-badge.svg\" alt=\"Open In Colab\"/></a>"
      ]
    },
    {
      "cell_type": "markdown",
      "id": "0a405b70",
      "metadata": {
        "id": "0a405b70"
      },
      "source": [
        "## 指数分布を作る\n",
        "\n",
        "指数分布に見える現象は身近に観察できる．\n",
        "その理由の一つが，\n",
        "\n",
        "> ランダムに生じる現象の時間間隔は指数分布になる\n",
        "\n",
        "という数学的事実である．\n",
        "これを乱数実験で観察しよう．\n",
        "\n"
      ]
    },
    {
      "cell_type": "code",
      "source": [
        "n <- 50\n",
        "x <- runif(n)\n",
        "y <- rep(1,n)\n",
        "plot(x,y,pch=\"|\")"
      ],
      "metadata": {
        "id": "yE91gRG4Efe9"
      },
      "id": "yE91gRG4Efe9",
      "execution_count": null,
      "outputs": []
    },
    {
      "cell_type": "markdown",
      "source": [
        "ここで「｜」を一様乱数の値に応じてプロットした．yの値1に意味はない．\n",
        "y軸の値が同じ｜を，横方向に表示させるためだけに与えてある．\n",
        "ランダム（まったく規則性のない）な現象が一様に分布するというのは，どこでも均一という意味ではない．\n",
        "部分的に集まって見えるところや空白の大きなところが見つかったりする．\n",
        "これが人間にとってランダムな現象を直感的に把握することを困難にしている理由の一つである．\n",
        "ヒストグラムに表してみよう．\n",
        "100個程度のデータではまったくの等確率にも見えない．"
      ],
      "metadata": {
        "id": "oRyOQnbaE5qJ"
      },
      "id": "oRyOQnbaE5qJ"
    },
    {
      "cell_type": "code",
      "source": [
        "hist(x)"
      ],
      "metadata": {
        "id": "_aQTA1Y2F4MA"
      },
      "id": "_aQTA1Y2F4MA",
      "execution_count": null,
      "outputs": []
    },
    {
      "cell_type": "markdown",
      "source": [
        "次に，同じデータを，「｜」の間隔に注目して集計したい．その準備に，データをxの値の順に並べ替える．並べ替えたものを◯でプロットしてみた．"
      ],
      "metadata": {
        "id": "SJOJCQRuGPdc"
      },
      "id": "SJOJCQRuGPdc"
    },
    {
      "cell_type": "code",
      "source": [
        "x1 <- sort(x)\n",
        "plot(x1,y)"
      ],
      "metadata": {
        "id": "avQvcLzdGYKL"
      },
      "id": "avQvcLzdGYKL",
      "execution_count": null,
      "outputs": []
    },
    {
      "cell_type": "markdown",
      "source": [
        "関数sortは値を大きさの順に並べ替える．\n",
        "yの値を1でプロットした上のグラフでは何も変わったようには見えないだろう．yの値をデータが小さい順に並ぶ，その番号としてグラフにしてみる．"
      ],
      "metadata": {
        "id": "C2d9qW3YGqZJ"
      },
      "id": "C2d9qW3YGqZJ"
    },
    {
      "cell_type": "code",
      "source": [
        "plot(x)\n",
        "par(new=T)\n",
        "plot(x1,pch=2)"
      ],
      "metadata": {
        "id": "lyvItPS0G7Tw"
      },
      "id": "lyvItPS0G7Tw",
      "execution_count": null,
      "outputs": []
    },
    {
      "cell_type": "markdown",
      "source": [
        "並べ替えたxの値x1を△でプロットした．△のy座標は順に大きくなっているのに，並べ替える前のxのy座標は跳ね回る点に見えないだろうか．\n",
        "同じデータをプロットしたようには見えないだろう．\n",
        "この違いが，単に大きさの順に並べ替えただけで得られたのである．\n",
        "\n",
        "## 時間間隔の分布\n",
        "\n",
        "乱数の値を「時刻」と思うことにする．\n",
        "次の図は並べ替えた乱数の値の差をヒストグラムにした．"
      ],
      "metadata": {
        "id": "-y3tl_erHWwN"
      },
      "id": "-y3tl_erHWwN"
    },
    {
      "cell_type": "code",
      "source": [
        "x2 = array(n)\n",
        "x3 = array(n)\n",
        "for (i in 1:n-1) {\n",
        "  x2[i] = x1[i+1]-x1[i]\n",
        "  x3[i] = x1[i+1]-x[i]\n",
        "}\n",
        "hist(x2)\n",
        "# hist(x3)"
      ],
      "metadata": {
        "id": "IgXKRvCaH2LM"
      },
      "id": "IgXKRvCaH2LM",
      "execution_count": null,
      "outputs": []
    },
    {
      "cell_type": "markdown",
      "source": [
        "このグラフは標本の大きさが50であり，度数が一直線に減っているのかよくわからない．\n",
        "標本の大きさを1000にして実行してみよう．"
      ],
      "metadata": {
        "id": "PBDiT91EKQnt"
      },
      "id": "PBDiT91EKQnt"
    },
    {
      "cell_type": "code",
      "source": [
        "n <- 10000\n",
        "x <- runif(n)\n",
        "x1 <- sort(x)\n",
        "for (i in 1:n-1) {\n",
        "  x2[i] = x1[i+1]-x1[i]\n",
        "}\n",
        "hist(x2)"
      ],
      "metadata": {
        "id": "aSLoBSLiKeba"
      },
      "id": "aSLoBSLiKeba",
      "execution_count": null,
      "outputs": []
    },
    {
      "cell_type": "markdown",
      "source": [
        "区間ごとの度数が左から右へ6割から7割程度に減っていくのがわかるだろうか．\n",
        "確かめてほしい．\n",
        "数学的に厳密な指数分布ではこの度数の減り方が区間の取り方によらず，一定の割合で減っていく．\n",
        "この特徴を数式に与えると次のようになる．\n",
        "$$\n",
        "y=e^{-\\lambda x}\n",
        "$$\n",
        "定数$\\lambda$は，実データからは平均として得ることができる．\n",
        "また指数分布の数学的性質として平均と標準偏差が等しいことがわかっている．\n",
        "上のデータに対して計算させている．両者の比が1に近いことがわかるだろうか．"
      ],
      "metadata": {
        "id": "YaZve23gLOuP"
      },
      "id": "YaZve23gLOuP"
    },
    {
      "cell_type": "code",
      "source": [
        "mean(x2)\n",
        "sd(x2)\n",
        "# 平均と標準偏差の比\n",
        "mean(x2)/sd(x2)"
      ],
      "metadata": {
        "id": "pG12E6B8L5jr"
      },
      "id": "pG12E6B8L5jr",
      "execution_count": null,
      "outputs": []
    },
    {
      "cell_type": "markdown",
      "source": [],
      "metadata": {
        "id": "qP1QpjH9GKS0"
      },
      "id": "qP1QpjH9GKS0"
    }
  ]
}