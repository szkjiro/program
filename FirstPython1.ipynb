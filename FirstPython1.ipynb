{
  "cells": [
    {
      "cell_type": "markdown",
      "metadata": {
        "id": "view-in-github",
        "colab_type": "text"
      },
      "source": [
        "<a href=\"https://colab.research.google.com/github/szkjiro/program/blob/main/FirstPython1.ipynb\" target=\"_parent\"><img src=\"https://colab.research.google.com/assets/colab-badge.svg\" alt=\"Open In Colab\"/></a>"
      ]
    },
    {
      "cell_type": "markdown",
      "source": [
        "## Python プログラミング初心者知識確認テスト\n",
        "\n",
        "**このテストは、Python プログラミングを初めて学習する方を対象とした知識確認テストです（ページの最下部に回答もあります）**\n",
        "\n",
        "**以下の問題の答えを予想し、その予想が適切だったか確認してください。信州大学の「統計学からデータサイエンスへ」受講者で，予想通りにならなかった理由がわからなかった人は受講コースの質問フォーラムに，自分の考察とともに質問投稿してください．なお番号に＊マークの付いている問題は今のところ理解不要です。 **\n",
        "\n",
        "**問題**\n",
        "\n",
        "**1. 以下のコードは何を出力しますか？**"
      ],
      "metadata": {
        "id": "0glRPidi_zHv"
      }
    },
    {
      "cell_type": "code",
      "source": [
        "print(\"Hello, World!\")"
      ],
      "outputs": [],
      "execution_count": null,
      "metadata": {
        "id": "3Afuzgha_zHz"
      }
    },
    {
      "cell_type": "markdown",
      "source": [
        "(a) `Hello, World!`\n",
        "(b) `Error`\n",
        "(c) `Nothing`\n",
        "(d) `Python`\n",
        "\n",
        "**2. 以下のコードは有効ですか？**"
      ],
      "metadata": {
        "id": "H7dnwzj3_zH0"
      }
    },
    {
      "cell_type": "code",
      "source": [
        "x = 10\n",
        "y = 20\n",
        "z = x + y\n",
        "print(z)"
      ],
      "outputs": [],
      "execution_count": null,
      "metadata": {
        "id": "dCZkh8zr_zH1"
      }
    },
    {
      "cell_type": "markdown",
      "source": [
        "(a) はい\n",
        "(b) いいえ\n",
        "\n",
        "**3＊. 以下のコードは何を出力しますか？**"
      ],
      "metadata": {
        "id": "br86dMOB_zH1"
      }
    },
    {
      "cell_type": "code",
      "source": [
        "for i in range(5):\n",
        "  print(i)"
      ],
      "outputs": [],
      "execution_count": null,
      "metadata": {
        "id": "4iEadrx4_zH1"
      }
    },
    {
      "cell_type": "markdown",
      "source": [
        "(a) `0 1 2 3 4`\n",
        "(b) `5`\n",
        "(c) `Error`\n",
        "(d) `Nothing`\n",
        "\n",
        "**4＊. 以下のコードはどのような動作をしますか？**"
      ],
      "metadata": {
        "id": "ACxoNydW_zH2"
      }
    },
    {
      "cell_type": "code",
      "source": [
        "def my_function(a, b):\n",
        "  return a + b\n",
        "\n",
        "result = my_function(3, 5)\n",
        "print(result)"
      ],
      "outputs": [],
      "execution_count": null,
      "metadata": {
        "id": "-3Uht_qs_zH2"
      }
    },
    {
      "cell_type": "markdown",
      "source": [
        "(a) 2つの数値を受け取り、それらを足した結果を返す\n",
        "(b) 3と5を足し、その結果を画面に出力する\n",
        "(c) `my_function` という名前の関数を作成する\n",
        "(d) すべて\n",
        "\n",
        "**5＊. 以下のコードは有効ですか？**"
      ],
      "metadata": {
        "id": "tmTMWc81_zH3"
      }
    },
    {
      "cell_type": "code",
      "source": [
        "if x > 0:\n",
        "  print(\"xは正の数です\")\n",
        "else:\n",
        "  print(\"xは負の数です\")"
      ],
      "outputs": [
        {
          "output_type": "stream",
          "name": "stdout",
          "text": [
            "xは正の数です\n"
          ]
        }
      ],
      "execution_count": 7,
      "metadata": {
        "colab": {
          "base_uri": "https://localhost:8080/"
        },
        "id": "HINgPV_G_zH3",
        "outputId": "c8729e83-6e39-471d-a13e-10dba70dbc6f"
      }
    },
    {
      "cell_type": "markdown",
      "source": [
        "(a) はい\n",
        "(b) いいえ\n",
        "\n",
        "**6＊. 以下のコードはどのような動作をしますか？**"
      ],
      "metadata": {
        "id": "GF4e6TVq_zH3"
      }
    },
    {
      "cell_type": "code",
      "source": [
        "list = [1, 2, 3, 4, 5]\n",
        "print(list[2])"
      ],
      "outputs": [
        {
          "output_type": "stream",
          "name": "stdout",
          "text": [
            "3\n"
          ]
        }
      ],
      "execution_count": 8,
      "metadata": {
        "colab": {
          "base_uri": "https://localhost:8080/"
        },
        "id": "N992KQiw_zH3",
        "outputId": "508b95e2-58f0-4529-885b-b16ad25aecb6"
      }
    },
    {
      "cell_type": "markdown",
      "source": [
        "(a) リスト `list` の3番目の要素を出力する\n",
        "(b) リスト `list` の要素をすべて出力する\n",
        "(c) リスト `list` に要素を追加する\n",
        "(d) リスト `list` を削除する\n",
        "\n",
        "**7＊. 以下のコードは適切に停止しますか？**"
      ],
      "metadata": {
        "id": "XUQu8L4p_zH4"
      }
    },
    {
      "cell_type": "code",
      "source": [
        "while True:\n",
        "  print(\"Hello\")"
      ],
      "outputs": [],
      "execution_count": null,
      "metadata": {
        "id": "m5O6HBJQ_zH4"
      }
    },
    {
      "cell_type": "markdown",
      "source": [
        "(a) はい\n",
        "(b) いいえ\n",
        "\n",
        "**8＊. 以下のコードは何を出力しますか？**"
      ],
      "metadata": {
        "id": "b9er891X_zH4"
      }
    },
    {
      "cell_type": "code",
      "source": [
        "dictionary = {\"name\": \"John\", \"age\": 30}\n",
        "print(dictionary[\"name\"])"
      ],
      "outputs": [],
      "execution_count": null,
      "metadata": {
        "id": "oLiYF32d_zH4"
      }
    },
    {
      "cell_type": "markdown",
      "source": [
        "(a) `John`\n",
        "(b) `{name: John, age: 30}`\n",
        "(c) `Error`\n",
        "(d) `Nothing`\n",
        "\n",
        "**9＊. 以下のコードはどのような動作をしますか？**"
      ],
      "metadata": {
        "id": "FStAlXd0_zH4"
      }
    },
    {
      "cell_type": "code",
      "source": [
        "try:\n",
        "  open(\"myfile.txt\")\n",
        "except Exception as e:\n",
        "  print(e)"
      ],
      "outputs": [],
      "execution_count": null,
      "metadata": {
        "id": "eh0aJ5ya_zH4"
      }
    },
    {
      "cell_type": "markdown",
      "source": [
        "(a) ファイル \"myfile.txt\" を開く\n",
        "(b) ファイル \"myfile.txt\" が存在しない場合、エラーメッセージを出力する\n",
        "(c) すべての例外を処理する\n",
        "(d) すべて\n",
        "\n",
        "**10＊. 以下のコードは有効ですか？**"
      ],
      "metadata": {
        "id": "QEOKGOzS_zH4"
      }
    },
    {
      "cell_type": "code",
      "source": [
        "import math\n",
        "\n",
        "print(math.pi)"
      ],
      "outputs": [],
      "execution_count": null,
      "metadata": {
        "id": "8YB2ecIT_zH4"
      }
    },
    {
      "cell_type": "markdown",
      "source": [
        "(a) はい\n",
        "(b) いいえ\n",
        "\n",
        "**解答**\n",
        "\n",
        "1. (a)\n",
        "2. (a)\n",
        "3. (a)\n",
        "4. (d)\n",
        "5. (a)\n",
        "6. (a)\n",
        "7. (a)\n",
        "8. (a)\n",
        "9. (b)\n",
        "10. (a)\n"
      ],
      "metadata": {
        "id": "z-LLnWig_zH4"
      }
    }
  ],
  "metadata": {
    "colab": {
      "provenance": [],
      "include_colab_link": true
    },
    "kernelspec": {
      "display_name": "Python 3",
      "name": "python3"
    }
  },
  "nbformat": 4,
  "nbformat_minor": 0
}