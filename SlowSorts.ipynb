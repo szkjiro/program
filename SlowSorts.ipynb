{
  "cells": [
    {
      "cell_type": "markdown",
      "metadata": {
        "id": "view-in-github",
        "colab_type": "text"
      },
      "source": [
        "<a href=\"https://colab.research.google.com/github/szkjiro/program/blob/main/SlowSorts.ipynb\" target=\"_parent\"><img src=\"https://colab.research.google.com/assets/colab-badge.svg\" alt=\"Open In Colab\"/></a>"
      ]
    },
    {
      "cell_type": "markdown",
      "source": [
        "[![Open In Colab](https://colab.research.google.com/assets/colab-badge.svg)](https://github.com/szkjiro/program/blob/main/SlowSorts.ipynb)"
      ],
      "metadata": {
        "id": "OWugE6kDXO_H"
      }
    },
    {
      "cell_type": "markdown",
      "source": [
        "**太字**## 主なソートアルゴリズムとその説明、コード、例題\n",
        "\n",
        "このセクションでは、処理が遅いために実用性に欠ける3つの主要なソートアルゴリズムとその説明、コード、例題を紹介します。\n",
        "動作の概要は、たとえばこの[動画](https://www.youtube.com/watch?v=R9LkFlZz4Bc)を参考にしてください。\n",
        "\n",
        "### 1. バブルソート\n",
        "\n",
        "**概要**\n",
        "\n",
        "バブルソートは、隣接する要素を比較し、大きい方を後ろに移動していく単純なソートアルゴリズムです。 すべての要素が正しい位置に並ぶまで、この操作を繰り返します。\n",
        "\n",
        "**コード**"
      ],
      "metadata": {
        "id": "Ym87AnG5H0oh"
      }
    },
    {
      "cell_type": "code",
      "source": [
        "def bubble_sort(array):\n",
        "  \"\"\"\n",
        "  バブルソートを使用して配列をソートする\n",
        "\n",
        "  Args:\n",
        "    array (list): ソート対象の配列\n",
        "\n",
        "  Returns:\n",
        "    list: ソート済みの配列\n",
        "  \"\"\"\n",
        "  is_sorted = False\n",
        "  while not is_sorted:\n",
        "    is_sorted = True\n",
        "    for i in range(len(array) - 1):\n",
        "      if array[i] > array[i + 1]:\n",
        "        array[i], array[i + 1] = array[i + 1], array[i]\n",
        "        is_sorted = False\n",
        "\n",
        "  return array"
      ],
      "outputs": [],
      "execution_count": null,
      "metadata": {
        "id": "l7Pak9oeH0oj"
      }
    },
    {
      "cell_type": "markdown",
      "source": [
        "**例題**"
      ],
      "metadata": {
        "id": "DnBcRfSbH0ol"
      }
    },
    {
      "cell_type": "code",
      "source": [
        "array = [5, 2, 4, 1, 3]\n",
        "sorted_array = bubble_sort(array)\n",
        "print(sorted_array)  # 出力: [1, 2, 3, 4, 5]"
      ],
      "outputs": [],
      "execution_count": null,
      "metadata": {
        "id": "jLO6gNUlH0ol"
      }
    },
    {
      "cell_type": "markdown",
      "source": [
        "**利点**\n",
        "\n",
        "* シンプルで理解しやすい\n",
        "* 実装が簡単\n",
        "* 追加のデータ構造を必要としない\n",
        "\n",
        "**欠点**\n",
        "\n",
        "* 他のソートアルゴリズムよりも時間がかかる\n",
        "* 最悪の場合の時間計算量は O(n^2)\n",
        "\n",
        "### 2. 選択ソート\n",
        "\n",
        "**概要**\n",
        "\n",
        "選択ソートは、毎回最小の要素を見つけ、その要素を正しい位置に移動していくソートアルゴリズムです。 すべての要素が正しい位置に並ぶまで、この操作を繰り返します。\n",
        "\n",
        "**コード**"
      ],
      "metadata": {
        "id": "1Y-lzimaH0ol"
      }
    },
    {
      "cell_type": "code",
      "source": [
        "def selection_sort(array):\n",
        "  \"\"\"\n",
        "  選択ソートを使用して配列をソートする\n",
        "\n",
        "  Args:\n",
        "    array (list): ソート対象の配列\n",
        "\n",
        "  Returns:\n",
        "    list: ソート済みの配列\n",
        "  \"\"\"\n",
        "  for i in range(len(array)):\n",
        "    min_index = i\n",
        "    for j in range(i + 1, len(array)):\n",
        "      if array[j] < array[min_index]:\n",
        "        min_index = j\n",
        "    array[i], array[min_index] = array[min_index], array[i]\n",
        "\n",
        "  return array"
      ],
      "outputs": [],
      "execution_count": null,
      "metadata": {
        "id": "d20Ht8YqH0ol"
      }
    },
    {
      "cell_type": "markdown",
      "source": [
        "**例題**"
      ],
      "metadata": {
        "id": "x4T5sAiFH0om"
      }
    },
    {
      "cell_type": "code",
      "source": [
        "array = [5, 2, 4, 1, 3]\n",
        "sorted_array = selection_sort(array)\n",
        "print(sorted_array)  # 出力: [1, 2, 3, 4, 5]"
      ],
      "outputs": [],
      "execution_count": null,
      "metadata": {
        "id": "JZ6gLz5jH0om"
      }
    },
    {
      "cell_type": "markdown",
      "source": [
        "**利点**\n",
        "\n",
        "* 安定したソートアルゴリズムである\n",
        "* 空間計算量が O(n) である\n",
        "\n",
        "**欠点**\n",
        "\n",
        "* バブルソートよりも時間がかかる\n",
        "* 最悪の場合の時間計算量は O(n^2)\n",
        "\n",
        "### 3. 挿入ソート\n",
        "\n",
        "**概要**\n",
        "\n",
        "挿入ソートは、ソート済みの部分配列と未ソートの部分配列を区別し、未ソートの要素をソート済みの部分配列に適切な位置に挿入していくソートアルゴリズムです。\n",
        "\n",
        "**コード**"
      ],
      "metadata": {
        "id": "8B8tJlQ3H0om"
      }
    },
    {
      "cell_type": "code",
      "source": [
        "def insertion_sort(array):\n",
        "  \"\"\"\n",
        "  挿入ソートを使用して配列をソートする\n",
        "\n",
        "  Args:\n",
        "    array (list): ソート対象の配列\n",
        "\n",
        "  Returns:\n",
        "    list: ソート済みの配列\n",
        "  \"\"\"\n",
        "  for i in range(1, len(array)):\n",
        "    value = array[i]\n",
        "    j = i - 1\n",
        "    while j >= 0 and array[j] > value:\n",
        "      array[j + 1] = array[j]\n",
        "      j -= 1\n",
        "    array[j + 1] = value\n",
        "\n",
        "  return array"
      ],
      "outputs": [],
      "execution_count": null,
      "metadata": {
        "id": "YLFquaDGH0om"
      }
    },
    {
      "cell_type": "markdown",
      "source": [
        "**例題**"
      ],
      "metadata": {
        "id": "VsWaSRAVH0om"
      }
    },
    {
      "cell_type": "code",
      "source": [
        "array = [5, 2, 4, 1, 3]\n",
        "sorted_array = insertion_sort(array)\n",
        "print(sorted_array)  # 出力: [1, 2, 3, 4, 5]"
      ],
      "outputs": [],
      "execution_count": null,
      "metadata": {
        "id": "eW2J5NQDH0om"
      }
    },
    {
      "cell_type": "markdown",
      "source": [
        "**利点**\n",
        "\n",
        "* 安定したソートアルゴリズムである\n",
        "* オンラインソートに適している\n",
        "* 小規模なデータに対して効率が良い\n",
        "\n",
        "**欠点**\n",
        "\n",
        "* 最悪の場合の時間計算量は O(n^2)"
      ],
      "metadata": {
        "id": "nkzpB4QtH0on"
      }
    }
  ],
  "metadata": {
    "colab": {
      "provenance": [],
      "include_colab_link": true
    },
    "kernelspec": {
      "display_name": "Python 3",
      "name": "python3"
    }
  },
  "nbformat": 4,
  "nbformat_minor": 0
}