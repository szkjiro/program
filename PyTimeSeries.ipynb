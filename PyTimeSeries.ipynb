{
  "nbformat": 4,
  "nbformat_minor": 0,
  "metadata": {
    "colab": {
      "provenance": [],
      "include_colab_link": true
    },
    "kernelspec": {
      "name": "python3",
      "display_name": "Python 3"
    },
    "language_info": {
      "name": "python"
    }
  },
  "cells": [
    {
      "cell_type": "markdown",
      "metadata": {
        "id": "view-in-github",
        "colab_type": "text"
      },
      "source": [
        "<a href=\"https://colab.research.google.com/github/szkjiro/program/blob/main/PyTimeSeries.ipynb\" target=\"_parent\"><img src=\"https://colab.research.google.com/assets/colab-badge.svg\" alt=\"Open In Colab\"/></a>"
      ]
    },
    {
      "cell_type": "markdown",
      "source": [
        "# 時系列解析\n",
        "\n",
        "松本市の2023年5月気象データ（気象庁提供）をもとに散布図から始めて，時系列データ解析の一端を観察する．"
      ],
      "metadata": {
        "id": "1-_4x_jlQq7n"
      }
    },
    {
      "cell_type": "code",
      "execution_count": null,
      "metadata": {
        "id": "N4pjE6BENWXb"
      },
      "outputs": [],
      "source": [
        "import pandas as pd\n",
        "import matplotlib.pyplot as plt\n",
        "\n",
        "# データの読み込み，松本市，2023/10\n",
        "# あなたのデータを利用するときはファイル名（パス名も込みで）置き換えてほしい\n",
        "MatsumotoAll = pd.read_csv(\"matsumoto.csv\")\n",
        "# 各列の名前を確認\n",
        "MatsumotoAll.head()\n",
        "\n",
        "# 散布図行列の表示\n",
        "pd.plotting.scatter_matrix(MatsumotoAll)"
      ]
    },
    {
      "cell_type": "markdown",
      "source": [
        "ここでは観察を気圧，気温および日照時間に絞ろう．"
      ],
      "metadata": {
        "id": "q4Y2oN9ERHtA"
      }
    },
    {
      "cell_type": "code",
      "source": [
        "# 全項目から一部だけを選び新たな変数に置く\n",
        "Matsu = MatsumotoAll[['日','平均気圧','平均気温','日照時間']]\n",
        "Matsu.head()"
      ],
      "metadata": {
        "id": "jaXVW1GQRPRq"
      },
      "execution_count": null,
      "outputs": []
    },
    {
      "cell_type": "markdown",
      "source": [
        "最初に各指標（気温や気圧などのこと）の間の相関を見ておく．\n",
        "何も相関はなさそうである．\n",
        "日付の集計（第1行および第1列）は無意味と言えるが，あとの扱いのやりやすさにこのデータフレームで進める．"
      ],
      "metadata": {
        "id": "yi_gUO6OUUAU"
      }
    },
    {
      "cell_type": "code",
      "source": [
        "# 最初は全項目だったが，ここでは気圧，気温，日照時間\n",
        "pd.plotting.scatter_matrix(Matsu)"
      ],
      "metadata": {
        "id": "IF_Uv_NqT2HP"
      },
      "execution_count": null,
      "outputs": []
    },
    {
      "cell_type": "markdown",
      "source": [
        "一ヶ月間の変化をみる．\n",
        "平均気圧だけを示したが，他の指標（平均気温および日照時間）もグラフにしてみよう．"
      ],
      "metadata": {
        "id": "ir21C2ArTs4H"
      }
    },
    {
      "cell_type": "code",
      "source": [
        "# 次は平均気圧の表示．この文字列を平均気温や日照時間に書き換えて実行してみよう\n",
        "plt.plot(Matsu['日'],Matsu['平均気圧'])\n",
        "# 不慣れな人のために先頭のコメントマークを外せば利用できるものを用意しておいた\n",
        "# plt.plot(Matsu['日'],Matsu['平均気温'])\n",
        "# plt.plot(Matsu['日'],Matsu['日照時間'])"
      ],
      "metadata": {
        "id": "HLBKvyjqSop7"
      },
      "execution_count": null,
      "outputs": []
    },
    {
      "cell_type": "markdown",
      "source": [
        "「三寒四温」のような気象変化を表すことばもある．\n",
        "次の例は３日間移動平均を計算する．\n",
        "関数rollingは移動平均を計算する関数である．\n",
        "この関数に，３の代わりに7を与えれば，７日間移動平均を計算する．"
      ],
      "metadata": {
        "id": "NcGhCj67WLxZ"
      }
    },
    {
      "cell_type": "code",
      "source": [
        "idou = Matsu['平均気圧'].rolling(3).mean()\n",
        "# idou = Matsu['平均気圧'].rolling(7).mean()\n",
        "plt.plot(Matsu['日'],idou)\n"
      ],
      "metadata": {
        "id": "TAYsdVyaWgcc"
      },
      "execution_count": null,
      "outputs": []
    },
    {
      "cell_type": "markdown",
      "source": [
        "平均気圧と移動平均とをいっしょのグラフに描かせる．\n",
        "移動平均は区別のために赤にした．\n",
        "\n",
        "問：何日間の移動平均が，気圧変化の傾向を見るのに適当に思えるか．\n",
        "いろいろと試してみよう．\n",
        "\n",
        "問：平均気温や日照時間ではどうだろうか．\n",
        "\n"
      ],
      "metadata": {
        "id": "p9Ay5H7HYSB8"
      }
    },
    {
      "cell_type": "code",
      "source": [
        "plt.plot(Matsu['日'],Matsu['平均気圧'])\n",
        "\n",
        "idou = Matsu['平均気圧'].rolling(3).mean()\n",
        "# idou = Matsu['平均気圧'].rolling(7).mean()\n",
        "plt.plot(Matsu['日'],idou, color='red')"
      ],
      "metadata": {
        "id": "FQ5tDIb3Xd0R"
      },
      "execution_count": null,
      "outputs": []
    },
    {
      "cell_type": "markdown",
      "source": [
        "# 周期を見つける\n",
        "\n",
        "「いつも週末になると天気が崩れる」のようなことがあれば，7日間周期が見つかるはずである．\n",
        "そうした周期を計算で求める手法が，自己相関係数をもとにするコレログラムである．\n",
        "\n",
        "次の例ではstatsmodelsライブラリのもつ関数を利用した．\n",
        "[Qiitaの解説記事](https://qiita.com/MToyokura/items/8a58cb43e634e6421834)．\n",
        "変数lagsの指定は何日のラグ（遅れ）まで計算させるかである．\n",
        "ここでは一ヶ月のデータなので２週間までとした．\n"
      ],
      "metadata": {
        "id": "EWojizjcZX7n"
      }
    },
    {
      "cell_type": "code",
      "source": [
        "import statsmodels.graphics.api as smg\n",
        "from statsmodels.graphics.tsaplots import plot_acf\n",
        "plot_acf(Matsu['平均気圧'], lags=14);"
      ],
      "metadata": {
        "id": "SEQdi0LUZ8P0"
      },
      "execution_count": null,
      "outputs": []
    },
    {
      "cell_type": "markdown",
      "source": [
        "ラグ（遅れ）が０のとき（自己）相関係数の値が１になることは，\n",
        "散布図の縦軸・横軸に同じものをとった次のグラフからわかるだろう．\n",
        "他のラグ（遅れ）で塗られた領域を外れた自己相関係数の値を生じた周期が重要である．\n",
        "\n",
        "この平均気圧の例では，遅れ1日の周期を示している．「前日の気圧が高ければ（低ければ）翌日の気圧は高い（低い）ことが多い」であり，あまり面白くない．\n",
        "\n",
        "問：平均気圧以外の気象データではどうなるだろうか．"
      ],
      "metadata": {
        "id": "fZbdL5D0azQ1"
      }
    },
    {
      "cell_type": "code",
      "source": [
        "plt.plot(Matsu['平均気圧'], Matsu['平均気圧']);"
      ],
      "metadata": {
        "id": "7F0tk5S3bBT7"
      },
      "execution_count": null,
      "outputs": []
    }
  ]
}