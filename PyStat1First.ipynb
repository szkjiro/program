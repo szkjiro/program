{
  "nbformat": 4,
  "nbformat_minor": 0,
  "metadata": {
    "colab": {
      "provenance": [],
      "include_colab_link": true
    },
    "kernelspec": {
      "name": "python3",
      "display_name": "Python 3"
    },
    "language_info": {
      "name": "python"
    }
  },
  "cells": [
    {
      "cell_type": "markdown",
      "metadata": {
        "id": "view-in-github",
        "colab_type": "text"
      },
      "source": [
        "<a href=\"https://colab.research.google.com/github/szkjiro/program/blob/main/PyStat1First.ipynb\" target=\"_parent\"><img src=\"https://colab.research.google.com/assets/colab-badge.svg\" alt=\"Open In Colab\"/></a>"
      ]
    },
    {
      "cell_type": "markdown",
      "source": [],
      "metadata": {
        "id": "5p6GmjJlFV7d"
      }
    },
    {
      "cell_type": "markdown",
      "source": [
        "# 統計処理を行う\n",
        "\n",
        "統計学の第1回として，プログラムの実行を通じて基本概念のいくつかを確かめます．\n",
        "データは何個かの数値からなります．\n",
        "この何個にあたる量を標本の大きさ（または標本のサイズ）といいます．\n",
        "似た語感のことばですが，標本数というと他の概念を表します．\n",
        "こうした数値の集まりを数学では数ベクトル（数を省略して単にベクトルということが多い）といいます．\n",
        "\n",
        "ベクトルを扱うのに，通常のプログラミング言語では配列というデータ構造を用います．\n",
        "最初の実行例はデータフレームと呼ばれる時計処理向けのベクトルの扱いを利用し，ベクトル同士の演算ができることを確認しています．\n",
        "\n"
      ],
      "metadata": {
        "id": "e7LXomv2FaTQ"
      }
    },
    {
      "cell_type": "code",
      "execution_count": null,
      "metadata": {
        "id": "E2bxt0PdFVBY"
      },
      "outputs": [],
      "source": [
        "# この例ではｘとｙという２つの大きさ（サイズ）の異なるベクトルを定義し，いくつかの演算を行う．\n",
        "import pandas as pd\n",
        "# 基本的なデータ処理を行うためのライブラリ\n",
        "# pdという名前の利用は習慣\n",
        "# 統計処理が簡単になるようにサイズの同じベクトルを束ねるデータフレームを利用する\n",
        "# pd.DataFrameはその特別な形を利用するということ\n",
        "first = pd.DataFrame({\n",
        "    # import文で定義した名前pdで参照している\n",
        "    # コロン；の左の名前（クォートで囲むこと）に対して以降の値を与えている\n",
        "    'x':  [2,2,0,3,5],\n",
        "    'y':  [3,1,4,1,6]})\n",
        "\n",
        "# インデントは上の値の定義（初期化ともいう）まで\n",
        "# 以下では変数名を通じて，変数の値や演算結果を確認している\n",
        "# 第1列は単に０番目から（サイズ−１）番目の値という意味でデータではない\n",
        "# 数ベクトルデータは成分ごとに計算していることに注意\n",
        "# 0で割ればエラー表示をする，ｘをｙで割らせてみよう\n",
        "print(first.x)\n",
        "print(first.y)\n",
        "print(first.y+first.x)\n",
        "print(first.y-first.x)\n",
        "print(first.y*first.x)\n",
        "print(first.y/first.x)\n",
        "print(10*first.x)\n",
        "print(10+first.x)\n"
      ]
    },
    {
      "cell_type": "markdown",
      "source": [
        "次の例では平均値および分散を計算します．\n",
        "$x_1,\\dots,x_n$ の平均値 $\\bar{x}$ は\n",
        "$$\n",
        "\\bar{x} = \\frac{1}{n} \\sum_{k=1}^n x_k\n",
        "$$\n",
        "であり，（標本）分散 $s_{xx}$ は\n",
        "$$\n",
        "s_{xx} = \\frac{1}{n} \\sum_{k=1}^n (x_k-\\bar{x})^2\n",
        "$$\n",
        "で定義されます．\n",
        "なお，統計学を用いた分析のほとんどでは不偏分散\n",
        "$$\n",
        "s_{xx} '= \\frac{1}{n-1} \\sum_{k=1}^n (x_k-\\bar{x})^2\n",
        "$$\n",
        "を用います．\n",
        "なぜそうするかの理由は，Pythonで統計処理を行えることの体験が第１である本授業では説明しません．\n",
        "\n",
        "Pythonで利用できる統計計算ライブラリにnumpyがあり，本授業ではそれを用います．\n",
        "さまざまな用途に応じて，より高度な統計計算を行うライブラリもあります．\n"
      ],
      "metadata": {
        "id": "GG43xi0sLFjI"
      }
    },
    {
      "cell_type": "code",
      "source": [
        "import numpy as np\n",
        "# meanが平均値の計算\n",
        "print(np.mean(first.x))\n",
        "print(np.mean(first.y))\n",
        "# varが分散の計算\n",
        "print(np.var(first.x))\n",
        "print(np.var(first.y))\n",
        "# 平均値はデータを加減してから計算しても，平均値にしてから加減しても同じ\n",
        "print(np.mean(first.x+first.y))\n",
        "print(np.mean(first.x-first.y))\n",
        "print(np.mean(first.x*10))\n",
        "# varが分散の計算\n",
        "print(np.var(first.x+first.y))\n",
        "print(np.var(first.x-first.y))\n",
        "print(np.var(first.x*10))"
      ],
      "metadata": {
        "id": "CpBrswglNUxI"
      },
      "execution_count": null,
      "outputs": []
    },
    {
      "cell_type": "markdown",
      "source": [
        "ここで計算した分散は上にあげた定義の標本分散と不偏分散のどちらになるでしょうか．\n",
        "Pythonにはいずれかを指定するオプション引数ddofがあります．\n",
        "ddof=1が不偏分散，０で標本分散になります．"
      ],
      "metadata": {
        "id": "XNM3OyxlOnjj"
      }
    },
    {
      "cell_type": "code",
      "source": [
        "print(np.var(first.x,ddof=1))\n",
        "print(np.var(first.x,ddof=0))\n",
        "# 両者の比がn/(n-1)であることの確認\n",
        "v1 = np.var(first.x,ddof=1)\n",
        "v2 = np.var(first.x,ddof=0)\n",
        "print(v1/v2-5/4)"
      ],
      "metadata": {
        "id": "uoLmreTrO10r"
      },
      "execution_count": null,
      "outputs": []
    },
    {
      "cell_type": "markdown",
      "source": [
        "## ５数要約および箱ヒゲ図を描く\n",
        "\n",
        "５数要約とは，最大値，中央値，最小値に加えて２つの四分位数を合わせたものです．\n",
        "この５つの外にPythonでは以下の例に示すように，平均および標準偏差stdも与えています．\n",
        "ヒストグラムも描かせました．"
      ],
      "metadata": {
        "id": "76iL6N81VRMg"
      }
    },
    {
      "cell_type": "code",
      "source": [
        "# ５数要約\n",
        "first.describe()\n",
        "# 箱ヒゲ図\n",
        "first.boxplot()\n",
        "# ヒストグラム\n",
        "first.hist()\n",
        "# ヒストグラム，階級数を３に指定\n",
        "first.hist(bins=3)"
      ],
      "metadata": {
        "id": "EVWnBEaqVhhb"
      },
      "execution_count": null,
      "outputs": []
    },
    {
      "cell_type": "markdown",
      "source": [
        "これまでは，たった５つのデータ２組だけで進めてきました．\n",
        "ここで乱数を扱うことにより，コンピュータにデータを生成させることにします．\n",
        "これにより，労せずして，大量の練習用データを用意することができます．\n",
        "多くの人工知能開発でも，乱数をうまく取り入れることが実際の応用につながっている場合が多くあります．\n",
        "\n",
        "ライブラリはすでに利用しているnumpyです．\n",
        "乱数により生成したデータを，最初の例と同様に，データフレームに与えています．\n",
        "関数の利用例を一つだけ書きました．\n",
        "他の関数や計算なども試してみましょう．\n",
        "また，乱数も，以下の例ばかりでなくいろいろとやってみましょう．\n"
      ],
      "metadata": {
        "id": "jWbUR2oTYfN8"
      }
    },
    {
      "cell_type": "code",
      "source": [
        "import pandas as pd\n",
        "import numpy as np\n",
        "\n",
        "u = np.random.randint(\n",
        "    # 整数値の乱数を作る\n",
        "    low = 1,  # 最小値\n",
        "    high = 7, # 最大値+1\n",
        "    size = 100)\n",
        "\n",
        "print(u)\n",
        "\n",
        "v = np.random.randint(\n",
        "    # 整数値の乱数を作る\n",
        "    low = 1,  # 最小値\n",
        "    high = 11, # 最大値+1\n",
        "    size = 100) # 標本の大きさ\n",
        "\n",
        "second = pd.DataFrame({\n",
        "    'x': u,\n",
        "    'y': v\n",
        "})\n",
        "\n",
        "second.x.hist()\n",
        "second.y.hist()"
      ],
      "metadata": {
        "id": "RfRT5I-Ihz-4"
      },
      "execution_count": null,
      "outputs": []
    }
  ]
}