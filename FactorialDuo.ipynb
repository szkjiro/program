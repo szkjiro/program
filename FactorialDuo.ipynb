{
  "cells": [
    {
      "cell_type": "markdown",
      "metadata": {
        "id": "view-in-github",
        "colab_type": "text"
      },
      "source": [
        "<a href=\"https://colab.research.google.com/github/szkjiro/program/blob/main/FactorialDuo.ipynb\" target=\"_parent\"><img src=\"https://colab.research.google.com/assets/colab-badge.svg\" alt=\"Open In Colab\"/></a>"
      ]
    },
    {
      "cell_type": "markdown",
      "source": [
        "[![Open In Colab](https://colab.research.google.com/assets/colab-badge.svg)](https://github.com/szkjiro/program/blob/main/FactorialDuo.ipynb)\n"
      ],
      "metadata": {
        "id": "sIuD9uZ8TuQq"
      }
    },
    {
      "cell_type": "markdown",
      "source": [
        "## 階乗計算を行う2つの方法\n",
        "\n",
        "この例では、数学の階乗計算を行うための2つの関数を作成します。1つは再帰呼び出しを使用し、もう1つは計算用パラメータの値の更新を繰り返す方法です。自然数$n$の階乗$n!$とは1から$n$までの一連の整数の積のことです。\n",
        "つまり\n",
        "\n",
        "$$n!=n(n-1)(n-2)\\cdots 3\\cdot 2\\cdot 1$$\n",
        "\n",
        "で表される値が整数nの階乗です．\n",
        "この値を計算するのに2つの考え方ができるでしょう。\n",
        "\n",
        "一つはi=1からnまでの値を順に作りながらそれらの値の積を作る方法です。\n",
        "このために、繰り返し処理を制御するfor文を使うことができます。\n",
        "\n",
        "もう一つは\n",
        "$$n!=n\\times (n-1)!$$\n",
        "という関係を使うものです。\n",
        "この式は計算の関係の中に関数が含まれることに特徴があります。\n",
        "このような関数の使い方を再帰的とか再帰呼び出しとかいいます。\n",
        "\n",
        "**1. 再帰呼び出しを使用する関数**"
      ],
      "metadata": {
        "id": "pKyjY4dlPQSL"
      }
    },
    {
      "cell_type": "code",
      "source": [
        "def factorial_recursive(n):\n",
        "  if n == 0:\n",
        "    return 1\n",
        "  else:\n",
        "    return n * factorial_recursive(n - 1)"
      ],
      "outputs": [],
      "execution_count": null,
      "metadata": {
        "id": "-aLBzW0SPQSN"
      }
    },
    {
      "cell_type": "markdown",
      "source": [
        "**説明:**\n",
        "\n",
        "* 出発点となる場合 (n == 0) には、1を返します。\n",
        "* 関数を再帰呼び出しする場合 (n > 0) には、nと計算されているはずの値（再帰的に計算されたn-1の階乗の値）を掛けます。\n",
        "\n",
        "**2. 繰り返し処理で計算する関数**"
      ],
      "metadata": {
        "id": "l_hTftGWPQSO"
      }
    },
    {
      "cell_type": "code",
      "source": [
        "def factorial_iterative(n):\n",
        "  if n == 0:\n",
        "    return 1\n",
        "  else:\n",
        "    result = 1\n",
        "    for i in range(1, n + 1):\n",
        "      result *= i\n",
        "    return result"
      ],
      "outputs": [],
      "execution_count": null,
      "metadata": {
        "id": "F9CIoaG6PQSO"
      }
    },
    {
      "cell_type": "markdown",
      "source": [
        "**説明:**\n",
        "\n",
        "* n == 0の場合には繰り返しをうまく定義できないので、1を返します。数学的には$0!=1$と定義する、の言い方をします。\n",
        "* 繰り返し（ループ）を使用して、1からnまでのすべての数を掛け合わせます。\n",
        "\n",
        "**実行例**\n",
        "上の2つの関数をn=10の場合に確かめてみます。"
      ],
      "metadata": {
        "id": "JClhCeEMPQSP"
      }
    },
    {
      "cell_type": "code",
      "source": [
        "n = 10\n",
        "\n",
        "# 再帰呼び出し\n",
        "recursive_result = factorial_recursive(n)\n",
        "print(f\"再帰呼び出し: {recursive_result}\")\n",
        "\n",
        "# 繰り返し処理\n",
        "iterative_result = factorial_iterative(n)\n",
        "print(f\"イテレーション: {iterative_result}\")"
      ],
      "outputs": [],
      "execution_count": null,
      "metadata": {
        "id": "fBp0FIbgPQSP"
      }
    },
    {
      "cell_type": "markdown",
      "source": [
        "上の2つの関数をn=10の場合に確かめましょう。"
      ],
      "metadata": {
        "id": "a1Xyp4kWQpQT"
      }
    },
    {
      "cell_type": "markdown",
      "source": [
        "**出力:**\n",
        "\n",
        "```\n",
        "再帰呼び出し: 3628800\n",
        "イテレーション: 3628800\n",
        "```\n",
        "\n",
        "**実行速度の違い**\n",
        "\n",
        "* 小さなnの場合、再帰呼び出しと繰り返し処理の速度差はほとんどありません。\n",
        "* nが大きくなるにつれて、再帰呼び出しの速度は指数関数的に遅くなります。これは、再帰呼び出しごとに新しいスタックフレーム（プログラミング入門者は気にしないでください）を作成する必要があるためです。\n",
        "* 繰り返し処理は常に同じ速度で実行されます。これは、ループの各反復で同じ操作だけが実行されるためです。\n",
        "\n",
        "**最悪のケース**\n",
        "\n",
        "* 再帰呼び出しの最悪のケースは、入力値が大きい場合です。これは、再帰呼び出しの深さが大きくなり、スタックオーバーフロー（スタックと呼ばれるプログラムのための領域を使い尽くしたという意味のエラーメッセージ）が発生する可能性があるためです。\n",
        "* 繰り返し処理には最悪のケースはありません。常に同じ速度で実行されます。\n",
        "\n",
        "**最悪のケースを避ける工夫**\n",
        "\n",
        "* 再帰呼び出しの最悪のケースを避けるには、メモ化 (memoization) などの手法を使用できます。メモ化を使用すると、再帰的に計算された値を保存し、同じ値を再計算する必要をなくします。メモ化とは途中計算の結果をうまく保存しておく方法です。プログラミング入門者は気にしないでください。以下のコードでは、そのメモ化を実行するように修正したものです。"
      ],
      "metadata": {
        "id": "Sb7s2WvtPQSP"
      }
    },
    {
      "cell_type": "code",
      "source": [
        "def factorial_recursive_memoized(n, memo={}):\n",
        "  if n in memo:\n",
        "    return memo[n]\n",
        "  elif n == 0:\n",
        "    result = 1\n",
        "  else:\n",
        "    result = n * factorial_recursive_memoized(n - 1, memo)\n",
        "  memo[n] = result\n",
        "  return result"
      ],
      "outputs": [],
      "execution_count": null,
      "metadata": {
        "id": "lDp5vfCuPQSP"
      }
    },
    {
      "cell_type": "markdown",
      "source": [
        "**メモ化を使用すると、再帰呼び出しの速度を大幅に向上させることができます。**\n",
        "\n",
        "**まとめ**\n",
        "\n",
        "* 再帰呼び出しは、簡潔でわかりやすいコードを作成できますが、実行速度が遅くなる場合があります。\n",
        "* 繰り返し処理は、再帰呼び出しよりも実行速度が速くなりますが、コードが冗長になる場合があります。\n",
        "* メモ化を使用すると、再帰呼び出しの速度を大幅に向上させることができます。"
      ],
      "metadata": {
        "id": "EoO9NjkvPQSP"
      }
    }
  ],
  "metadata": {
    "colab": {
      "provenance": [],
      "include_colab_link": true
    },
    "kernelspec": {
      "display_name": "Python 3",
      "name": "python3"
    }
  },
  "nbformat": 4,
  "nbformat_minor": 0
}