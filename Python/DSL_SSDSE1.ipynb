{
  "nbformat": 4,
  "nbformat_minor": 5,
  "metadata": {
    "kernelspec": {
      "display_name": "R",
      "language": "R",
      "name": "ir"
    },
    "language_info": {
      "codemirror_mode": "r",
      "file_extension": ".r",
      "mimetype": "text/x-r-source",
      "name": "R",
      "pygments_lexer": "r",
      "version": "3.6.1"
    },
    "colab": {
      "provenance": []
    }
  },
  "cells": [
    {
      "cell_type": "markdown",
      "id": "0a405b70",
      "metadata": {
        "id": "0a405b70"
      },
      "source": [
        "## SSDSEデータの利用\n",
        "\n",
        "SSDSEは教育用データセットとして都道府県別，市町村別などのオープンデータが用意されています．[SSDSEのサイト](https://www.nstac.go.jp/use/literacy/ssdse/)で詳しい説明が得られます．\n",
        "\n",
        "ここではそこから2019年分のデータを抜き出したファイルを用意しておきました．\n",
        "ファイル名は課題ファイルに提供したものと以下の利用例とで同じです．\n",
        "\n"
      ]
    },
    {
      "cell_type": "code",
      "source": [
        "# データファイルの読み込み，事前に次のファイルをアップロードする，\n",
        "# あるいは，あなたのGoogle Driveに準備してください\n",
        "# Google Driveの場合，指定したフォルダ名までファイル名に含めることを忘れずに\n",
        "# Google Driveに置く場合については例題の説明を確認しておいてください\n",
        "Data <- read.csv(\"SSDSE-B-2019.csv\")\n",
        "# はじめの6行を表示させてみます\n",
        "head(Data)\n",
        "# SSDSEデータには110列のデータ項目があります\n",
        "# 一番上の行が列名です\n",
        "# 列名だけ得るには次の関数を使います\n",
        "colnames(Data)\n",
        "# たくさんすぎるでしょうか\n",
        "# 10列から20列だけ表示するには次のようにします\n",
        "colnames(Data[10:20])\n",
        "# あなたに興味のあるデータ列を見つけてみてください\n",
        "# かっこの種類（角かっこ）と列の数字でコロン：を挟みます\n",
        "# いくつかサンプルをコメント行として用意しておきました\n",
        "# 先頭のコメント指定文字を消去して実行してみてください\n",
        "# 逆に出力させたくないものはコメント行にしましょう\n",
        "# colnames(Data[100:110])\n",
        "# colnames(Data[100:120]) #この例は110列までしかないのでエラーになります\n",
        "#\n",
        "# 上の10列から20列が気に入ったので\n",
        "# それを別の変数名に変更し利用することにします\n",
        "Data1 <- Data[10:20]\n",
        "boxplot(Data1)"
      ],
      "metadata": {
        "colab": {
          "base_uri": "https://localhost:8080/",
          "height": 1000
        },
        "id": "dJO5W3QsCL2y",
        "outputId": "f6510da1-dc58-4aa7-c379-8a0698bd238f"
      },
      "id": "dJO5W3QsCL2y",
      "execution_count": 11,
      "outputs": [
        {
          "output_type": "display_data",
          "data": {
            "text/html": [
              "<table class=\"dataframe\">\n",
              "<caption>A data.frame: 6 × 111</caption>\n",
              "<thead>\n",
              "\t<tr><th></th><th scope=col>X</th><th scope=col>Year</th><th scope=col>Prefs</th><th scope=col>PrefsJP</th><th scope=col>総人口</th><th scope=col>総人口.男.</th><th scope=col>総人口.女.</th><th scope=col>日本人人口</th><th scope=col>日本人人口.男.</th><th scope=col>日本人人口.女.</th><th scope=col>⋯</th><th scope=col>食料費.二人以上の世帯.</th><th scope=col>住居費.二人以上の世帯.</th><th scope=col>光熱.水道費.二人以上の世帯.</th><th scope=col>家具.家事用品費.二人以上の世帯.</th><th scope=col>被服及び履物費.二人以上の世帯.</th><th scope=col>保健医療費.二人以上の世帯.</th><th scope=col>交通.通信費.二人以上の世帯.</th><th scope=col>教育費.二人以上の世帯.</th><th scope=col>教養娯楽費.二人以上の世帯.</th><th scope=col>その他の消費支出.二人以上の世帯.</th></tr>\n",
              "\t<tr><th></th><th scope=col>&lt;int&gt;</th><th scope=col>&lt;int&gt;</th><th scope=col>&lt;chr&gt;</th><th scope=col>&lt;chr&gt;</th><th scope=col>&lt;int&gt;</th><th scope=col>&lt;int&gt;</th><th scope=col>&lt;int&gt;</th><th scope=col>&lt;int&gt;</th><th scope=col>&lt;int&gt;</th><th scope=col>&lt;int&gt;</th><th scope=col>⋯</th><th scope=col>&lt;int&gt;</th><th scope=col>&lt;int&gt;</th><th scope=col>&lt;int&gt;</th><th scope=col>&lt;int&gt;</th><th scope=col>&lt;int&gt;</th><th scope=col>&lt;int&gt;</th><th scope=col>&lt;int&gt;</th><th scope=col>&lt;int&gt;</th><th scope=col>&lt;int&gt;</th><th scope=col>&lt;int&gt;</th></tr>\n",
              "</thead>\n",
              "<tbody>\n",
              "\t<tr><th scope=row>1</th><td> 1</td><td>2019</td><td>R01000</td><td>北海道</td><td>5250000</td><td>2472000</td><td>2778000</td><td>5211000</td><td>2455000</td><td>2756000</td><td>⋯</td><td>72912</td><td>20862</td><td>26332</td><td> 9895</td><td>10466</td><td>16466</td><td>42277</td><td> 8848</td><td>29335</td><td>57289</td></tr>\n",
              "\t<tr><th scope=row>2</th><td>13</td><td>2019</td><td>R02000</td><td>青森県</td><td>1246000</td><td> 585000</td><td> 661000</td><td>1240000</td><td> 583000</td><td> 657000</td><td>⋯</td><td>66593</td><td>14278</td><td>28089</td><td>10404</td><td> 7237</td><td>10276</td><td>37287</td><td> 5095</td><td>20596</td><td>43755</td></tr>\n",
              "\t<tr><th scope=row>3</th><td>25</td><td>2019</td><td>R03000</td><td>岩手県</td><td>1227000</td><td> 592000</td><td> 635000</td><td>1219000</td><td> 589000</td><td> 631000</td><td>⋯</td><td>75776</td><td>14899</td><td>27385</td><td>10945</td><td>10431</td><td>13890</td><td>44216</td><td>10722</td><td>27779</td><td>59354</td></tr>\n",
              "\t<tr><th scope=row>4</th><td>37</td><td>2019</td><td>R04000</td><td>宮城県</td><td>2306000</td><td>1127000</td><td>1179000</td><td>2283000</td><td>1116000</td><td>1167000</td><td>⋯</td><td>77920</td><td>17579</td><td>23460</td><td>10631</td><td>11222</td><td>12791</td><td>33403</td><td>10218</td><td>27726</td><td>51256</td></tr>\n",
              "\t<tr><th scope=row>5</th><td>49</td><td>2019</td><td>R05000</td><td>秋田県</td><td> 966000</td><td> 454000</td><td> 512000</td><td> 963000</td><td> 453000</td><td> 509000</td><td>⋯</td><td>69080</td><td>11716</td><td>26180</td><td> 8617</td><td> 8500</td><td>11282</td><td>40526</td><td> 9193</td><td>23380</td><td>53105</td></tr>\n",
              "\t<tr><th scope=row>6</th><td>61</td><td>2019</td><td>R06000</td><td>山形県</td><td>1078000</td><td> 520000</td><td> 558000</td><td>1070000</td><td> 517000</td><td> 552000</td><td>⋯</td><td>77343</td><td>16543</td><td>30221</td><td>11306</td><td> 9940</td><td>12455</td><td>53295</td><td>12377</td><td>25959</td><td>56830</td></tr>\n",
              "</tbody>\n",
              "</table>\n"
            ],
            "text/markdown": "\nA data.frame: 6 × 111\n\n| <!--/--> | X &lt;int&gt; | Year &lt;int&gt; | Prefs &lt;chr&gt; | PrefsJP &lt;chr&gt; | 総人口 &lt;int&gt; | 総人口.男. &lt;int&gt; | 総人口.女. &lt;int&gt; | 日本人人口 &lt;int&gt; | 日本人人口.男. &lt;int&gt; | 日本人人口.女. &lt;int&gt; | ⋯ ⋯ | 食料費.二人以上の世帯. &lt;int&gt; | 住居費.二人以上の世帯. &lt;int&gt; | 光熱.水道費.二人以上の世帯. &lt;int&gt; | 家具.家事用品費.二人以上の世帯. &lt;int&gt; | 被服及び履物費.二人以上の世帯. &lt;int&gt; | 保健医療費.二人以上の世帯. &lt;int&gt; | 交通.通信費.二人以上の世帯. &lt;int&gt; | 教育費.二人以上の世帯. &lt;int&gt; | 教養娯楽費.二人以上の世帯. &lt;int&gt; | その他の消費支出.二人以上の世帯. &lt;int&gt; |\n|---|---|---|---|---|---|---|---|---|---|---|---|---|---|---|---|---|---|---|---|---|---|\n| 1 |  1 | 2019 | R01000 | 北海道 | 5250000 | 2472000 | 2778000 | 5211000 | 2455000 | 2756000 | ⋯ | 72912 | 20862 | 26332 |  9895 | 10466 | 16466 | 42277 |  8848 | 29335 | 57289 |\n| 2 | 13 | 2019 | R02000 | 青森県 | 1246000 |  585000 |  661000 | 1240000 |  583000 |  657000 | ⋯ | 66593 | 14278 | 28089 | 10404 |  7237 | 10276 | 37287 |  5095 | 20596 | 43755 |\n| 3 | 25 | 2019 | R03000 | 岩手県 | 1227000 |  592000 |  635000 | 1219000 |  589000 |  631000 | ⋯ | 75776 | 14899 | 27385 | 10945 | 10431 | 13890 | 44216 | 10722 | 27779 | 59354 |\n| 4 | 37 | 2019 | R04000 | 宮城県 | 2306000 | 1127000 | 1179000 | 2283000 | 1116000 | 1167000 | ⋯ | 77920 | 17579 | 23460 | 10631 | 11222 | 12791 | 33403 | 10218 | 27726 | 51256 |\n| 5 | 49 | 2019 | R05000 | 秋田県 |  966000 |  454000 |  512000 |  963000 |  453000 |  509000 | ⋯ | 69080 | 11716 | 26180 |  8617 |  8500 | 11282 | 40526 |  9193 | 23380 | 53105 |\n| 6 | 61 | 2019 | R06000 | 山形県 | 1078000 |  520000 |  558000 | 1070000 |  517000 |  552000 | ⋯ | 77343 | 16543 | 30221 | 11306 |  9940 | 12455 | 53295 | 12377 | 25959 | 56830 |\n\n",
            "text/latex": "A data.frame: 6 × 111\n\\begin{tabular}{r|lllllllllllllllllllll}\n  & X & Year & Prefs & PrefsJP & 総人口 & 総人口.男. & 総人口.女. & 日本人人口 & 日本人人口.男. & 日本人人口.女. & ⋯ & 食料費.二人以上の世帯. & 住居費.二人以上の世帯. & 光熱.水道費.二人以上の世帯. & 家具.家事用品費.二人以上の世帯. & 被服及び履物費.二人以上の世帯. & 保健医療費.二人以上の世帯. & 交通.通信費.二人以上の世帯. & 教育費.二人以上の世帯. & 教養娯楽費.二人以上の世帯. & その他の消費支出.二人以上の世帯.\\\\\n  & <int> & <int> & <chr> & <chr> & <int> & <int> & <int> & <int> & <int> & <int> & ⋯ & <int> & <int> & <int> & <int> & <int> & <int> & <int> & <int> & <int> & <int>\\\\\n\\hline\n\t1 &  1 & 2019 & R01000 & 北海道 & 5250000 & 2472000 & 2778000 & 5211000 & 2455000 & 2756000 & ⋯ & 72912 & 20862 & 26332 &  9895 & 10466 & 16466 & 42277 &  8848 & 29335 & 57289\\\\\n\t2 & 13 & 2019 & R02000 & 青森県 & 1246000 &  585000 &  661000 & 1240000 &  583000 &  657000 & ⋯ & 66593 & 14278 & 28089 & 10404 &  7237 & 10276 & 37287 &  5095 & 20596 & 43755\\\\\n\t3 & 25 & 2019 & R03000 & 岩手県 & 1227000 &  592000 &  635000 & 1219000 &  589000 &  631000 & ⋯ & 75776 & 14899 & 27385 & 10945 & 10431 & 13890 & 44216 & 10722 & 27779 & 59354\\\\\n\t4 & 37 & 2019 & R04000 & 宮城県 & 2306000 & 1127000 & 1179000 & 2283000 & 1116000 & 1167000 & ⋯ & 77920 & 17579 & 23460 & 10631 & 11222 & 12791 & 33403 & 10218 & 27726 & 51256\\\\\n\t5 & 49 & 2019 & R05000 & 秋田県 &  966000 &  454000 &  512000 &  963000 &  453000 &  509000 & ⋯ & 69080 & 11716 & 26180 &  8617 &  8500 & 11282 & 40526 &  9193 & 23380 & 53105\\\\\n\t6 & 61 & 2019 & R06000 & 山形県 & 1078000 &  520000 &  558000 & 1070000 &  517000 &  552000 & ⋯ & 77343 & 16543 & 30221 & 11306 &  9940 & 12455 & 53295 & 12377 & 25959 & 56830\\\\\n\\end{tabular}\n",
            "text/plain": [
              "  X  Year Prefs  PrefsJP 総人口  総人口.男. 総人口.女. 日本人人口\n",
              "1  1 2019 R01000 北海道  5250000 2472000    2778000    5211000   \n",
              "2 13 2019 R02000 青森県  1246000  585000     661000    1240000   \n",
              "3 25 2019 R03000 岩手県  1227000  592000     635000    1219000   \n",
              "4 37 2019 R04000 宮城県  2306000 1127000    1179000    2283000   \n",
              "5 49 2019 R05000 秋田県   966000  454000     512000     963000   \n",
              "6 61 2019 R06000 山形県  1078000  520000     558000    1070000   \n",
              "  日本人人口.男. 日本人人口.女. ⋯ 食料費.二人以上の世帯. 住居費.二人以上の世帯.\n",
              "1 2455000        2756000        ⋯ 72912                  20862                 \n",
              "2  583000         657000        ⋯ 66593                  14278                 \n",
              "3  589000         631000        ⋯ 75776                  14899                 \n",
              "4 1116000        1167000        ⋯ 77920                  17579                 \n",
              "5  453000         509000        ⋯ 69080                  11716                 \n",
              "6  517000         552000        ⋯ 77343                  16543                 \n",
              "  光熱.水道費.二人以上の世帯. 家具.家事用品費.二人以上の世帯.\n",
              "1 26332                        9895                          \n",
              "2 28089                       10404                          \n",
              "3 27385                       10945                          \n",
              "4 23460                       10631                          \n",
              "5 26180                        8617                          \n",
              "6 30221                       11306                          \n",
              "  被服及び履物費.二人以上の世帯. 保健医療費.二人以上の世帯.\n",
              "1 10466                          16466                     \n",
              "2  7237                          10276                     \n",
              "3 10431                          13890                     \n",
              "4 11222                          12791                     \n",
              "5  8500                          11282                     \n",
              "6  9940                          12455                     \n",
              "  交通.通信費.二人以上の世帯. 教育費.二人以上の世帯. 教養娯楽費.二人以上の世帯.\n",
              "1 42277                        8848                  29335                     \n",
              "2 37287                        5095                  20596                     \n",
              "3 44216                       10722                  27779                     \n",
              "4 33403                       10218                  27726                     \n",
              "5 40526                        9193                  23380                     \n",
              "6 53295                       12377                  25959                     \n",
              "  その他の消費支出.二人以上の世帯.\n",
              "1 57289                           \n",
              "2 43755                           \n",
              "3 59354                           \n",
              "4 51256                           \n",
              "5 53105                           \n",
              "6 56830                           "
            ]
          },
          "metadata": {}
        },
        {
          "output_type": "display_data",
          "data": {
            "text/html": [
              "<style>\n",
              ".list-inline {list-style: none; margin:0; padding: 0}\n",
              ".list-inline>li {display: inline-block}\n",
              ".list-inline>li:not(:last-child)::after {content: \"\\00b7\"; padding: 0 .5ex}\n",
              "</style>\n",
              "<ol class=list-inline><li>'X'</li><li>'Year'</li><li>'Prefs'</li><li>'PrefsJP'</li><li>'総人口'</li><li>'総人口.男.'</li><li>'総人口.女.'</li><li>'日本人人口'</li><li>'日本人人口.男.'</li><li>'日本人人口.女.'</li><li>'X15歳未満人口'</li><li>'X15歳未満人口.男.'</li><li>'X15歳未満人口.女.'</li><li>'X15.64歳人口'</li><li>'X15.64歳人口.男.'</li><li>'X15.64歳人口.女.'</li><li>'X65歳以上人口'</li><li>'X65歳以上人口.男.'</li><li>'X65歳以上人口.女.'</li><li>'出生数'</li><li>'出生数.男.'</li><li>'出生数.女.'</li><li>'合計特殊出生率'</li><li>'死亡数'</li><li>'死亡数.男.'</li><li>'死亡数.女.'</li><li>'転入者数.日本人移動者.'</li><li>'転入者数.日本人移動者..男.'</li><li>'転入者数.日本人移動者..女.'</li><li>'転出者数.日本人移動者.'</li><li>'転出者数.日本人移動者..男.'</li><li>'転出者数.日本人移動者..女.'</li><li>'婚姻件数'</li><li>'離婚件数'</li><li>'年平均気温'</li><li>'最高気温.日最高気温の月平均の最高値.'</li><li>'最低気温.日最低気温の月平均の最低値.'</li><li>'降水日数.年間.'</li><li>'降水量.年間.'</li><li>'着工建築物数'</li><li>'着工建築物床面積'</li><li>'旅館営業施設数.ホテルを含む.'</li><li>'旅館営業施設客室数.ホテルを含む.'</li><li>'標準価格.平均価格..住宅地.'</li><li>'標準価格.平均価格..商業地.'</li><li>'幼稚園数'</li><li>'幼稚園教員数'</li><li>'幼稚園在園者数'</li><li>'小学校数'</li><li>'小学校教員数'</li><li>'小学校児童数'</li><li>'中学校数'</li><li>'中学校教員数'</li><li>'中学校生徒数'</li><li>'中学校卒業者数'</li><li>'中学校卒業者のうち進学者数'</li><li>'高等学校数'</li><li>'高等学校教員数'</li><li>'高等学校生徒数'</li><li>'高等学校卒業者数'</li><li>'高等学校卒業者のうち進学者数'</li><li>'短期大学数'</li><li>'大学数'</li><li>'短期大学教員数'</li><li>'大学教員数'</li><li>'短期大学学生数'</li><li>'大学学生数'</li><li>'短期大学卒業者数'</li><li>'短期大学卒業者のうち進学者数'</li><li>'大学卒業者数'</li><li>'大学卒業者のうち進学者数'</li><li>'専修学校数'</li><li>'各種学校数'</li><li>'専修学校生徒数'</li><li>'各種学校生徒数'</li><li>'新規求職申込件数.一般.'</li><li>'月間有効求職者数.一般.'</li><li>'月間有効求人数.一般.'</li><li>'充足数.一般.'</li><li>'就職件数.一般.'</li><li>'一般旅券発行件数'</li><li>'着工新設住宅戸数'</li><li>'着工新設持家数'</li><li>'着工新設貸家数'</li><li>'着工新設分譲住宅数'</li><li>'着工新設住宅床面積'</li><li>'着工新設持家床面積'</li><li>'着工新設分譲住宅床面積'</li><li>'着工新設貸家床面積'</li><li>'ごみ総排出量.総量.'</li><li>'X1人1日当たりの排出量'</li><li>'ごみのリサイクル率'</li><li>'一般病院数'</li><li>'一般診療所数'</li><li>'歯科診療所数'</li><li>'保育所等数'</li><li>'保育所等定員数'</li><li>'保育所等利用待機児童数'</li><li>'保育所等在所児数'</li><li>'保育所等保育士数'</li><li>'消費支出.二人以上の世帯.'</li><li>'食料費.二人以上の世帯.'</li><li>'住居費.二人以上の世帯.'</li><li>'光熱.水道費.二人以上の世帯.'</li><li>'家具.家事用品費.二人以上の世帯.'</li><li>'被服及び履物費.二人以上の世帯.'</li><li>'保健医療費.二人以上の世帯.'</li><li>'交通.通信費.二人以上の世帯.'</li><li>'教育費.二人以上の世帯.'</li><li>'教養娯楽費.二人以上の世帯.'</li><li>'その他の消費支出.二人以上の世帯.'</li></ol>\n"
            ],
            "text/markdown": "1. 'X'\n2. 'Year'\n3. 'Prefs'\n4. 'PrefsJP'\n5. '総人口'\n6. '総人口.男.'\n7. '総人口.女.'\n8. '日本人人口'\n9. '日本人人口.男.'\n10. '日本人人口.女.'\n11. 'X15歳未満人口'\n12. 'X15歳未満人口.男.'\n13. 'X15歳未満人口.女.'\n14. 'X15.64歳人口'\n15. 'X15.64歳人口.男.'\n16. 'X15.64歳人口.女.'\n17. 'X65歳以上人口'\n18. 'X65歳以上人口.男.'\n19. 'X65歳以上人口.女.'\n20. '出生数'\n21. '出生数.男.'\n22. '出生数.女.'\n23. '合計特殊出生率'\n24. '死亡数'\n25. '死亡数.男.'\n26. '死亡数.女.'\n27. '転入者数.日本人移動者.'\n28. '転入者数.日本人移動者..男.'\n29. '転入者数.日本人移動者..女.'\n30. '転出者数.日本人移動者.'\n31. '転出者数.日本人移動者..男.'\n32. '転出者数.日本人移動者..女.'\n33. '婚姻件数'\n34. '離婚件数'\n35. '年平均気温'\n36. '最高気温.日最高気温の月平均の最高値.'\n37. '最低気温.日最低気温の月平均の最低値.'\n38. '降水日数.年間.'\n39. '降水量.年間.'\n40. '着工建築物数'\n41. '着工建築物床面積'\n42. '旅館営業施設数.ホテルを含む.'\n43. '旅館営業施設客室数.ホテルを含む.'\n44. '標準価格.平均価格..住宅地.'\n45. '標準価格.平均価格..商業地.'\n46. '幼稚園数'\n47. '幼稚園教員数'\n48. '幼稚園在園者数'\n49. '小学校数'\n50. '小学校教員数'\n51. '小学校児童数'\n52. '中学校数'\n53. '中学校教員数'\n54. '中学校生徒数'\n55. '中学校卒業者数'\n56. '中学校卒業者のうち進学者数'\n57. '高等学校数'\n58. '高等学校教員数'\n59. '高等学校生徒数'\n60. '高等学校卒業者数'\n61. '高等学校卒業者のうち進学者数'\n62. '短期大学数'\n63. '大学数'\n64. '短期大学教員数'\n65. '大学教員数'\n66. '短期大学学生数'\n67. '大学学生数'\n68. '短期大学卒業者数'\n69. '短期大学卒業者のうち進学者数'\n70. '大学卒業者数'\n71. '大学卒業者のうち進学者数'\n72. '専修学校数'\n73. '各種学校数'\n74. '専修学校生徒数'\n75. '各種学校生徒数'\n76. '新規求職申込件数.一般.'\n77. '月間有効求職者数.一般.'\n78. '月間有効求人数.一般.'\n79. '充足数.一般.'\n80. '就職件数.一般.'\n81. '一般旅券発行件数'\n82. '着工新設住宅戸数'\n83. '着工新設持家数'\n84. '着工新設貸家数'\n85. '着工新設分譲住宅数'\n86. '着工新設住宅床面積'\n87. '着工新設持家床面積'\n88. '着工新設分譲住宅床面積'\n89. '着工新設貸家床面積'\n90. 'ごみ総排出量.総量.'\n91. 'X1人1日当たりの排出量'\n92. 'ごみのリサイクル率'\n93. '一般病院数'\n94. '一般診療所数'\n95. '歯科診療所数'\n96. '保育所等数'\n97. '保育所等定員数'\n98. '保育所等利用待機児童数'\n99. '保育所等在所児数'\n100. '保育所等保育士数'\n101. '消費支出.二人以上の世帯.'\n102. '食料費.二人以上の世帯.'\n103. '住居費.二人以上の世帯.'\n104. '光熱.水道費.二人以上の世帯.'\n105. '家具.家事用品費.二人以上の世帯.'\n106. '被服及び履物費.二人以上の世帯.'\n107. '保健医療費.二人以上の世帯.'\n108. '交通.通信費.二人以上の世帯.'\n109. '教育費.二人以上の世帯.'\n110. '教養娯楽費.二人以上の世帯.'\n111. 'その他の消費支出.二人以上の世帯.'\n\n\n",
            "text/latex": "\\begin{enumerate*}\n\\item 'X'\n\\item 'Year'\n\\item 'Prefs'\n\\item 'PrefsJP'\n\\item '総人口'\n\\item '総人口.男.'\n\\item '総人口.女.'\n\\item '日本人人口'\n\\item '日本人人口.男.'\n\\item '日本人人口.女.'\n\\item 'X15歳未満人口'\n\\item 'X15歳未満人口.男.'\n\\item 'X15歳未満人口.女.'\n\\item 'X15.64歳人口'\n\\item 'X15.64歳人口.男.'\n\\item 'X15.64歳人口.女.'\n\\item 'X65歳以上人口'\n\\item 'X65歳以上人口.男.'\n\\item 'X65歳以上人口.女.'\n\\item '出生数'\n\\item '出生数.男.'\n\\item '出生数.女.'\n\\item '合計特殊出生率'\n\\item '死亡数'\n\\item '死亡数.男.'\n\\item '死亡数.女.'\n\\item '転入者数.日本人移動者.'\n\\item '転入者数.日本人移動者..男.'\n\\item '転入者数.日本人移動者..女.'\n\\item '転出者数.日本人移動者.'\n\\item '転出者数.日本人移動者..男.'\n\\item '転出者数.日本人移動者..女.'\n\\item '婚姻件数'\n\\item '離婚件数'\n\\item '年平均気温'\n\\item '最高気温.日最高気温の月平均の最高値.'\n\\item '最低気温.日最低気温の月平均の最低値.'\n\\item '降水日数.年間.'\n\\item '降水量.年間.'\n\\item '着工建築物数'\n\\item '着工建築物床面積'\n\\item '旅館営業施設数.ホテルを含む.'\n\\item '旅館営業施設客室数.ホテルを含む.'\n\\item '標準価格.平均価格..住宅地.'\n\\item '標準価格.平均価格..商業地.'\n\\item '幼稚園数'\n\\item '幼稚園教員数'\n\\item '幼稚園在園者数'\n\\item '小学校数'\n\\item '小学校教員数'\n\\item '小学校児童数'\n\\item '中学校数'\n\\item '中学校教員数'\n\\item '中学校生徒数'\n\\item '中学校卒業者数'\n\\item '中学校卒業者のうち進学者数'\n\\item '高等学校数'\n\\item '高等学校教員数'\n\\item '高等学校生徒数'\n\\item '高等学校卒業者数'\n\\item '高等学校卒業者のうち進学者数'\n\\item '短期大学数'\n\\item '大学数'\n\\item '短期大学教員数'\n\\item '大学教員数'\n\\item '短期大学学生数'\n\\item '大学学生数'\n\\item '短期大学卒業者数'\n\\item '短期大学卒業者のうち進学者数'\n\\item '大学卒業者数'\n\\item '大学卒業者のうち進学者数'\n\\item '専修学校数'\n\\item '各種学校数'\n\\item '専修学校生徒数'\n\\item '各種学校生徒数'\n\\item '新規求職申込件数.一般.'\n\\item '月間有効求職者数.一般.'\n\\item '月間有効求人数.一般.'\n\\item '充足数.一般.'\n\\item '就職件数.一般.'\n\\item '一般旅券発行件数'\n\\item '着工新設住宅戸数'\n\\item '着工新設持家数'\n\\item '着工新設貸家数'\n\\item '着工新設分譲住宅数'\n\\item '着工新設住宅床面積'\n\\item '着工新設持家床面積'\n\\item '着工新設分譲住宅床面積'\n\\item '着工新設貸家床面積'\n\\item 'ごみ総排出量.総量.'\n\\item 'X1人1日当たりの排出量'\n\\item 'ごみのリサイクル率'\n\\item '一般病院数'\n\\item '一般診療所数'\n\\item '歯科診療所数'\n\\item '保育所等数'\n\\item '保育所等定員数'\n\\item '保育所等利用待機児童数'\n\\item '保育所等在所児数'\n\\item '保育所等保育士数'\n\\item '消費支出.二人以上の世帯.'\n\\item '食料費.二人以上の世帯.'\n\\item '住居費.二人以上の世帯.'\n\\item '光熱.水道費.二人以上の世帯.'\n\\item '家具.家事用品費.二人以上の世帯.'\n\\item '被服及び履物費.二人以上の世帯.'\n\\item '保健医療費.二人以上の世帯.'\n\\item '交通.通信費.二人以上の世帯.'\n\\item '教育費.二人以上の世帯.'\n\\item '教養娯楽費.二人以上の世帯.'\n\\item 'その他の消費支出.二人以上の世帯.'\n\\end{enumerate*}\n",
            "text/plain": [
              "  [1] \"X\"                                   \n",
              "  [2] \"Year\"                                \n",
              "  [3] \"Prefs\"                               \n",
              "  [4] \"PrefsJP\"                             \n",
              "  [5] \"総人口\"                              \n",
              "  [6] \"総人口.男.\"                          \n",
              "  [7] \"総人口.女.\"                          \n",
              "  [8] \"日本人人口\"                          \n",
              "  [9] \"日本人人口.男.\"                      \n",
              " [10] \"日本人人口.女.\"                      \n",
              " [11] \"X15歳未満人口\"                       \n",
              " [12] \"X15歳未満人口.男.\"                   \n",
              " [13] \"X15歳未満人口.女.\"                   \n",
              " [14] \"X15.64歳人口\"                        \n",
              " [15] \"X15.64歳人口.男.\"                    \n",
              " [16] \"X15.64歳人口.女.\"                    \n",
              " [17] \"X65歳以上人口\"                       \n",
              " [18] \"X65歳以上人口.男.\"                   \n",
              " [19] \"X65歳以上人口.女.\"                   \n",
              " [20] \"出生数\"                              \n",
              " [21] \"出生数.男.\"                          \n",
              " [22] \"出生数.女.\"                          \n",
              " [23] \"合計特殊出生率\"                      \n",
              " [24] \"死亡数\"                              \n",
              " [25] \"死亡数.男.\"                          \n",
              " [26] \"死亡数.女.\"                          \n",
              " [27] \"転入者数.日本人移動者.\"              \n",
              " [28] \"転入者数.日本人移動者..男.\"          \n",
              " [29] \"転入者数.日本人移動者..女.\"          \n",
              " [30] \"転出者数.日本人移動者.\"              \n",
              " [31] \"転出者数.日本人移動者..男.\"          \n",
              " [32] \"転出者数.日本人移動者..女.\"          \n",
              " [33] \"婚姻件数\"                            \n",
              " [34] \"離婚件数\"                            \n",
              " [35] \"年平均気温\"                          \n",
              " [36] \"最高気温.日最高気温の月平均の最高値.\"\n",
              " [37] \"最低気温.日最低気温の月平均の最低値.\"\n",
              " [38] \"降水日数.年間.\"                      \n",
              " [39] \"降水量.年間.\"                        \n",
              " [40] \"着工建築物数\"                        \n",
              " [41] \"着工建築物床面積\"                    \n",
              " [42] \"旅館営業施設数.ホテルを含む.\"        \n",
              " [43] \"旅館営業施設客室数.ホテルを含む.\"    \n",
              " [44] \"標準価格.平均価格..住宅地.\"          \n",
              " [45] \"標準価格.平均価格..商業地.\"          \n",
              " [46] \"幼稚園数\"                            \n",
              " [47] \"幼稚園教員数\"                        \n",
              " [48] \"幼稚園在園者数\"                      \n",
              " [49] \"小学校数\"                            \n",
              " [50] \"小学校教員数\"                        \n",
              " [51] \"小学校児童数\"                        \n",
              " [52] \"中学校数\"                            \n",
              " [53] \"中学校教員数\"                        \n",
              " [54] \"中学校生徒数\"                        \n",
              " [55] \"中学校卒業者数\"                      \n",
              " [56] \"中学校卒業者のうち進学者数\"          \n",
              " [57] \"高等学校数\"                          \n",
              " [58] \"高等学校教員数\"                      \n",
              " [59] \"高等学校生徒数\"                      \n",
              " [60] \"高等学校卒業者数\"                    \n",
              " [61] \"高等学校卒業者のうち進学者数\"        \n",
              " [62] \"短期大学数\"                          \n",
              " [63] \"大学数\"                              \n",
              " [64] \"短期大学教員数\"                      \n",
              " [65] \"大学教員数\"                          \n",
              " [66] \"短期大学学生数\"                      \n",
              " [67] \"大学学生数\"                          \n",
              " [68] \"短期大学卒業者数\"                    \n",
              " [69] \"短期大学卒業者のうち進学者数\"        \n",
              " [70] \"大学卒業者数\"                        \n",
              " [71] \"大学卒業者のうち進学者数\"            \n",
              " [72] \"専修学校数\"                          \n",
              " [73] \"各種学校数\"                          \n",
              " [74] \"専修学校生徒数\"                      \n",
              " [75] \"各種学校生徒数\"                      \n",
              " [76] \"新規求職申込件数.一般.\"              \n",
              " [77] \"月間有効求職者数.一般.\"              \n",
              " [78] \"月間有効求人数.一般.\"                \n",
              " [79] \"充足数.一般.\"                        \n",
              " [80] \"就職件数.一般.\"                      \n",
              " [81] \"一般旅券発行件数\"                    \n",
              " [82] \"着工新設住宅戸数\"                    \n",
              " [83] \"着工新設持家数\"                      \n",
              " [84] \"着工新設貸家数\"                      \n",
              " [85] \"着工新設分譲住宅数\"                  \n",
              " [86] \"着工新設住宅床面積\"                  \n",
              " [87] \"着工新設持家床面積\"                  \n",
              " [88] \"着工新設分譲住宅床面積\"              \n",
              " [89] \"着工新設貸家床面積\"                  \n",
              " [90] \"ごみ総排出量.総量.\"                  \n",
              " [91] \"X1人1日当たりの排出量\"               \n",
              " [92] \"ごみのリサイクル率\"                  \n",
              " [93] \"一般病院数\"                          \n",
              " [94] \"一般診療所数\"                        \n",
              " [95] \"歯科診療所数\"                        \n",
              " [96] \"保育所等数\"                          \n",
              " [97] \"保育所等定員数\"                      \n",
              " [98] \"保育所等利用待機児童数\"              \n",
              " [99] \"保育所等在所児数\"                    \n",
              "[100] \"保育所等保育士数\"                    \n",
              "[101] \"消費支出.二人以上の世帯.\"            \n",
              "[102] \"食料費.二人以上の世帯.\"              \n",
              "[103] \"住居費.二人以上の世帯.\"              \n",
              "[104] \"光熱.水道費.二人以上の世帯.\"         \n",
              "[105] \"家具.家事用品費.二人以上の世帯.\"     \n",
              "[106] \"被服及び履物費.二人以上の世帯.\"      \n",
              "[107] \"保健医療費.二人以上の世帯.\"          \n",
              "[108] \"交通.通信費.二人以上の世帯.\"         \n",
              "[109] \"教育費.二人以上の世帯.\"              \n",
              "[110] \"教養娯楽費.二人以上の世帯.\"          \n",
              "[111] \"その他の消費支出.二人以上の世帯.\"    "
            ]
          },
          "metadata": {}
        },
        {
          "output_type": "display_data",
          "data": {
            "text/html": [
              "<style>\n",
              ".list-inline {list-style: none; margin:0; padding: 0}\n",
              ".list-inline>li {display: inline-block}\n",
              ".list-inline>li:not(:last-child)::after {content: \"\\00b7\"; padding: 0 .5ex}\n",
              "</style>\n",
              "<ol class=list-inline><li>'日本人人口.女.'</li><li>'X15歳未満人口'</li><li>'X15歳未満人口.男.'</li><li>'X15歳未満人口.女.'</li><li>'X15.64歳人口'</li><li>'X15.64歳人口.男.'</li><li>'X15.64歳人口.女.'</li><li>'X65歳以上人口'</li><li>'X65歳以上人口.男.'</li><li>'X65歳以上人口.女.'</li><li>'出生数'</li></ol>\n"
            ],
            "text/markdown": "1. '日本人人口.女.'\n2. 'X15歳未満人口'\n3. 'X15歳未満人口.男.'\n4. 'X15歳未満人口.女.'\n5. 'X15.64歳人口'\n6. 'X15.64歳人口.男.'\n7. 'X15.64歳人口.女.'\n8. 'X65歳以上人口'\n9. 'X65歳以上人口.男.'\n10. 'X65歳以上人口.女.'\n11. '出生数'\n\n\n",
            "text/latex": "\\begin{enumerate*}\n\\item '日本人人口.女.'\n\\item 'X15歳未満人口'\n\\item 'X15歳未満人口.男.'\n\\item 'X15歳未満人口.女.'\n\\item 'X15.64歳人口'\n\\item 'X15.64歳人口.男.'\n\\item 'X15.64歳人口.女.'\n\\item 'X65歳以上人口'\n\\item 'X65歳以上人口.男.'\n\\item 'X65歳以上人口.女.'\n\\item '出生数'\n\\end{enumerate*}\n",
            "text/plain": [
              " [1] \"日本人人口.女.\"    \"X15歳未満人口\"     \"X15歳未満人口.男.\"\n",
              " [4] \"X15歳未満人口.女.\" \"X15.64歳人口\"      \"X15.64歳人口.男.\" \n",
              " [7] \"X15.64歳人口.女.\"  \"X65歳以上人口\"     \"X65歳以上人口.男.\"\n",
              "[10] \"X65歳以上人口.女.\" \"出生数\"           "
            ]
          },
          "metadata": {}
        },
        {
          "output_type": "display_data",
          "data": {
            "text/plain": [
              "plot without title"
            ],
            "image/png": "[encoded data removed]"
          },
          "metadata": {
            "image/png": {
              "width": 420,
              "height": 420
            }
          }
        }
      ]
    }
  ]
}