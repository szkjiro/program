{
  "nbformat": 4,
  "nbformat_minor": 0,
  "metadata": {
    "colab": {
      "provenance": []
    },
    "kernelspec": {
      "name": "python3",
      "display_name": "Python 3"
    },
    "language_info": {
      "name": "python"
    }
  },
  "cells": [
    {
      "cell_type": "markdown",
      "source": [
        "## アッシェンフェルターのワイン方程式\n",
        "\n",
        "ワインの格付け評価で有名なものに[パーカーポイント（ワインショップによる解説）](https://cocos.co.jp/blog/law/parker-point/)があります．\n",
        "そこにデータサイエンスの方向から新たな視点を提供したのが，経済学者アッシェンフェルターでした．\n",
        "彼は，データ分析にもとづきボルドーワインの出来を推定し，中にはパーカーポイントへの疑義となる「86年ものボルドーは水っぽいはずだ」のような予測も導きました．\n",
        "実際，86年を高評価したパーカーの予想は外れます．\n",
        "その方程式とは次のようなものです．\n",
        "$$\n",
        "ワインの品質 = 12.145 + 0.00117\\times 冬の降雨量\n",
        "+ 0.0614 \\times 育成期平均気温\n",
        "- 0.00386\\times 収穫期降雨量\n",
        "$$\n",
        "式の変数を見ればわかるように，ワインそのものの情報ではなく，ブドウの出来を予測するものと言ってよいでしょう．\n",
        "一定の技術のあるワイナリーで醸造するワインは，ブドウの出来で決まるというのです．参考文献：「その数学が戦略を決める（Super Crunchers）」，イアン・エアーズ著，　[山形浩生訳](https://cruel.hatenablog.com/entry/20150121/1421802947)\n",
        "\n",
        "中でもパーカーにできなくて，方程式にできたことがあります．\n",
        "すでにブドウは収穫されても，まだワインとして熟成を経ていない将来の格付け情報を予測することでした．\n",
        "実際，発表当時に方程式が導いた89年および90年ものの予測は，方程式による予測への信頼を得るものとなりました．\n",
        "\n",
        "方程式を導くデータ分析の例が以下のものです．\n",
        "分析のためのデータは，[アッシェンフェルター自身によるもの](http://www.liquidasset.com/winedata.html)にあり，\n",
        "これをダウンロードして利用します．\n",
        "このデータを用いた[アッシェンフェルター自身による分析論文](http://www.liquidasset.com/orley.htm)も読めます．\n",
        "\n",
        "最初にアッシェンバッハのデータ（CSVファイルで用意）を読み込み，データの確認（Head関数）および各列間の散布図および相関係数を見ます．\n",
        "各列はワインの価格，ある時期の降水量，気温であり，上の方程式と見比べればなんとなく想像はつくでしょう．"
      ],
      "metadata": {
        "id": "1-_4x_jlQq7n"
      }
    },
    {
      "cell_type": "code",
      "execution_count": null,
      "metadata": {
        "id": "N4pjE6BENWXb"
      },
      "outputs": [],
      "source": [
        "import pandas as pd\n",
        "import matplotlib.pyplot as plt\n",
        "\n",
        "# Ashenfelterのデータ読み込み\n",
        "WineData = pd.read_csv(\"ashenfelter.csv\")\n",
        "# cofirm each columns\n",
        "WineData.head()\n",
        "\n",
        "# 散布図\n",
        "pd.plotting.scatter_matrix(WineData)"
      ]
    },
    {
      "cell_type": "markdown",
      "source": [
        "次に重回帰分析を行います．sci-kit learnを使います．以下のプログラムではエラーを生じます．Head関数でデータを表示させたときに，いくつかの項目は数値データに欠けていました．\n",
        "これを欠損値といいます．\n",
        "\n",
        "\n"
      ],
      "metadata": {
        "id": "q4Y2oN9ERHtA"
      }
    },
    {
      "cell_type": "code",
      "source": [
        "import numpy as np\n",
        "from sklearn.linear_model import LinearRegression\n",
        "from sklearn.metrics import mean_squared_error\n",
        "from sklearn.model_selection import cross_val_score, LeaveOneOut\n",
        "\n",
        "WineData.head()\n",
        "\n",
        "# 価格以外をXに\n",
        "X, y = WineData.drop(columns=['LPRICE2']), WineData['LPRICE2']\n",
        "WineModel = LinearRegression().fit(X, y)"
      ],
      "metadata": {
        "id": "BDQaHnOKjjw4"
      },
      "execution_count": null,
      "outputs": []
    },
    {
      "cell_type": "markdown",
      "source": [
        "次のプログラムではDrop関数によりエラーの原因となった欠損値を取り除いています．これにより実行処理できるようになります．\n",
        "Head関数で1956年データ行のなくなったことを確認してみてください．\n",
        "最後に係数を表示させます．\n",
        "最初にあげたアッシェンフェルターの方程式と合致したでしょうか．\n",
        "確認してみましょう．"
      ],
      "metadata": {
        "id": "C6gwk8TIjvey"
      }
    },
    {
      "cell_type": "code",
      "source": [
        "import numpy as np\n",
        "from sklearn.linear_model import LinearRegression\n",
        "from sklearn.metrics import mean_squared_error\n",
        "from sklearn.model_selection import cross_val_score, LeaveOneOut\n",
        "\n",
        "WineData2 = WineData.dropna()\n",
        "WineData2.head()\n",
        "\n",
        "# 価格以外をXに\n",
        "X, y = WineData2.drop(columns=['LPRICE2']), WineData2['LPRICE2']\n",
        "WineModel = LinearRegression().fit(X, y)\n",
        "\n",
        "# 係数表示，切片を先に実行\n",
        "WineModel.intercept_\n",
        "pd.Series(WineModel.coef_, index=X.columns)"
      ],
      "metadata": {
        "id": "HrDaWAxIWq1d"
      },
      "execution_count": null,
      "outputs": []
    },
    {
      "cell_type": "markdown",
      "source": [
        "## さいごに\n",
        "\n",
        "各列は何かわかるでしょう，といいました．\n",
        "VINT列はヴィンテージを表します．\n",
        "ヴィンテージで価格が決まるのなら，この変数の影響が一番大きくなるのではないでしょうか．\n",
        "ところが，上で求めた係数は，最初にあげた方程式にほぼ同じです．\n",
        "\n",
        "これは，アッシェンフェルターの方程式はヴィンテージ情報がなくとも価格を予想できるという証左になっているということです．\n",
        "\n",
        "以下のコードは，この考えの確認に，変数VINTも除いて実行しました．"
      ],
      "metadata": {
        "id": "Px7Y06Vuj24H"
      }
    },
    {
      "cell_type": "code",
      "source": [
        "\n",
        "# 価格以外をXに\n",
        "X, y = WineData2.drop(columns=['LPRICE2', 'VINT']), WineData2['LPRICE2']\n",
        "WineModel = LinearRegression().fit(X, y)\n",
        "\n",
        "# 係数表示，切片を先に実行\n",
        "WineModel.intercept_\n",
        "pd.Series(WineModel.coef_, index=X.columns)"
      ],
      "metadata": {
        "id": "0ka49Lmgknbl"
      },
      "execution_count": null,
      "outputs": []
    }
  ]
}