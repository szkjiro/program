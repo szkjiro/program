{
  "nbformat": 4,
  "nbformat_minor": 0,
  "metadata": {
    "colab": {
      "provenance": []
    },
    "kernelspec": {
      "name": "python3",
      "display_name": "Python 3"
    },
    "language_info": {
      "name": "python"
    }
  },
  "cells": [
    {
      "cell_type": "code",
      "execution_count": 5,
      "metadata": {
        "colab": {
          "base_uri": "https://localhost:8080/"
        },
        "id": "DvOB8-FHJ_e8",
        "outputId": "40fdd385-f3ef-4728-dea1-77a7c8088f84"
      },
      "outputs": [
        {
          "output_type": "stream",
          "name": "stdout",
          "text": [
            "18.5\n",
            "19.25\n",
            "19.25\n"
          ]
        }
      ],
      "source": [
        "def total(x):\n",
        "  s = 0\n",
        "  for i in range(0,len(x)):\n",
        "    s = s + x[i]\n",
        "  return s\n",
        "\n",
        "def average(x):\n",
        "  return total(x) / len(x)\n",
        "\n",
        "def var1(x):\n",
        "  s = 0\n",
        "  m = average(x)\n",
        "  for i in range(0,len(x)):\n",
        "    s = s + x[i]**2\n",
        "  return s / len(x) - m**2\n",
        "\n",
        "def var2(x):\n",
        "  s = 0\n",
        "  m = average(x)\n",
        "  for i in range(0,len(x)):\n",
        "    s = s + (x[i] - m)**2\n",
        "  return s / len(x)\n",
        "\n",
        "a = [20, 22, 11, 21]\n",
        "print(average(a))\n",
        "print(var1(a))\n",
        "print(var2(a))"
      ]
    }
  ]
}