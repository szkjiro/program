{
  "nbformat": 4,
  "nbformat_minor": 0,
  "metadata": {
    "colab": {
      "provenance": []
    },
    "kernelspec": {
      "name": "python3",
      "display_name": "Python 3"
    },
    "language_info": {
      "name": "python"
    }
  },
  "cells": [
    {
      "cell_type": "code",
      "source": [
        "# Google ColabでTurtleグラフィックを使えるようにする\n",
        "!pip3 install ColabTurtle\n",
        "from ColabTurtle.Turtle import *"
      ],
      "metadata": {
        "colab": {
          "base_uri": "https://localhost:8080/"
        },
        "id": "DJfnkJwNjqnY",
        "outputId": "0f16b572-3a86-45f3-aad6-b62fc6872feb"
      },
      "execution_count": 16,
      "outputs": [
        {
          "output_type": "stream",
          "name": "stdout",
          "text": [
            "Looking in indexes: https://pypi.org/simple, https://us-python.pkg.dev/colab-wheels/public/simple/\n",
            "Requirement already satisfied: ColabTurtle in /usr/local/lib/python3.8/dist-packages (2.1.0)\n"
          ]
        }
      ]
    },
    {
      "cell_type": "markdown",
      "source": [
        "コッホ曲線（フラクタル曲線の一種）とL-system\n",
        "\n",
        "以下にPythonコードとともに示していく．\n",
        "参考[PythonでL-systemを作る](https://note.com/evjunior/n/n8a9984dbecb6)"
      ],
      "metadata": {
        "id": "BlrYZkY7fbCD"
      }
    },
    {
      "cell_type": "markdown",
      "source": [],
      "metadata": {
        "id": "ZWfIgBpKgiiZ"
      }
    },
    {
      "cell_type": "code",
      "execution_count": 3,
      "metadata": {
        "colab": {
          "base_uri": "https://localhost:8080/"
        },
        "id": "H4bzlagMfabY",
        "outputId": "c2ec830f-9786-42ad-ca88-893a1eb7a656"
      },
      "outputs": [
        {
          "output_type": "stream",
          "name": "stdout",
          "text": [
            "F+F--F+F+F+F--F+F--F+F--F+F+F+F--F+F+F+F--F+F+F+F--F+F--F+F--F+F+F+F--F+F--F+F--F+F+F+F--F+F--F+F--F+F+F+F--F+F+F+F--F+F+F+F--F+F--F+F--F+F+F+F--F+F\n"
          ]
        }
      ],
      "source": [
        "initiator = \"F\"\n",
        "generator = {\"F\":\"F+F--F+F\"}\n",
        "repeat = 1\n",
        "com = initiator\n",
        "for i in range(repeat):\n",
        "    com = com.translate(str.maketrans(generator))\n",
        "print(com)"
      ]
    },
    {
      "cell_type": "markdown",
      "source": [
        "繰り返し回数（変数Rrepeatに与える数）を変えながら確かめてみよう．\n",
        "\n",
        "予想通りだったろうか．\n",
        "次にグラフィックス表示をしてみる．\n",
        "上の規則をグラフィックス変換するための関数を準備する．"
      ],
      "metadata": {
        "id": "8PefDd5dfsd3"
      }
    },
    {
      "cell_type": "code",
      "source": [
        "def turtle(command):\n",
        "   if command == \"F\":\n",
        "       kame.forward(distance)\n",
        "   if command == \"+\":\n",
        "       kame.left(angle)\n",
        "   if command == \"-\":\n",
        "       kame.right(angle)"
      ],
      "metadata": {
        "id": "UH0Thwi7gIr3"
      },
      "execution_count": 6,
      "outputs": []
    },
    {
      "cell_type": "markdown",
      "source": [
        "これをグラフィックスに描く．"
      ],
      "metadata": {
        "id": "2P2veZtjgj5Y"
      }
    },
    {
      "cell_type": "code",
      "source": [
        "initializeTurtle(initial_speed=10)\n",
        "\n",
        "def turtle(command):\n",
        "  if command == \"F\":\n",
        "    forward(distance)\n",
        "  if command == \"+\":\n",
        "    left(angle)\n",
        "  if command == \"-\":\n",
        "    right(angle)\n",
        "       \n",
        "angle = 60\n",
        "initiator = \"F\"\n",
        "generator = {\"F\":\"F+F--F+F\"}\n",
        "repeat = 3\n",
        "distance = 400*(1/3)**repeat\n",
        "right(90)\n",
        "com = initiator\n",
        "for i in range(repeat):\n",
        "  com = com.translate(str.maketrans(generator))\n",
        "for command in com:\n",
        "  turtle(command)"
      ],
      "metadata": {
        "colab": {
          "base_uri": "https://localhost:8080/",
          "height": 521
        },
        "id": "w-cC5gr1gnxC",
        "outputId": "22713649-4a83-4186-fb5a-8553ed855c31"
      },
      "execution_count": 24,
      "outputs": [
        {
          "output_type": "display_data",
          "data": {
            "text/plain": [
              "<IPython.core.display.HTML object>"
            ],
            "text/html": [
              "\n",
              "      <svg width=\"800\" height=\"500\">\n",
              "        <rect width=\"100%\" height=\"100%\" fill=\"black\"/>\n",
              "        <line x1=\"400\" y1=\"250\" x2=\"414.815\" y2=\"250.0\" stroke-linecap=\"round\" style=\"stroke:white;stroke-width:4\"/><line x1=\"414.815\" y1=\"250.0\" x2=\"422.222\" y2=\"237.17\" stroke-linecap=\"round\" style=\"stroke:white;stroke-width:4\"/><line x1=\"422.222\" y1=\"237.17\" x2=\"429.629\" y2=\"250.0\" stroke-linecap=\"round\" style=\"stroke:white;stroke-width:4\"/><line x1=\"429.629\" y1=\"250.0\" x2=\"444.444\" y2=\"250.0\" stroke-linecap=\"round\" style=\"stroke:white;stroke-width:4\"/><line x1=\"444.444\" y1=\"250.0\" x2=\"451.851\" y2=\"237.17\" stroke-linecap=\"round\" style=\"stroke:white;stroke-width:4\"/><line x1=\"451.851\" y1=\"237.17\" x2=\"444.444\" y2=\"224.34\" stroke-linecap=\"round\" style=\"stroke:white;stroke-width:4\"/><line x1=\"444.444\" y1=\"224.34\" x2=\"459.259\" y2=\"224.34\" stroke-linecap=\"round\" style=\"stroke:white;stroke-width:4\"/><line x1=\"459.259\" y1=\"224.34\" x2=\"466.666\" y2=\"211.51\" stroke-linecap=\"round\" style=\"stroke:white;stroke-width:4\"/><line x1=\"466.666\" y1=\"211.51\" x2=\"474.073\" y2=\"224.34\" stroke-linecap=\"round\" style=\"stroke:white;stroke-width:4\"/><line x1=\"474.073\" y1=\"224.34\" x2=\"488.888\" y2=\"224.34\" stroke-linecap=\"round\" style=\"stroke:white;stroke-width:4\"/><line x1=\"488.888\" y1=\"224.34\" x2=\"481.481\" y2=\"237.17\" stroke-linecap=\"round\" style=\"stroke:white;stroke-width:4\"/><line x1=\"481.481\" y1=\"237.17\" x2=\"488.888\" y2=\"250.0\" stroke-linecap=\"round\" style=\"stroke:white;stroke-width:4\"/><line x1=\"488.888\" y1=\"250.0\" x2=\"503.703\" y2=\"250.0\" stroke-linecap=\"round\" style=\"stroke:white;stroke-width:4\"/><line x1=\"503.703\" y1=\"250.0\" x2=\"511.11\" y2=\"237.17\" stroke-linecap=\"round\" style=\"stroke:white;stroke-width:4\"/><line x1=\"511.11\" y1=\"237.17\" x2=\"518.517\" y2=\"250.0\" stroke-linecap=\"round\" style=\"stroke:white;stroke-width:4\"/><line x1=\"518.517\" y1=\"250.0\" x2=\"533.332\" y2=\"250.0\" stroke-linecap=\"round\" style=\"stroke:white;stroke-width:4\"/><line x1=\"533.332\" y1=\"250.0\" x2=\"540.739\" y2=\"237.17\" stroke-linecap=\"round\" style=\"stroke:white;stroke-width:4\"/><line x1=\"540.739\" y1=\"237.17\" x2=\"533.332\" y2=\"224.34\" stroke-linecap=\"round\" style=\"stroke:white;stroke-width:4\"/><line x1=\"533.332\" y1=\"224.34\" x2=\"548.147\" y2=\"224.34\" stroke-linecap=\"round\" style=\"stroke:white;stroke-width:4\"/><line x1=\"548.147\" y1=\"224.34\" x2=\"555.554\" y2=\"211.51\" stroke-linecap=\"round\" style=\"stroke:white;stroke-width:4\"/><line x1=\"555.554\" y1=\"211.51\" x2=\"548.147\" y2=\"198.68\" stroke-linecap=\"round\" style=\"stroke:white;stroke-width:4\"/><line x1=\"548.147\" y1=\"198.68\" x2=\"533.332\" y2=\"198.68\" stroke-linecap=\"round\" style=\"stroke:white;stroke-width:4\"/><line x1=\"533.332\" y1=\"198.68\" x2=\"540.739\" y2=\"185.85\" stroke-linecap=\"round\" style=\"stroke:white;stroke-width:4\"/><line x1=\"540.739\" y1=\"185.85\" x2=\"533.332\" y2=\"173.02\" stroke-linecap=\"round\" style=\"stroke:white;stroke-width:4\"/><line x1=\"533.332\" y1=\"173.02\" x2=\"548.147\" y2=\"173.02\" stroke-linecap=\"round\" style=\"stroke:white;stroke-width:4\"/><line x1=\"548.147\" y1=\"173.02\" x2=\"555.554\" y2=\"160.19\" stroke-linecap=\"round\" style=\"stroke:white;stroke-width:4\"/><line x1=\"555.554\" y1=\"160.19\" x2=\"562.961\" y2=\"173.02\" stroke-linecap=\"round\" style=\"stroke:white;stroke-width:4\"/><line x1=\"562.961\" y1=\"173.02\" x2=\"577.776\" y2=\"173.02\" stroke-linecap=\"round\" style=\"stroke:white;stroke-width:4\"/><line x1=\"577.776\" y1=\"173.02\" x2=\"585.183\" y2=\"160.19\" stroke-linecap=\"round\" style=\"stroke:white;stroke-width:4\"/><line x1=\"585.183\" y1=\"160.19\" x2=\"577.776\" y2=\"147.36\" stroke-linecap=\"round\" style=\"stroke:white;stroke-width:4\"/><line x1=\"577.776\" y1=\"147.36\" x2=\"592.591\" y2=\"147.36\" stroke-linecap=\"round\" style=\"stroke:white;stroke-width:4\"/><line x1=\"592.591\" y1=\"147.36\" x2=\"599.998\" y2=\"134.53\" stroke-linecap=\"round\" style=\"stroke:white;stroke-width:4\"/><line x1=\"599.998\" y1=\"134.53\" x2=\"607.405\" y2=\"147.36\" stroke-linecap=\"round\" style=\"stroke:white;stroke-width:4\"/><line x1=\"607.405\" y1=\"147.36\" x2=\"622.22\" y2=\"147.36\" stroke-linecap=\"round\" style=\"stroke:white;stroke-width:4\"/><line x1=\"622.22\" y1=\"147.36\" x2=\"614.813\" y2=\"160.19\" stroke-linecap=\"round\" style=\"stroke:white;stroke-width:4\"/><line x1=\"614.813\" y1=\"160.19\" x2=\"622.22\" y2=\"173.02\" stroke-linecap=\"round\" style=\"stroke:white;stroke-width:4\"/><line x1=\"622.22\" y1=\"173.02\" x2=\"637.035\" y2=\"173.02\" stroke-linecap=\"round\" style=\"stroke:white;stroke-width:4\"/><line x1=\"637.035\" y1=\"173.02\" x2=\"644.442\" y2=\"160.19\" stroke-linecap=\"round\" style=\"stroke:white;stroke-width:4\"/><line x1=\"644.442\" y1=\"160.19\" x2=\"651.849\" y2=\"173.02\" stroke-linecap=\"round\" style=\"stroke:white;stroke-width:4\"/><line x1=\"651.849\" y1=\"173.02\" x2=\"666.664\" y2=\"173.02\" stroke-linecap=\"round\" style=\"stroke:white;stroke-width:4\"/><line x1=\"666.664\" y1=\"173.02\" x2=\"659.257\" y2=\"185.85\" stroke-linecap=\"round\" style=\"stroke:white;stroke-width:4\"/><line x1=\"659.257\" y1=\"185.85\" x2=\"666.664\" y2=\"198.68\" stroke-linecap=\"round\" style=\"stroke:white;stroke-width:4\"/><line x1=\"666.664\" y1=\"198.68\" x2=\"651.849\" y2=\"198.68\" stroke-linecap=\"round\" style=\"stroke:white;stroke-width:4\"/><line x1=\"651.849\" y1=\"198.68\" x2=\"644.442\" y2=\"211.51\" stroke-linecap=\"round\" style=\"stroke:white;stroke-width:4\"/><line x1=\"644.442\" y1=\"211.51\" x2=\"651.849\" y2=\"224.34\" stroke-linecap=\"round\" style=\"stroke:white;stroke-width:4\"/><line x1=\"651.849\" y1=\"224.34\" x2=\"666.664\" y2=\"224.34\" stroke-linecap=\"round\" style=\"stroke:white;stroke-width:4\"/><line x1=\"666.664\" y1=\"224.34\" x2=\"659.257\" y2=\"237.17\" stroke-linecap=\"round\" style=\"stroke:white;stroke-width:4\"/><line x1=\"659.257\" y1=\"237.17\" x2=\"666.664\" y2=\"250.0\" stroke-linecap=\"round\" style=\"stroke:white;stroke-width:4\"/><line x1=\"666.664\" y1=\"250.0\" x2=\"681.479\" y2=\"250.0\" stroke-linecap=\"round\" style=\"stroke:white;stroke-width:4\"/><line x1=\"681.479\" y1=\"250.0\" x2=\"688.886\" y2=\"237.17\" stroke-linecap=\"round\" style=\"stroke:white;stroke-width:4\"/><line x1=\"688.886\" y1=\"237.17\" x2=\"696.293\" y2=\"250.0\" stroke-linecap=\"round\" style=\"stroke:white;stroke-width:4\"/><line x1=\"696.293\" y1=\"250.0\" x2=\"711.108\" y2=\"250.0\" stroke-linecap=\"round\" style=\"stroke:white;stroke-width:4\"/><line x1=\"711.108\" y1=\"250.0\" x2=\"718.515\" y2=\"237.17\" stroke-linecap=\"round\" style=\"stroke:white;stroke-width:4\"/><line x1=\"718.515\" y1=\"237.17\" x2=\"711.108\" y2=\"224.34\" stroke-linecap=\"round\" style=\"stroke:white;stroke-width:4\"/><line x1=\"711.108\" y1=\"224.34\" x2=\"725.923\" y2=\"224.34\" stroke-linecap=\"round\" style=\"stroke:white;stroke-width:4\"/><line x1=\"725.923\" y1=\"224.34\" x2=\"733.33\" y2=\"211.51\" stroke-linecap=\"round\" style=\"stroke:white;stroke-width:4\"/><line x1=\"733.33\" y1=\"211.51\" x2=\"740.737\" y2=\"224.34\" stroke-linecap=\"round\" style=\"stroke:white;stroke-width:4\"/><line x1=\"740.737\" y1=\"224.34\" x2=\"755.552\" y2=\"224.34\" stroke-linecap=\"round\" style=\"stroke:white;stroke-width:4\"/><line x1=\"755.552\" y1=\"224.34\" x2=\"748.145\" y2=\"237.17\" stroke-linecap=\"round\" style=\"stroke:white;stroke-width:4\"/><line x1=\"748.145\" y1=\"237.17\" x2=\"755.552\" y2=\"250.0\" stroke-linecap=\"round\" style=\"stroke:white;stroke-width:4\"/><line x1=\"755.552\" y1=\"250.0\" x2=\"770.367\" y2=\"250.0\" stroke-linecap=\"round\" style=\"stroke:white;stroke-width:4\"/><line x1=\"770.367\" y1=\"250.0\" x2=\"777.774\" y2=\"237.17\" stroke-linecap=\"round\" style=\"stroke:white;stroke-width:4\"/><line x1=\"777.774\" y1=\"237.17\" x2=\"785.181\" y2=\"250.0\" stroke-linecap=\"round\" style=\"stroke:white;stroke-width:4\"/><line x1=\"785.181\" y1=\"250.0\" x2=\"799.996\" y2=\"250.0\" stroke-linecap=\"round\" style=\"stroke:white;stroke-width:4\"/>\n",
              "        <g visibility=visible transform=\"rotate(90,799.996,250.0) translate(781.996, 232.0)\">\n",
              "<path style=\" stroke:none;fill-rule:evenodd;fill:white;fill-opacity:1;\" d=\"M 18.214844 0.632812 C 16.109375 1.800781 15.011719 4.074219 15.074219 7.132812 L 15.085938 7.652344 L 14.785156 7.496094 C 13.476562 6.824219 11.957031 6.671875 10.40625 7.066406 C 8.46875 7.550781 6.515625 9.15625 4.394531 11.992188 C 3.0625 13.777344 2.679688 14.636719 3.042969 15.027344 L 3.15625 15.152344 L 3.519531 15.152344 C 4.238281 15.152344 4.828125 14.886719 8.1875 13.039062 C 9.386719 12.378906 10.371094 11.839844 10.378906 11.839844 C 10.386719 11.839844 10.355469 11.929688 10.304688 12.035156 C 9.832031 13.09375 9.257812 14.820312 8.96875 16.078125 C 7.914062 20.652344 8.617188 24.53125 11.070312 27.660156 C 11.351562 28.015625 11.363281 27.914062 10.972656 28.382812 C 8.925781 30.84375 7.945312 33.28125 8.238281 35.1875 C 8.289062 35.527344 8.28125 35.523438 8.917969 35.523438 C 10.941406 35.523438 13.074219 34.207031 15.136719 31.6875 C 15.359375 31.417969 15.328125 31.425781 15.5625 31.574219 C 16.292969 32.042969 18.023438 32.964844 18.175781 32.964844 C 18.335938 32.964844 19.941406 32.210938 20.828125 31.71875 C 20.996094 31.625 21.136719 31.554688 21.136719 31.558594 C 21.203125 31.664062 21.898438 32.414062 22.222656 32.730469 C 23.835938 34.300781 25.5625 35.132812 27.582031 35.300781 C 27.90625 35.328125 27.9375 35.308594 28.007812 34.984375 C 28.382812 33.242188 27.625 30.925781 25.863281 28.425781 L 25.542969 27.96875 L 25.699219 27.785156 C 28.945312 23.960938 29.132812 18.699219 26.257812 11.96875 L 26.207031 11.84375 L 27.945312 12.703125 C 31.53125 14.476562 32.316406 14.800781 33.03125 14.800781 C 33.976562 14.800781 33.78125 13.9375 32.472656 12.292969 C 28.519531 7.355469 25.394531 5.925781 21.921875 7.472656 L 21.558594 7.636719 L 21.578125 7.542969 C 21.699219 6.992188 21.761719 5.742188 21.699219 5.164062 C 21.496094 3.296875 20.664062 1.964844 19.003906 0.855469 C 18.480469 0.503906 18.457031 0.5 18.214844 0.632812\"/>\n",
              "</g>\n",
              "      </svg>\n",
              "    "
            ]
          },
          "metadata": {}
        }
      ]
    }
  ]
}