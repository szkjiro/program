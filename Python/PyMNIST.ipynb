{
  "nbformat": 4,
  "nbformat_minor": 0,
  "metadata": {
    "colab": {
      "provenance": []
    },
    "kernelspec": {
      "name": "python3",
      "display_name": "Python 3"
    },
    "language_info": {
      "name": "python"
    }
  },
  "cells": [
    {
      "cell_type": "markdown",
      "source": [
        "# 画像認識\n",
        "\n",
        "ここでは画像認識課題を，\n",
        "WordNetプロジェクト（すべてのデータに名前をつけようとする第2次人工知能ブームのときから継続しているプロジェクト）が用意したMNISTデータセット（手書き数字のデータセット）を利用します．\n",
        "MNISTデータセットとは縦横28ドットのモノクロ画像データであり，各画像には数字0から9まで10個のラベル（つまり，その画像が何の数字かということ）がついています．\n",
        "28ｘ28=784なので，ベクトルとしては784次元です．\n",
        "\n",
        "Pythonのライブラリとしてはscikit-learnを利用します．\n",
        "まずはMNISTデータセットの準備を行います．"
      ],
      "metadata": {
        "id": "DwHO6EtOE8hp"
      }
    },
    {
      "cell_type": "code",
      "execution_count": 1,
      "metadata": {
        "id": "g9R74LRTE7-2"
      },
      "outputs": [],
      "source": [
        "from sklearn import datasets, model_selection, svm, metrics\n",
        "\n",
        "MNIST = datasets.load_digits()\n"
      ]
    },
    {
      "cell_type": "markdown",
      "source": [
        "MNISTデータセットの内容を確認しておきます．"
      ],
      "metadata": {
        "id": "G7oShY0QGcnR"
      }
    },
    {
      "cell_type": "code",
      "source": [
        "# どのくらいの大きさのデータセットか確認\n",
        "print(MNIST.data.shape)\n",
        "\n",
        "# 画像で表示するとどんなデータか確認\n",
        "import matplotlib.pyplot as plt\n",
        "\n",
        "# 以下のプログラムは数字画像10個を並べてうまく表示するため\n",
        "# 「うまく表示」のために指定が多いなど複雑化しています．\n",
        "# 気にしないでください\n",
        "rows, cols = 2, 5 # 2行5列に並べたい\n",
        "fg, ax = plt.subplots(rows, cols, figsize=(10.0, 4.0), tight_layout=True)\n",
        "for i in range(rows * cols):\n",
        "    ax[i // cols][i % cols].imshow(\n",
        "        # // は整数除算，たとえば 3/2=1.5 だけど 3//2=1，% は整数剰余\n",
        "        MNIST.images[i],\n",
        "        cmap=\"binary\",\n",
        "        interpolation=\"nearest\"\n",
        "    )\n",
        "    ax[i // cols][i % cols].set_title(\"target: %d\"%(MNIST.target[i]))\n",
        "\n",
        "plt.show()"
      ],
      "metadata": {
        "id": "LtlP4fM-GixY"
      },
      "execution_count": null,
      "outputs": []
    },
    {
      "cell_type": "markdown",
      "source": [
        "以下でやりたいことは，\n",
        "1. MNISTデータを2つ，学習用と検証用とに分ける\n",
        "2. 学習用データで機械学習を実行する\n",
        "3. 検証データで判定間違いがどれだけあるかなどを調べる\n",
        "\n",
        "です．\n",
        "学習の手法ですがサポートベクターマシンSVMと呼ばれる手法で実行しています．\n",
        "機械学習の手法には他にもいろいろとあります．\n",
        "\n",
        "問：スコアはいくつになっただろうか．報告してください．"
      ],
      "metadata": {
        "id": "Ago_dnxgdcPw"
      }
    },
    {
      "cell_type": "code",
      "source": [
        "from sklearn.model_selection import train_test_split\n",
        "\n",
        "data, labels = MNIST.data / 255, MNIST.target\n",
        "data_size = len(labels)\n",
        "# 変数名としてtrainで始まるのはトレーニング用，testで始まるのは検証用です\n",
        "# 最初は両者を4：1に分けてみます\n",
        "# train_test_split関数ではこれらをランダムに割り振るので\n",
        "# 他の受講者とは多少違った結果になります\n",
        "train_size, test_size = 8 * data_size // 10, 2 * data_size // 10\n",
        "train_data, test_data, train_labels, test_labels = train_test_split(\n",
        "    data,\n",
        "    labels,\n",
        "    test_size=test_size,\n",
        "    train_size=train_size\n",
        ")\n",
        "\n",
        "# サポートベクトルマシンSVMという手法を使います\n",
        "from sklearn.svm import SVC\n",
        "\n",
        "# 準備\n",
        "svm = SVC(kernel=\"rbf\", C=1, gamma=0.5, random_state=0)\n",
        "# 学習\n",
        "svm.fit(train_data, train_labels)\n",
        "# 検証，この変数ラベルLlabelがMNISTで用意した0から9までです\n",
        "predicted_labels = svm.predict(test_data)\n",
        "score = svm.score(test_data, test_labels)\n",
        "\n",
        "# 最後に検証用データでの正答率を表示します\n",
        "print(\"score: %.3f\"%(score))"
      ],
      "metadata": {
        "id": "NQvbauPzebDO"
      },
      "execution_count": null,
      "outputs": []
    },
    {
      "cell_type": "markdown",
      "source": [
        "成功したものや失敗したものなど検証結果を描画します．\n",
        "targetが教師データとしてのラベル，predictが学習にもとづく予測です．\n",
        "プログラムの複雑さは，上でしたように，表示のための工夫です．\n",
        "\n",
        "問：認識に成功した数字はどれで，失敗した数字はどれだろうか．認識に失敗（誤認識）した数字を一つ報告してください．"
      ],
      "metadata": {
        "id": "12im8OiHfJqj"
      }
    },
    {
      "cell_type": "code",
      "source": [
        "import matplotlib.pyplot as plt\n",
        "\n",
        "rows, cols = 2, 5\n",
        "fg, ax = plt.subplots(rows, cols, figsize=(10.0, 4.0), tight_layout=True)\n",
        "for i in range(rows * cols):\n",
        "    ax[i // cols][i % cols].imshow(\n",
        "        test_data[i].reshape([8, 8]),\n",
        "        cmap=\"binary\",\n",
        "        interpolation=\"nearest\"\n",
        "    )\n",
        "    ax[i // cols][i % cols].set_title(\"target: %d, predict: %d\"%(test_labels[i], predicted_labels[i]))\n",
        "\n",
        "plt.show()"
      ],
      "metadata": {
        "id": "Ob1M78SEfL_U"
      },
      "execution_count": null,
      "outputs": []
    },
    {
      "cell_type": "markdown",
      "source": [
        "どの数字が良くて，どの数字が悪かったのでしょう．\n",
        "ヒートマップに示しました．\n",
        "対角線上に濃い色が並ぶのは正しく認識できたことを示します．一方で対角線上以外にもやや濃い色のところが見られます．\n",
        "\n",
        "問：対角線上以外の濃い色になっている数字を一つ報告してください．"
      ],
      "metadata": {
        "id": "XhkqYRytfb_S"
      }
    },
    {
      "cell_type": "code",
      "source": [
        "from sklearn.metrics import confusion_matrix\n",
        "conf_mat = confusion_matrix(test_labels, predicted_labels)\n",
        "\n",
        "import matplotlib.pyplot as plt\n",
        "import seaborn as sns\n",
        "sns.heatmap(conf_mat, annot=True, cmap=\"Reds\")\n",
        "plt.show()"
      ],
      "metadata": {
        "id": "5QqrHZ5Eff6M"
      },
      "execution_count": null,
      "outputs": []
    }
  ]
}