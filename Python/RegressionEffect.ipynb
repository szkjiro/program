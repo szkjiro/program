{
  "nbformat": 4,
  "nbformat_minor": 0,
  "metadata": {
    "colab": {
      "provenance": []
    },
    "kernelspec": {
      "name": "python3",
      "display_name": "Python 3"
    },
    "language_info": {
      "name": "python"
    }
  },
  "cells": [
    {
      "cell_type": "code",
      "execution_count": null,
      "metadata": {
        "colab": {
          "base_uri": "https://localhost:8080/"
        },
        "id": "0NkJfHhLNmLQ",
        "outputId": "df9f0b27-09c7-4334-a5d2-0fff19cf52c3"
      },
      "outputs": [
        {
          "output_type": "stream",
          "name": "stdout",
          "text": [
            "目標得点（＜100，半角数字）を入力してください\n",
            "70\n",
            "目標得点は70点です\n",
            "得点は70点です\n",
            "ほめるときは数字1を，しかるときは数字0（半角数字）を入力してください\n",
            "1\n",
            "あなたは誉めました\n",
            "得点は71点です\n",
            "ほめるときは数字1を，しかるときは数字0（半角数字）を入力してください\n",
            "1\n",
            "あなたは誉めました\n",
            "得点は68点です\n",
            "ほめるときは数字1を，しかるときは数字0（半角数字）を入力してください\n",
            "0\n",
            "あなたは叱りました\n",
            "得点は62点です\n",
            "ほめるときは数字1を，しかるときは数字0（半角数字）を入力してください\n",
            "0\n",
            "あなたは叱りました\n",
            "得点は63点です\n",
            "ほめるときは数字1を，しかるときは数字0（半角数字）を入力してください\n",
            "0\n",
            "あなたは叱りました\n",
            "得点は68点です\n",
            "ほめるときは数字1を，しかるときは数字0（半角数字）を入力してください\n",
            "1\n",
            "あなたは誉めました\n",
            "得点は72点です\n",
            "ほめるときは数字1を，しかるときは数字0（半角数字）を入力してください\n",
            "1\n",
            "あなたは誉めました\n",
            "得点は69点です\n",
            "ほめるときは数字1を，しかるときは数字0（半角数字）を入力してください\n",
            "0\n",
            "あなたは叱りました\n",
            "得点は78点です\n",
            "ほめるときは数字1を，しかるときは数字0（半角数字）を入力してください\n",
            "1\n",
            "あなたは誉めました\n",
            "得点は79点です\n",
            "ほめるときは数字1を，しかるときは数字0（半角数字）を入力してください\n",
            "1\n",
            "あなたは誉めました\n",
            "あなたの指導は終わりました\n"
          ]
        }
      ],
      "source": [
        "import tkinter.ttk as ttk\n",
        "import numpy\n",
        "print('目標得点（＜100，半角数字）を入力してください')\n",
        "Target = int(input())\n",
        "print('目標得点は{:2g}点です'.format(Target))\n",
        "\n",
        "for i in range(10):\n",
        "  Tokuten = numpy.ceil(numpy.random.normal(loc=Target,scale=10,size=None))\n",
        "  print('得点は{:2g}点です'.format(Tokuten))\n",
        "  print('ほめるときは数字1を，しかるときは数字0（半角数字）を入力してください')\n",
        "  YesNo = int(input())\n",
        "  if YesNo == 1:\n",
        "    print('あなたは誉めました')\n",
        "  else:\n",
        "    print('あなたは叱りました')\n",
        "print('あなたの指導は終わりました')\n",
        "\n"
      ]
    }
  ]
}