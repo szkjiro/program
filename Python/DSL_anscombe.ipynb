{
  "nbformat": 4,
  "nbformat_minor": 5,
  "metadata": {
    "kernelspec": {
      "display_name": "R",
      "language": "R",
      "name": "ir"
    },
    "language_info": {
      "codemirror_mode": "r",
      "file_extension": ".r",
      "mimetype": "text/x-r-source",
      "name": "R",
      "pygments_lexer": "r",
      "version": "3.6.1"
    },
    "colab": {
      "provenance": []
    }
  },
  "cells": [
    {
      "cell_type": "markdown",
      "id": "0a405b70",
      "metadata": {
        "id": "0a405b70"
      },
      "source": [
        "## 相関係数が等しくても\n",
        "\n",
        "2変量の分布を調べるとき，相関係数のみに頼っては危険である．\n",
        "相関係数はほぼ同じでも，散布図はまったく異なって見える例に「アンスコムの四重奏」がある．\n",
        "Rは標準でそれを利用できるデータセットanscombeをもっている．\n",
        "以下の例により，相関係数が等しくても，データの分布（散布図）は異なる様子を観察しよう．\n",
        "\n",
        "回帰直線も合わせて表示する解説はインターネット上に多く見つけられる．\n",
        "そうしたものの一つ[デバイスビジネス開拓団](https://jhalfmoon.com/dbc/2022/08/08/%E3%83%87%E3%83%BC%E3%82%BF%E3%81%AE%E3%81%8A%E7%A0%82%E5%A0%B442-r%E8%A8%80%E8%AA%9E%E3%80%81anscombe%E3%80%81%E5%B9%B3%E5%9D%87%E3%80%81%E5%88%86%E6%95%A3%E3%80%81%E7%B7%9A%E5%BD%A2%E3%81%AA/)による解説をあげておく．\n",
        "\n"
      ]
    },
    {
      "cell_type": "code",
      "source": [
        "# データセットの確認\n",
        "anscombe\n",
        "# xi,yi, i=1,2,3,4 で4組のデータが設定されている\n",
        "#\n",
        "# データ参照の簡易化(anscombe$...の形にしないでよい)\n",
        "attach(anscombe)\n",
        "# 2x2に散布図を並べる設定\n",
        "par(mfrow = c(2,2))\n",
        "# 散布図をそれぞれ描画\n",
        "plot(x1,y1)\n",
        "plot(x2,y2)\n",
        "plot(x3,y3)\n",
        "plot(x4,y4)\n",
        "# 相関係数の計算\n",
        "cor(x1,y1)\n",
        "cor(x2,y2)\n",
        "cor(x3,y3)\n",
        "cor(x4,y4)"
      ],
      "metadata": {
        "colab": {
          "base_uri": "https://localhost:8080/",
          "height": 1000
        },
        "id": "HkXk2NJpt8W5",
        "outputId": "1b6aa0b0-5fbd-4f0f-cabb-73baa8b15b3d"
      },
      "id": "HkXk2NJpt8W5",
      "execution_count": null,
      "outputs": [
        {
          "output_type": "display_data",
          "data": {
            "text/html": [
              "<table class=\"dataframe\">\n",
              "<caption>A data.frame: 11 × 8</caption>\n",
              "<thead>\n",
              "\t<tr><th scope=col>x1</th><th scope=col>x2</th><th scope=col>x3</th><th scope=col>x4</th><th scope=col>y1</th><th scope=col>y2</th><th scope=col>y3</th><th scope=col>y4</th></tr>\n",
              "\t<tr><th scope=col>&lt;dbl&gt;</th><th scope=col>&lt;dbl&gt;</th><th scope=col>&lt;dbl&gt;</th><th scope=col>&lt;dbl&gt;</th><th scope=col>&lt;dbl&gt;</th><th scope=col>&lt;dbl&gt;</th><th scope=col>&lt;dbl&gt;</th><th scope=col>&lt;dbl&gt;</th></tr>\n",
              "</thead>\n",
              "<tbody>\n",
              "\t<tr><td>10</td><td>10</td><td>10</td><td> 8</td><td> 8.04</td><td>9.14</td><td> 7.46</td><td> 6.58</td></tr>\n",
              "\t<tr><td> 8</td><td> 8</td><td> 8</td><td> 8</td><td> 6.95</td><td>8.14</td><td> 6.77</td><td> 5.76</td></tr>\n",
              "\t<tr><td>13</td><td>13</td><td>13</td><td> 8</td><td> 7.58</td><td>8.74</td><td>12.74</td><td> 7.71</td></tr>\n",
              "\t<tr><td> 9</td><td> 9</td><td> 9</td><td> 8</td><td> 8.81</td><td>8.77</td><td> 7.11</td><td> 8.84</td></tr>\n",
              "\t<tr><td>11</td><td>11</td><td>11</td><td> 8</td><td> 8.33</td><td>9.26</td><td> 7.81</td><td> 8.47</td></tr>\n",
              "\t<tr><td>14</td><td>14</td><td>14</td><td> 8</td><td> 9.96</td><td>8.10</td><td> 8.84</td><td> 7.04</td></tr>\n",
              "\t<tr><td> 6</td><td> 6</td><td> 6</td><td> 8</td><td> 7.24</td><td>6.13</td><td> 6.08</td><td> 5.25</td></tr>\n",
              "\t<tr><td> 4</td><td> 4</td><td> 4</td><td>19</td><td> 4.26</td><td>3.10</td><td> 5.39</td><td>12.50</td></tr>\n",
              "\t<tr><td>12</td><td>12</td><td>12</td><td> 8</td><td>10.84</td><td>9.13</td><td> 8.15</td><td> 5.56</td></tr>\n",
              "\t<tr><td> 7</td><td> 7</td><td> 7</td><td> 8</td><td> 4.82</td><td>7.26</td><td> 6.42</td><td> 7.91</td></tr>\n",
              "\t<tr><td> 5</td><td> 5</td><td> 5</td><td> 8</td><td> 5.68</td><td>4.74</td><td> 5.73</td><td> 6.89</td></tr>\n",
              "</tbody>\n",
              "</table>\n"
            ],
            "text/markdown": "\nA data.frame: 11 × 8\n\n| x1 &lt;dbl&gt; | x2 &lt;dbl&gt; | x3 &lt;dbl&gt; | x4 &lt;dbl&gt; | y1 &lt;dbl&gt; | y2 &lt;dbl&gt; | y3 &lt;dbl&gt; | y4 &lt;dbl&gt; |\n|---|---|---|---|---|---|---|---|\n| 10 | 10 | 10 |  8 |  8.04 | 9.14 |  7.46 |  6.58 |\n|  8 |  8 |  8 |  8 |  6.95 | 8.14 |  6.77 |  5.76 |\n| 13 | 13 | 13 |  8 |  7.58 | 8.74 | 12.74 |  7.71 |\n|  9 |  9 |  9 |  8 |  8.81 | 8.77 |  7.11 |  8.84 |\n| 11 | 11 | 11 |  8 |  8.33 | 9.26 |  7.81 |  8.47 |\n| 14 | 14 | 14 |  8 |  9.96 | 8.10 |  8.84 |  7.04 |\n|  6 |  6 |  6 |  8 |  7.24 | 6.13 |  6.08 |  5.25 |\n|  4 |  4 |  4 | 19 |  4.26 | 3.10 |  5.39 | 12.50 |\n| 12 | 12 | 12 |  8 | 10.84 | 9.13 |  8.15 |  5.56 |\n|  7 |  7 |  7 |  8 |  4.82 | 7.26 |  6.42 |  7.91 |\n|  5 |  5 |  5 |  8 |  5.68 | 4.74 |  5.73 |  6.89 |\n\n",
            "text/latex": "A data.frame: 11 × 8\n\\begin{tabular}{llllllll}\n x1 & x2 & x3 & x4 & y1 & y2 & y3 & y4\\\\\n <dbl> & <dbl> & <dbl> & <dbl> & <dbl> & <dbl> & <dbl> & <dbl>\\\\\n\\hline\n\t 10 & 10 & 10 &  8 &  8.04 & 9.14 &  7.46 &  6.58\\\\\n\t  8 &  8 &  8 &  8 &  6.95 & 8.14 &  6.77 &  5.76\\\\\n\t 13 & 13 & 13 &  8 &  7.58 & 8.74 & 12.74 &  7.71\\\\\n\t  9 &  9 &  9 &  8 &  8.81 & 8.77 &  7.11 &  8.84\\\\\n\t 11 & 11 & 11 &  8 &  8.33 & 9.26 &  7.81 &  8.47\\\\\n\t 14 & 14 & 14 &  8 &  9.96 & 8.10 &  8.84 &  7.04\\\\\n\t  6 &  6 &  6 &  8 &  7.24 & 6.13 &  6.08 &  5.25\\\\\n\t  4 &  4 &  4 & 19 &  4.26 & 3.10 &  5.39 & 12.50\\\\\n\t 12 & 12 & 12 &  8 & 10.84 & 9.13 &  8.15 &  5.56\\\\\n\t  7 &  7 &  7 &  8 &  4.82 & 7.26 &  6.42 &  7.91\\\\\n\t  5 &  5 &  5 &  8 &  5.68 & 4.74 &  5.73 &  6.89\\\\\n\\end{tabular}\n",
            "text/plain": [
              "   x1 x2 x3 x4 y1    y2   y3    y4   \n",
              "1  10 10 10  8  8.04 9.14  7.46  6.58\n",
              "2   8  8  8  8  6.95 8.14  6.77  5.76\n",
              "3  13 13 13  8  7.58 8.74 12.74  7.71\n",
              "4   9  9  9  8  8.81 8.77  7.11  8.84\n",
              "5  11 11 11  8  8.33 9.26  7.81  8.47\n",
              "6  14 14 14  8  9.96 8.10  8.84  7.04\n",
              "7   6  6  6  8  7.24 6.13  6.08  5.25\n",
              "8   4  4  4 19  4.26 3.10  5.39 12.50\n",
              "9  12 12 12  8 10.84 9.13  8.15  5.56\n",
              "10  7  7  7  8  4.82 7.26  6.42  7.91\n",
              "11  5  5  5  8  5.68 4.74  5.73  6.89"
            ]
          },
          "metadata": {}
        },
        {
          "output_type": "stream",
          "name": "stderr",
          "text": [
            "The following objects are masked from anscombe (pos = 3):\n",
            "\n",
            "    x1, x2, x3, x4, y1, y2, y3, y4\n",
            "\n",
            "\n",
            "The following objects are masked from anscombe (pos = 4):\n",
            "\n",
            "    x1, x2, x3, x4, y1, y2, y3, y4\n",
            "\n",
            "\n",
            "The following objects are masked from anscombe (pos = 5):\n",
            "\n",
            "    x1, x2, x3, x4, y1, y2, y3, y4\n",
            "\n",
            "\n",
            "The following objects are masked from anscombe (pos = 6):\n",
            "\n",
            "    x1, x2, x3, x4, y1, y2, y3, y4\n",
            "\n",
            "\n"
          ]
        },
        {
          "output_type": "display_data",
          "data": {
            "text/html": [
              "0.81642051634484"
            ],
            "text/markdown": "0.81642051634484",
            "text/latex": "0.81642051634484",
            "text/plain": [
              "[1] 0.8164205"
            ]
          },
          "metadata": {}
        },
        {
          "output_type": "display_data",
          "data": {
            "text/html": [
              "0.816236506000243"
            ],
            "text/markdown": "0.816236506000243",
            "text/latex": "0.816236506000243",
            "text/plain": [
              "[1] 0.8162365"
            ]
          },
          "metadata": {}
        },
        {
          "output_type": "display_data",
          "data": {
            "text/html": [
              "0.816286739489598"
            ],
            "text/markdown": "0.816286739489598",
            "text/latex": "0.816286739489598",
            "text/plain": [
              "[1] 0.8162867"
            ]
          },
          "metadata": {}
        },
        {
          "output_type": "display_data",
          "data": {
            "text/html": [
              "0.816521436888503"
            ],
            "text/markdown": "0.816521436888503",
            "text/latex": "0.816521436888503",
            "text/plain": [
              "[1] 0.8165214"
            ]
          },
          "metadata": {}
        },
        {
          "output_type": "display_data",
          "data": {
            "text/plain": [
              "plot without title"
            ],
            "image/png": "[encoded data removed]"
          },
          "metadata": {
            "image/png": {
              "width": 420,
              "height": 420
            }
          }
        }
      ]
    },
    {
      "cell_type": "markdown",
      "source": [
        "以下には上で取り上げた問題に関するより詳しい数値実験例がある．\n",
        "解説はしない．\n",
        "\n",
        "Kieran Healy, [Data Visualization: Practical Introduction](https://kjhealy.github.io/socviz/reference/), 2019. Description of Service Code, for [practical code](https://github.com/kjhealy/socviz/blob/master/README.md) in Github.\n",
        "\n",
        "vanhove, [what data patterns can lie behind a correlation coefficient?](https://janhove.github.io/teaching/2016/11/21/what-correlations-look-like)"
      ],
      "metadata": {
        "id": "gtcL0cWSEeK0"
      },
      "id": "gtcL0cWSEeK0"
    },
    {
      "cell_type": "markdown",
      "source": [],
      "metadata": {
        "id": "G7MaU9IE_IyE"
      },
      "id": "G7MaU9IE_IyE"
    }
  ]
}